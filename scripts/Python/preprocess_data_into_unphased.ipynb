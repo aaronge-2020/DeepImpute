{
 "cells": [
  {
   "cell_type": "code",
   "execution_count": null,
   "metadata": {},
   "outputs": [],
   "source": [
    "import torch\n",
    "import pandas as pd\n",
    "import numpy as np\n",
    "from torch.utils.data import TensorDataset, random_split, DataLoader\n",
    "import os\n",
    "\n",
    "# Set a random seed for reproducibility\n",
    "torch.manual_seed(42)\n",
    "\n",
    "folder_dir = \"../../Data/Filtered_training_data/\"\n",
    "output_dir = \"../../Data/Filtered_unphased_training_data/\"\n",
    "os.makedirs(output_dir, exist_ok=True)\n",
    "\n",
    "chromosome_number = 1\n",
    "for chromosome_number in range(chromosome_number, 23):\n",
    "    file_dir = folder_dir + f\"23AndMe_PRS313_merged_chr{chromosome_number}_matching.parquet\"\n",
    "    \n",
    "    # Load your data into a pandas DataFrame\n",
    "    data = pd.read_parquet(file_dir)\n",
    "    \n",
    "    # Combine haplotypes by adding them together\n",
    "    new_cols = []\n",
    "    for col in data.columns:\n",
    "        combined_col = f\"{col}_combined\"\n",
    "        new_cols.append(combined_col)\n",
    "        data[combined_col] = [sum(map(int, allele.split(\"|\"))) for allele in data[col]]\n",
    "    \n",
    "    # Reorder the columns\n",
    "    data = data[new_cols]\n",
    "    \n",
    "    # Convert all the values to booleans\n",
    "    data = data.astype(bool)\n",
    "    data.dtypes\n",
    "    \n",
    "    # Save the dataframe\n",
    "    output_file = output_dir + f\"23AndMe_PRS313_merged_chr{chromosome_number}_matching_combined.parquet\"\n",
    "    data.to_parquet(output_file)"
   ]
  }
 ],
 "metadata": {
  "language_info": {
   "name": "python"
  }
 },
 "nbformat": 4,
 "nbformat_minor": 2
}
