{
 "cells": [
  {
   "cell_type": "code",
   "execution_count": 1,
   "metadata": {},
   "outputs": [
    {
     "name": "stdout",
     "output_type": "stream",
     "text": [
      "X_test sample IDs saved to ../../../Data/model_results_unphased_all_PRS/linear_regression/csv_files/X_test_sample_ids.txt\n"
     ]
    }
   ],
   "source": [
    "import numpy as np\n",
    "import pandas as pd\n",
    "import torch\n",
    "import os\n",
    "from sklearn.model_selection import train_test_split\n",
    "\n",
    "# Load and preprocess the data\n",
    "data_directory = '../../../Data/Filtered_unphased_training_data_union_final/'\n",
    "output_folder = \"../../../Data/model_results_unphased_all_PRS/linear_regression/\"\n",
    "csv_folder = output_folder + \"csv_files/\"\n",
    "os.makedirs(csv_folder, exist_ok=True)\n",
    "\n",
    "file_name = data_directory + \"23AndMe_PRS313_merged_chr2_matching_combined.parquet\"\n",
    "data = pd.read_parquet(file_name)\n",
    "\n",
    "# Split the data into features and target\n",
    "X = data.filter(regex='^(?!.*PRS313_)')\n",
    "y = data.filter(regex='PRS313_')\n",
    "sample_ids = data.index.values  # Assuming sample IDs are in the index\n",
    "\n",
    "# Save the y dataframe\n",
    "y.to_csv(data_directory + \"true_labels_y_test.csv\")\n",
    "\n",
    "# Split the data into train-validation and test sets\n",
    "X_train_val, X_test, y_train_val, y_test, sample_train_val, sample_test = train_test_split(\n",
    "    X, y, sample_ids, test_size=0.2, random_state=42)\n",
    "\n",
    "# Save sample IDs of X_test to a file\n",
    "x_test_sample_ids_file = csv_folder + \"X_test_sample_ids.txt\"\n",
    "np.savetxt(x_test_sample_ids_file, sample_test, fmt='%s')\n",
    "\n",
    "print(f\"X_test sample IDs saved to {x_test_sample_ids_file}\")\n"
   ]
  },
  {
   "cell_type": "code",
   "execution_count": 6,
   "metadata": {},
   "outputs": [],
   "source": [
    "import os\n",
    "from sklearn.model_selection import train_test_split\n",
    "import pandas as pd\n",
    "\n",
    "data_directory = '../../../Data/Filtered_unphased_training_data_union_final/'\n",
    "\n",
    "output_dir = \"../../../Data/y_test_labels_unphased/\"\n",
    "os.makedirs(output_dir, exist_ok=True)\n",
    "for i in range(1, 23):\n",
    "    file_name = data_directory + \\\n",
    "        f\"23AndMe_PRS313_merged_chr{i}_matching_combined.parquet\"\n",
    "    data = pd.read_parquet(file_name)\n",
    "\n",
    "    # Split the data into features and target\n",
    "    X = data.filter(regex='^(?!.*PRS313_)')\n",
    "    y = data.filter(regex='PRS313_')\n",
    "    sample_ids = data.index.values  # Assuming sample IDs are in the index\n",
    "\n",
    "    # Split the data into train-validation and test sets\n",
    "    X_train_val, X_test, y_train_val, y_test, sample_train_val, sample_test = train_test_split(\n",
    "        X, y, sample_ids, test_size=0.2, random_state=42)\n",
    "\n",
    "    # Save the y dataframe\n",
    "    y_test.to_csv(output_dir + f\"chr{i}_true_labels_y_test.csv\")"
   ]
  }
 ],
 "metadata": {
  "kernelspec": {
   "display_name": ".venv",
   "language": "python",
   "name": "python3"
  },
  "language_info": {
   "codemirror_mode": {
    "name": "ipython",
    "version": 3
   },
   "file_extension": ".py",
   "mimetype": "text/x-python",
   "name": "python",
   "nbconvert_exporter": "python",
   "pygments_lexer": "ipython3",
   "version": "3.11.1"
  }
 },
 "nbformat": 4,
 "nbformat_minor": 2
}
