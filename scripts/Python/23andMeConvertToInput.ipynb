{
 "cells": [
  {
   "cell_type": "code",
   "execution_count": 38,
   "metadata": {},
   "outputs": [
    {
     "name": "stderr",
     "output_type": "stream",
     "text": [
      "/var/folders/yg/982c10113957_2gb06y92y35sx509h/T/ipykernel_29894/3542574709.py:7: DtypeWarning: Columns (1) have mixed types. Specify dtype option on import or set low_memory=False.\n",
      "  andme_data = pd.read_csv(andme_data_path, sep='\\t', comment='#', header=None, names=['rsid', 'chromosome', 'position', 'genotype'])\n"
     ]
    }
   ],
   "source": [
    "import pandas as pd\n",
    "import numpy as np\n",
    "\n",
    "def process_23andme_data(position_info_path, andme_data_path, output_path):\n",
    "    def read_data(position_info_path, andme_data_path):\n",
    "        position_info = pd.read_csv(position_info_path)\n",
    "        andme_data = pd.read_csv(andme_data_path, sep='\\t', comment='#', header=None, names=['rsid', 'chromosome', 'position', 'genotype'])\n",
    "        return position_info, andme_data\n",
    "\n",
    "    def merge_data(position_info, andme_data):\n",
    "        return pd.merge(position_info, andme_data, left_on='RS_Number', right_on='rsid', how='left')\n",
    "\n",
    "    def create_allele_columns(data):\n",
    "        data['maternal_allele'] = data['genotype'].str[0]\n",
    "        data['paternal_allele'] = data['genotype'].str[1]\n",
    "        return data\n",
    "\n",
    "    def calc_dosage(allele, alt_allele):\n",
    "        return np.where(pd.isna(allele) | pd.isna(alt_allele), np.nan, np.where(allele == alt_allele, 1, 0))\n",
    "\n",
    "    def apply_dosage_calculation(data):\n",
    "        data['maternal_dosage'] = calc_dosage(data['maternal_allele'], data['Alt'])\n",
    "        data['paternal_dosage'] = calc_dosage(data['paternal_allele'], data['Alt'])\n",
    "        data['unphased_dosage'] = data['maternal_dosage'] + data['paternal_dosage']\n",
    "        return data\n",
    "\n",
    "    def create_phased_columns(data):\n",
    "        coord_prefix = data['Coord'].str.split(':').str[0]\n",
    "        position = data['Coord'].str.split(':').str[1]\n",
    "        ref = data['Alleles'].apply(lambda x: x.split('/')[0][1])\n",
    "        alt = data['Alleles'].apply(lambda x: x.split('/')[1][0])\n",
    "        data['phased_column_maternal'] = coord_prefix + '_' + position + '_' + ref + '_' + alt + '_maternal'\n",
    "        data['phased_column_paternal'] = coord_prefix + '_' + position + '_' + ref + '_' + alt + '_paternal'\n",
    "        data['unphased_column'] = coord_prefix + '_' + position + '_' + ref + '_' + alt + '_combined'\n",
    "        return data\n",
    "\n",
    "    def create_output_dataframe(data):\n",
    "        new_data = {\n",
    "            **dict(zip(data[\"phased_column_maternal\"], data[\"maternal_dosage\"])),\n",
    "            **dict(zip(data[\"phased_column_paternal\"], data[\"paternal_dosage\"])),\n",
    "            **dict(zip(data[\"unphased_column\"], data[\"unphased_dosage\"]))\n",
    "        }\n",
    "        df = pd.DataFrame([new_data])\n",
    "        return df.sort_index(axis=1)\n",
    "\n",
    "    def save_to_csv(df, output_path):\n",
    "        df.to_csv(output_path, index=False)\n",
    "\n",
    "    # Pipeline execution\n",
    "    position_info, andme_data = read_data(position_info_path, andme_data_path)\n",
    "    merged_data = merge_data(position_info, andme_data)\n",
    "    merged_data = create_allele_columns(merged_data)\n",
    "    merged_data = apply_dosage_calculation(merged_data)\n",
    "    merged_data = create_phased_columns(merged_data)\n",
    "    output_df = create_output_dataframe(merged_data)\n",
    "    save_to_csv(output_df, output_path)\n",
    "    return output_df\n",
    "\n",
    "# Example usage:\n",
    "dat = process_23andme_data('../../Data/Filtered_unphased_training_data_union_final/23andMe_matching_variants_updated.csv', \n",
    "                     '../../Data/23andMe_files/11703.23andme.9619.txt', \n",
    "                     'output.csv')\n"
   ]
  },
  {
   "cell_type": "code",
   "execution_count": 39,
   "metadata": {},
   "outputs": [],
   "source": [
    "import os\n",
    "import pandas as pd\n",
    "# Load and preprocess the data\n",
    "data_directory = '../../Data/Filtered_unphased_training_data_union_final/'\n",
    "\n",
    "# Initialize lists to store the performance metrics for each chromosome\n",
    "r2_scores = []\n",
    "iqs_scores = []\n",
    "accuracy_scores = []\n",
    "\n",
    "\n",
    "chromosome_number = 1\n",
    "\n",
    "file_name = data_directory + f\"23AndMe_PRS313_merged_chr{chromosome_number}_matching_combined.parquet\"\n",
    "data = pd.read_parquet(file_name)\n",
    "\n",
    "# Get all the chromosome 1 variants\n",
    "chr = dat.filter(regex=f'^chr{chromosome_number}_', axis=1)\n"
   ]
  },
  {
   "cell_type": "code",
   "execution_count": 40,
   "metadata": {},
   "outputs": [
    {
     "data": {
      "text/plain": [
       "915.0"
      ]
     },
     "execution_count": 40,
     "metadata": {},
     "output_type": "execute_result"
    }
   ],
   "source": [
    "chr.shape[1]/3"
   ]
  },
  {
   "cell_type": "code",
   "execution_count": 41,
   "metadata": {},
   "outputs": [
    {
     "data": {
      "text/plain": [
       "37"
      ]
     },
     "execution_count": 41,
     "metadata": {},
     "output_type": "execute_result"
    }
   ],
   "source": [
    "# Get the columns in data but not in chr\n",
    "missing_columns = data.columns.difference(chr.columns)\n",
    "len(missing_columns)"
   ]
  },
  {
   "cell_type": "code",
   "execution_count": 42,
   "metadata": {},
   "outputs": [
    {
     "data": {
      "text/plain": [
       "Index(['chr1_100880328_A_T_PRS313_Unknown_combined',\n",
       "       'chr1_10566215_A_G_PRS313_Known_combined',\n",
       "       'chr1_110198129_CAAA_C_PRS313_Unknown_combined',\n",
       "       'chr1_114445880_G_A_PRS313_Unknown_combined',\n",
       "       'chr1_118141492_A_C_PRS313_Unknown_combined',\n",
       "       'chr1_120257110_T_C_PRS313_Known_combined',\n",
       "       'chr1_121280613_A_G_PRS313_Known_combined',\n",
       "       'chr1_121287994_A_G_PRS313_Unknown_combined',\n",
       "       'chr1_145604302_C_CT_PRS313_Unknown_combined',\n",
       "       'chr1_149906413_T_C_PRS313_Known_combined',\n",
       "       'chr1_155556971_G_A_PRS313_Unknown_combined',\n",
       "       'chr1_168133974_AC_A_combined',\n",
       "       'chr1_168171052_CA_C_PRS313_Unknown_combined',\n",
       "       'chr1_172328767_T_TA_PRS313_Unknown_combined',\n",
       "       'chr1_172730160_T_TGTGC_combined',\n",
       "       'chr1_18807339_T_C_PRS313_Known_combined',\n",
       "       'chr1_201437832_C_T_PRS313_Known_combined',\n",
       "       'chr1_202184600_C_T_PRS313_Unknown_combined',\n",
       "       'chr1_203770448_T_A_PRS313_Unknown_combined',\n",
       "       'chr1_204388877_GT_G_combined', 'chr1_204388877_G_A_combined',\n",
       "       'chr1_204491530_AT_A_combined', 'chr1_204491530_A_T_combined',\n",
       "       'chr1_204502514_T_TTCTGAAACAGGG_PRS313_Unknown_combined',\n",
       "       'chr1_208076291_G_A_PRS313_Unknown_combined',\n",
       "       'chr1_208356952_AG_A_combined',\n",
       "       'chr1_217053815_T_G_PRS313_Unknown_combined',\n",
       "       'chr1_217220574_G_A_PRS313_Known_combined',\n",
       "       'chr1_220671050_C_T_PRS313_Unknown_combined',\n",
       "       'chr1_242034263_A_G_PRS313_Known_combined',\n",
       "       'chr1_41380440_C_T_PRS313_Known_combined',\n",
       "       'chr1_41389220_T_C_PRS313_Unknown_combined',\n",
       "       'chr1_46670206_TC_T_PRS313_Unknown_combined',\n",
       "       'chr1_51467096_CT_C_PRS313_Unknown_combined',\n",
       "       'chr1_7917076_G_A_PRS313_Unknown_combined',\n",
       "       'chr1_88156923_G_A_PRS313_Known_combined',\n",
       "       'chr1_88428199_C_A_PRS313_Unknown_combined'],\n",
       "      dtype='object')"
      ]
     },
     "execution_count": 42,
     "metadata": {},
     "output_type": "execute_result"
    }
   ],
   "source": [
    "missing_columns"
   ]
  }
 ],
 "metadata": {
  "kernelspec": {
   "display_name": ".venv",
   "language": "python",
   "name": "python3"
  },
  "language_info": {
   "codemirror_mode": {
    "name": "ipython",
    "version": 3
   },
   "file_extension": ".py",
   "mimetype": "text/x-python",
   "name": "python",
   "nbconvert_exporter": "python",
   "pygments_lexer": "ipython3",
   "version": "3.11.1"
  }
 },
 "nbformat": 4,
 "nbformat_minor": 2
}
