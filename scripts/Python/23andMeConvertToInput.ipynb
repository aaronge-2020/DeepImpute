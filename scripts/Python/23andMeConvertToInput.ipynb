{
 "cells": [
  {
   "cell_type": "code",
   "execution_count": 1,
   "metadata": {},
   "outputs": [
    {
     "name": "stderr",
     "output_type": "stream",
     "text": [
      "/var/folders/yg/982c10113957_2gb06y92y35sx509h/T/ipykernel_6797/3455609342.py:8: DtypeWarning: Columns (1) have mixed types. Specify dtype option on import or set low_memory=False.\n",
      "  andme_data = pd.read_csv('../../Data/23andMe_files/6800.23andme.10042.txt', sep='\\t', comment='#', header=None, names=['rsid', 'chromosome', 'position', 'genotype'])\n"
     ]
    },
    {
     "ename": "KeyboardInterrupt",
     "evalue": "",
     "output_type": "error",
     "traceback": [
      "\u001b[0;31m---------------------------------------------------------------------------\u001b[0m",
      "\u001b[0;31mKeyboardInterrupt\u001b[0m                         Traceback (most recent call last)",
      "Cell \u001b[0;32mIn[1], line 43\u001b[0m\n\u001b[1;32m     40\u001b[0m phased_dosage_data \u001b[38;5;241m=\u001b[39m pd\u001b[38;5;241m.\u001b[39mmerge(phased_dosage_data_maternal, phased_dosage_data_paternal, on\u001b[38;5;241m=\u001b[39m\u001b[38;5;124m'\u001b[39m\u001b[38;5;124mRS_Number\u001b[39m\u001b[38;5;124m'\u001b[39m, how\u001b[38;5;241m=\u001b[39m\u001b[38;5;124m'\u001b[39m\u001b[38;5;124mouter\u001b[39m\u001b[38;5;124m'\u001b[39m)\n\u001b[1;32m     42\u001b[0m \u001b[38;5;66;03m# Prepare unphased dosage data by grouping and pivoting\u001b[39;00m\n\u001b[0;32m---> 43\u001b[0m unphased_dosage_data \u001b[38;5;241m=\u001b[39m \u001b[43mmerged_data\u001b[49m\u001b[38;5;241m.\u001b[39mpivot_table(index\u001b[38;5;241m=\u001b[39m\u001b[38;5;124m'\u001b[39m\u001b[38;5;124mRS_Number\u001b[39m\u001b[38;5;124m'\u001b[39m, columns\u001b[38;5;241m=\u001b[39m\u001b[38;5;124m'\u001b[39m\u001b[38;5;124munphased_column\u001b[39m\u001b[38;5;124m'\u001b[39m, values\u001b[38;5;241m=\u001b[39m\u001b[38;5;124m'\u001b[39m\u001b[38;5;124munphased_dosage\u001b[39m\u001b[38;5;124m'\u001b[39m, aggfunc\u001b[38;5;241m=\u001b[39m\u001b[38;5;124m'\u001b[39m\u001b[38;5;124mfirst\u001b[39m\u001b[38;5;124m'\u001b[39m)\u001b[38;5;241m.\u001b[39mreset_index()\n\u001b[1;32m     45\u001b[0m \u001b[38;5;66;03m# Save the phased and unphased dosage data to separate CSV files\u001b[39;00m\n\u001b[1;32m     46\u001b[0m phased_dosage_data\u001b[38;5;241m.\u001b[39mto_csv(\u001b[38;5;124m'\u001b[39m\u001b[38;5;124mphased_dosage_data.csv\u001b[39m\u001b[38;5;124m'\u001b[39m, index\u001b[38;5;241m=\u001b[39m\u001b[38;5;28;01mFalse\u001b[39;00m)\n",
      "Cell \u001b[0;32mIn[1], line 43\u001b[0m\n\u001b[1;32m     40\u001b[0m phased_dosage_data \u001b[38;5;241m=\u001b[39m pd\u001b[38;5;241m.\u001b[39mmerge(phased_dosage_data_maternal, phased_dosage_data_paternal, on\u001b[38;5;241m=\u001b[39m\u001b[38;5;124m'\u001b[39m\u001b[38;5;124mRS_Number\u001b[39m\u001b[38;5;124m'\u001b[39m, how\u001b[38;5;241m=\u001b[39m\u001b[38;5;124m'\u001b[39m\u001b[38;5;124mouter\u001b[39m\u001b[38;5;124m'\u001b[39m)\n\u001b[1;32m     42\u001b[0m \u001b[38;5;66;03m# Prepare unphased dosage data by grouping and pivoting\u001b[39;00m\n\u001b[0;32m---> 43\u001b[0m unphased_dosage_data \u001b[38;5;241m=\u001b[39m \u001b[43mmerged_data\u001b[49m\u001b[38;5;241m.\u001b[39mpivot_table(index\u001b[38;5;241m=\u001b[39m\u001b[38;5;124m'\u001b[39m\u001b[38;5;124mRS_Number\u001b[39m\u001b[38;5;124m'\u001b[39m, columns\u001b[38;5;241m=\u001b[39m\u001b[38;5;124m'\u001b[39m\u001b[38;5;124munphased_column\u001b[39m\u001b[38;5;124m'\u001b[39m, values\u001b[38;5;241m=\u001b[39m\u001b[38;5;124m'\u001b[39m\u001b[38;5;124munphased_dosage\u001b[39m\u001b[38;5;124m'\u001b[39m, aggfunc\u001b[38;5;241m=\u001b[39m\u001b[38;5;124m'\u001b[39m\u001b[38;5;124mfirst\u001b[39m\u001b[38;5;124m'\u001b[39m)\u001b[38;5;241m.\u001b[39mreset_index()\n\u001b[1;32m     45\u001b[0m \u001b[38;5;66;03m# Save the phased and unphased dosage data to separate CSV files\u001b[39;00m\n\u001b[1;32m     46\u001b[0m phased_dosage_data\u001b[38;5;241m.\u001b[39mto_csv(\u001b[38;5;124m'\u001b[39m\u001b[38;5;124mphased_dosage_data.csv\u001b[39m\u001b[38;5;124m'\u001b[39m, index\u001b[38;5;241m=\u001b[39m\u001b[38;5;28;01mFalse\u001b[39;00m)\n",
      "File \u001b[0;32m~/Library/Python/3.11/lib/python/site-packages/debugpy/_vendored/pydevd/_pydevd_bundle/pydevd_frame.py:988\u001b[0m, in \u001b[0;36mPyDBFrame.trace_dispatch\u001b[0;34m(self, frame, event, arg)\u001b[0m\n\u001b[1;32m    986\u001b[0m \u001b[38;5;66;03m# if thread has a suspend flag, we suspend with a busy wait\u001b[39;00m\n\u001b[1;32m    987\u001b[0m \u001b[38;5;28;01mif\u001b[39;00m info\u001b[38;5;241m.\u001b[39mpydev_state \u001b[38;5;241m==\u001b[39m STATE_SUSPEND:\n\u001b[0;32m--> 988\u001b[0m     \u001b[38;5;28;43mself\u001b[39;49m\u001b[38;5;241;43m.\u001b[39;49m\u001b[43mdo_wait_suspend\u001b[49m\u001b[43m(\u001b[49m\u001b[43mthread\u001b[49m\u001b[43m,\u001b[49m\u001b[43m \u001b[49m\u001b[43mframe\u001b[49m\u001b[43m,\u001b[49m\u001b[43m \u001b[49m\u001b[43mevent\u001b[49m\u001b[43m,\u001b[49m\u001b[43m \u001b[49m\u001b[43marg\u001b[49m\u001b[43m)\u001b[49m\n\u001b[1;32m    989\u001b[0m     \u001b[38;5;28;01mreturn\u001b[39;00m \u001b[38;5;28mself\u001b[39m\u001b[38;5;241m.\u001b[39mtrace_dispatch\n\u001b[1;32m    990\u001b[0m \u001b[38;5;28;01melse\u001b[39;00m:\n",
      "File \u001b[0;32m~/Library/Python/3.11/lib/python/site-packages/debugpy/_vendored/pydevd/_pydevd_bundle/pydevd_frame.py:165\u001b[0m, in \u001b[0;36mPyDBFrame.do_wait_suspend\u001b[0;34m(self, *args, **kwargs)\u001b[0m\n\u001b[1;32m    164\u001b[0m \u001b[38;5;28;01mdef\u001b[39;00m \u001b[38;5;21mdo_wait_suspend\u001b[39m(\u001b[38;5;28mself\u001b[39m, \u001b[38;5;241m*\u001b[39margs, \u001b[38;5;241m*\u001b[39m\u001b[38;5;241m*\u001b[39mkwargs):\n\u001b[0;32m--> 165\u001b[0m     \u001b[38;5;28;43mself\u001b[39;49m\u001b[38;5;241;43m.\u001b[39;49m\u001b[43m_args\u001b[49m\u001b[43m[\u001b[49m\u001b[38;5;241;43m0\u001b[39;49m\u001b[43m]\u001b[49m\u001b[38;5;241;43m.\u001b[39;49m\u001b[43mdo_wait_suspend\u001b[49m\u001b[43m(\u001b[49m\u001b[38;5;241;43m*\u001b[39;49m\u001b[43margs\u001b[49m\u001b[43m,\u001b[49m\u001b[43m \u001b[49m\u001b[38;5;241;43m*\u001b[39;49m\u001b[38;5;241;43m*\u001b[39;49m\u001b[43mkwargs\u001b[49m\u001b[43m)\u001b[49m\n",
      "File \u001b[0;32m~/Library/Python/3.11/lib/python/site-packages/debugpy/_vendored/pydevd/pydevd.py:2070\u001b[0m, in \u001b[0;36mPyDB.do_wait_suspend\u001b[0;34m(self, thread, frame, event, arg, exception_type)\u001b[0m\n\u001b[1;32m   2067\u001b[0m             from_this_thread\u001b[38;5;241m.\u001b[39mappend(frame_custom_thread_id)\n\u001b[1;32m   2069\u001b[0m     \u001b[38;5;28;01mwith\u001b[39;00m \u001b[38;5;28mself\u001b[39m\u001b[38;5;241m.\u001b[39m_threads_suspended_single_notification\u001b[38;5;241m.\u001b[39mnotify_thread_suspended(thread_id, thread, stop_reason):\n\u001b[0;32m-> 2070\u001b[0m         keep_suspended \u001b[38;5;241m=\u001b[39m \u001b[38;5;28;43mself\u001b[39;49m\u001b[38;5;241;43m.\u001b[39;49m\u001b[43m_do_wait_suspend\u001b[49m\u001b[43m(\u001b[49m\u001b[43mthread\u001b[49m\u001b[43m,\u001b[49m\u001b[43m \u001b[49m\u001b[43mframe\u001b[49m\u001b[43m,\u001b[49m\u001b[43m \u001b[49m\u001b[43mevent\u001b[49m\u001b[43m,\u001b[49m\u001b[43m \u001b[49m\u001b[43marg\u001b[49m\u001b[43m,\u001b[49m\u001b[43m \u001b[49m\u001b[43msuspend_type\u001b[49m\u001b[43m,\u001b[49m\u001b[43m \u001b[49m\u001b[43mfrom_this_thread\u001b[49m\u001b[43m,\u001b[49m\u001b[43m \u001b[49m\u001b[43mframes_tracker\u001b[49m\u001b[43m)\u001b[49m\n\u001b[1;32m   2072\u001b[0m frames_list \u001b[38;5;241m=\u001b[39m \u001b[38;5;28;01mNone\u001b[39;00m\n\u001b[1;32m   2074\u001b[0m \u001b[38;5;28;01mif\u001b[39;00m keep_suspended:\n\u001b[1;32m   2075\u001b[0m     \u001b[38;5;66;03m# This means that we should pause again after a set next statement.\u001b[39;00m\n",
      "File \u001b[0;32m~/Library/Python/3.11/lib/python/site-packages/debugpy/_vendored/pydevd/pydevd.py:2106\u001b[0m, in \u001b[0;36mPyDB._do_wait_suspend\u001b[0;34m(self, thread, frame, event, arg, suspend_type, from_this_thread, frames_tracker)\u001b[0m\n\u001b[1;32m   2103\u001b[0m         \u001b[38;5;28mself\u001b[39m\u001b[38;5;241m.\u001b[39m_call_input_hook()\n\u001b[1;32m   2105\u001b[0m     \u001b[38;5;28mself\u001b[39m\u001b[38;5;241m.\u001b[39mprocess_internal_commands()\n\u001b[0;32m-> 2106\u001b[0m     time\u001b[38;5;241m.\u001b[39msleep(\u001b[38;5;241m0.01\u001b[39m)\n\u001b[1;32m   2108\u001b[0m \u001b[38;5;28mself\u001b[39m\u001b[38;5;241m.\u001b[39mcancel_async_evaluation(get_current_thread_id(thread), \u001b[38;5;28mstr\u001b[39m(\u001b[38;5;28mid\u001b[39m(frame)))\n\u001b[1;32m   2110\u001b[0m \u001b[38;5;66;03m# process any stepping instructions\u001b[39;00m\n",
      "\u001b[0;31mKeyboardInterrupt\u001b[0m: "
     ]
    }
   ],
   "source": [
    "import pandas as pd\n",
    "import numpy as np\n",
    "\n",
    "# Read the CSV file with position information\n",
    "position_info = pd.read_csv('../../Data/Filtered_unphased_training_data_union_final/23andMe_matching_variants_updated.csv')\n",
    "\n",
    "# Read the 23andMe data file\n",
    "andme_data = pd.read_csv('../../Data/23andMe_files/6800.23andme.10042.txt', sep='\\t', comment='#', header=None, names=['rsid', 'chromosome', 'position', 'genotype'])\n",
    "\n",
    "# Merge the position information with the 23andMe data based on rsid\n",
    "merged_data = pd.merge(position_info, andme_data, left_on='RS_Number', right_on='rsid', how='left')\n",
    "\n",
    "# Create columns for maternal and paternal dosages based on genotype\n",
    "merged_data['maternal_allele'] = merged_data['genotype'].str[0]\n",
    "merged_data['paternal_allele'] = merged_data['genotype'].str[1]\n",
    "\n",
    "# Function to calculate dosage\n",
    "def calc_dosage(allele, alt_allele):\n",
    "    return np.where(allele == alt_allele, 1, 0)\n",
    "\n",
    "# Apply the dosage calculation\n",
    "merged_data['maternal_dosage'] = calc_dosage(merged_data['maternal_allele'], merged_data['Alt'])\n",
    "merged_data['paternal_dosage'] = calc_dosage(merged_data['paternal_allele'], merged_data['Alt'])\n",
    "merged_data['unphased_dosage'] = merged_data['maternal_dosage'] + merged_data['paternal_dosage']\n",
    "\n",
    "# Create phased columns\n",
    "merged_data['phased_column_maternal'] = 'chr' + merged_data['chromosome'].astype(str) + '_' + merged_data['position'].astype(str) + '_' + merged_data['Ref'] + '_' + merged_data['Alt'] + '_maternal'\n",
    "merged_data['phased_column_paternal'] = 'chr' + merged_data['chromosome'].astype(str) + '_' + merged_data['position'].astype(str) + '_' + merged_data['Ref'] + '_' + merged_data['Alt'] + '_paternal'\n",
    "merged_data['unphased_column'] = 'chr' + merged_data['chromosome'].astype(str) + '_' + merged_data['position'].astype(str) + '_combined'\n",
    "\n",
    "# Filter rows with missing genotype data\n",
    "missing_genotype = merged_data['genotype'].isna()\n",
    "missing_rows = merged_data[missing_genotype]\n",
    "\n",
    "# Prepare phased dosage data by grouping and pivoting\n",
    "phased_dosage_data_maternal = merged_data.pivot_table(index='RS_Number', columns='phased_column_maternal', values='maternal_dosage', aggfunc='first').reset_index()\n",
    "phased_dosage_data_paternal = merged_data.pivot_table(index='RS_Number', columns='phased_column_paternal', values='paternal_dosage', aggfunc='first').reset_index()\n",
    "\n",
    "# Merge the maternal and paternal phased dosage data\n",
    "phased_dosage_data = pd.merge(phased_dosage_data_maternal, phased_dosage_data_paternal, on='RS_Number', how='outer')\n",
    "\n",
    "# Prepare unphased dosage data by grouping and pivoting\n",
    "unphased_dosage_data = merged_data.pivot_table(index='RS_Number', columns='unphased_column', values='unphased_dosage', aggfunc='first').reset_index()\n",
    "\n",
    "# Save the phased and unphased dosage data to separate CSV files\n",
    "phased_dosage_data.to_csv('phased_dosage_data.csv', index=False)\n",
    "unphased_dosage_data.to_csv('unphased_dosage_data.csv', index=False)\n"
   ]
  },
  {
   "cell_type": "code",
   "execution_count": 49,
   "metadata": {},
   "outputs": [
    {
     "name": "stderr",
     "output_type": "stream",
     "text": [
      "/var/folders/yg/982c10113957_2gb06y92y35sx509h/T/ipykernel_11873/1318033442.py:8: DtypeWarning: Columns (1) have mixed types. Specify dtype option on import or set low_memory=False.\n",
      "  andme_data = pd.read_csv('../../Data/23andMe_files/6800.23andme.10042.txt', sep='\\t', comment='#', header=None, names=['rsid', 'chromosome', 'position', 'genotype'])\n"
     ]
    }
   ],
   "source": [
    "import pandas as pd\n",
    "import numpy as np\n",
    "\n",
    "# Read the CSV file with position information\n",
    "position_info = pd.read_csv('../../Data/Filtered_unphased_training_data_union_final/23andMe_matching_variants_updated.csv')\n",
    "\n",
    "# Read the 23andMe data file\n",
    "andme_data = pd.read_csv('../../Data/23andMe_files/6800.23andme.10042.txt', sep='\\t', comment='#', header=None, names=['rsid', 'chromosome', 'position', 'genotype'])\n",
    "\n",
    "# Merge the position information with the 23andMe data based on rsid\n",
    "merged_data = pd.merge(position_info, andme_data, left_on='RS_Number', right_on='rsid', how='left')\n",
    "\n",
    "# Create columns for maternal and paternal dosages based on genotype\n",
    "merged_data['maternal_allele'] = merged_data['genotype'].str[0]\n",
    "merged_data['paternal_allele'] = merged_data['genotype'].str[1]\n",
    "\n",
    "# Function to calculate dosage\n",
    "def calc_dosage(allele, alt_allele):\n",
    "    return np.where(pd.isna(allele) | pd.isna(alt_allele), np.nan, np.where(allele == alt_allele, 1, 0))\n",
    "\n",
    "# Apply the dosage calculation\n",
    "merged_data['maternal_dosage'] = calc_dosage(merged_data['maternal_allele'], merged_data['Alt'])\n",
    "merged_data['paternal_dosage'] = calc_dosage(merged_data['paternal_allele'], merged_data['Alt'])\n",
    "merged_data['unphased_dosage'] = merged_data['maternal_dosage'] + merged_data['paternal_dosage']\n",
    "\n",
    "# Create phased columns\n",
    "merged_data['phased_column_maternal'] = 'chr' + merged_data['chromosome'].astype(str) + '_' + merged_data['position'].astype(str) + '_' + merged_data['Ref'] + '_' + merged_data['Alt'] + '_maternal'\n",
    "merged_data['phased_column_paternal'] = 'chr' + merged_data['chromosome'].astype(str) + '_' + merged_data['position'].astype(str) + '_' + merged_data['Ref'] + '_' + merged_data['Alt'] + '_paternal'\n",
    "merged_data['unphased_column'] = 'chr' + merged_data['chromosome'].astype(str) + '_' + merged_data['position'].astype(str) + '_combined'\n",
    "\n",
    "# Get all the NA values from the genotype column\n",
    "missing_genotype = merged_data['genotype'].isna()\n",
    "\n",
    "# Create a new dataframe with the desired columns and values\n",
    "new_data = {\n",
    "    **dict(zip(merged_data[\"phased_column_maternal\"], merged_data[\"maternal_dosage\"])),\n",
    "    **dict(zip(merged_data[\"phased_column_paternal\"], merged_data[\"paternal_dosage\"])),\n",
    "    **dict(zip(merged_data[\"unphased_column\"], merged_data[\"unphased_dosage\"]))\n",
    "}\n",
    "df = pd.DataFrame([new_data])\n",
    "df = df.sort_index(axis=1)\n"
   ]
  },
  {
   "cell_type": "code",
   "execution_count": 64,
   "metadata": {},
   "outputs": [
    {
     "name": "stderr",
     "output_type": "stream",
     "text": [
      "/var/folders/yg/982c10113957_2gb06y92y35sx509h/T/ipykernel_11873/2200609622.py:7: DtypeWarning: Columns (1) have mixed types. Specify dtype option on import or set low_memory=False.\n",
      "  andme_data = pd.read_csv(andme_data_path, sep='\\t', comment='#', header=None, names=['rsid', 'chromosome', 'position', 'genotype'])\n"
     ]
    },
    {
     "ename": "KeyboardInterrupt",
     "evalue": "",
     "output_type": "error",
     "traceback": [
      "\u001b[0;31m---------------------------------------------------------------------------\u001b[0m",
      "\u001b[0;31mKeyboardInterrupt\u001b[0m                         Traceback (most recent call last)",
      "Cell \u001b[0;32mIn[64], line 57\u001b[0m\n\u001b[1;32m     54\u001b[0m     save_to_csv(output_df, output_path)\n\u001b[1;32m     56\u001b[0m \u001b[38;5;66;03m# Example usage:\u001b[39;00m\n\u001b[0;32m---> 57\u001b[0m \u001b[43mprocess_23andme_data\u001b[49m\u001b[43m(\u001b[49m\u001b[38;5;124;43m'\u001b[39;49m\u001b[38;5;124;43m../../Data/Filtered_unphased_training_data_union_final/23andMe_matching_variants_updated.csv\u001b[39;49m\u001b[38;5;124;43m'\u001b[39;49m\u001b[43m,\u001b[49m\u001b[43m \u001b[49m\n\u001b[1;32m     58\u001b[0m \u001b[43m                     \u001b[49m\u001b[38;5;124;43m'\u001b[39;49m\u001b[38;5;124;43m../../Data/23andMe_files/6800.23andme.10042.txt\u001b[39;49m\u001b[38;5;124;43m'\u001b[39;49m\u001b[43m,\u001b[49m\u001b[43m \u001b[49m\n\u001b[1;32m     59\u001b[0m \u001b[43m                     \u001b[49m\u001b[38;5;124;43m'\u001b[39;49m\u001b[38;5;124;43moutput.csv\u001b[39;49m\u001b[38;5;124;43m'\u001b[39;49m\u001b[43m)\u001b[49m\n",
      "Cell \u001b[0;32mIn[64], line 54\u001b[0m, in \u001b[0;36mprocess_23andme_data\u001b[0;34m(position_info_path, andme_data_path, output_path)\u001b[0m\n\u001b[1;32m     52\u001b[0m merged_data \u001b[38;5;241m=\u001b[39m create_phased_columns(merged_data)\n\u001b[1;32m     53\u001b[0m output_df \u001b[38;5;241m=\u001b[39m create_output_dataframe(merged_data)\n\u001b[0;32m---> 54\u001b[0m save_to_csv(output_df, output_path)\n",
      "Cell \u001b[0;32mIn[64], line 54\u001b[0m, in \u001b[0;36mprocess_23andme_data\u001b[0;34m(position_info_path, andme_data_path, output_path)\u001b[0m\n\u001b[1;32m     52\u001b[0m merged_data \u001b[38;5;241m=\u001b[39m create_phased_columns(merged_data)\n\u001b[1;32m     53\u001b[0m output_df \u001b[38;5;241m=\u001b[39m create_output_dataframe(merged_data)\n\u001b[0;32m---> 54\u001b[0m save_to_csv(output_df, output_path)\n",
      "File \u001b[0;32m~/Library/Python/3.11/lib/python/site-packages/debugpy/_vendored/pydevd/_pydevd_bundle/pydevd_frame.py:988\u001b[0m, in \u001b[0;36mPyDBFrame.trace_dispatch\u001b[0;34m(self, frame, event, arg)\u001b[0m\n\u001b[1;32m    986\u001b[0m \u001b[38;5;66;03m# if thread has a suspend flag, we suspend with a busy wait\u001b[39;00m\n\u001b[1;32m    987\u001b[0m \u001b[38;5;28;01mif\u001b[39;00m info\u001b[38;5;241m.\u001b[39mpydev_state \u001b[38;5;241m==\u001b[39m STATE_SUSPEND:\n\u001b[0;32m--> 988\u001b[0m     \u001b[38;5;28;43mself\u001b[39;49m\u001b[38;5;241;43m.\u001b[39;49m\u001b[43mdo_wait_suspend\u001b[49m\u001b[43m(\u001b[49m\u001b[43mthread\u001b[49m\u001b[43m,\u001b[49m\u001b[43m \u001b[49m\u001b[43mframe\u001b[49m\u001b[43m,\u001b[49m\u001b[43m \u001b[49m\u001b[43mevent\u001b[49m\u001b[43m,\u001b[49m\u001b[43m \u001b[49m\u001b[43marg\u001b[49m\u001b[43m)\u001b[49m\n\u001b[1;32m    989\u001b[0m     \u001b[38;5;28;01mreturn\u001b[39;00m \u001b[38;5;28mself\u001b[39m\u001b[38;5;241m.\u001b[39mtrace_dispatch\n\u001b[1;32m    990\u001b[0m \u001b[38;5;28;01melse\u001b[39;00m:\n",
      "File \u001b[0;32m~/Library/Python/3.11/lib/python/site-packages/debugpy/_vendored/pydevd/_pydevd_bundle/pydevd_frame.py:165\u001b[0m, in \u001b[0;36mPyDBFrame.do_wait_suspend\u001b[0;34m(self, *args, **kwargs)\u001b[0m\n\u001b[1;32m    164\u001b[0m \u001b[38;5;28;01mdef\u001b[39;00m \u001b[38;5;21mdo_wait_suspend\u001b[39m(\u001b[38;5;28mself\u001b[39m, \u001b[38;5;241m*\u001b[39margs, \u001b[38;5;241m*\u001b[39m\u001b[38;5;241m*\u001b[39mkwargs):\n\u001b[0;32m--> 165\u001b[0m     \u001b[38;5;28;43mself\u001b[39;49m\u001b[38;5;241;43m.\u001b[39;49m\u001b[43m_args\u001b[49m\u001b[43m[\u001b[49m\u001b[38;5;241;43m0\u001b[39;49m\u001b[43m]\u001b[49m\u001b[38;5;241;43m.\u001b[39;49m\u001b[43mdo_wait_suspend\u001b[49m\u001b[43m(\u001b[49m\u001b[38;5;241;43m*\u001b[39;49m\u001b[43margs\u001b[49m\u001b[43m,\u001b[49m\u001b[43m \u001b[49m\u001b[38;5;241;43m*\u001b[39;49m\u001b[38;5;241;43m*\u001b[39;49m\u001b[43mkwargs\u001b[49m\u001b[43m)\u001b[49m\n",
      "File \u001b[0;32m~/Library/Python/3.11/lib/python/site-packages/debugpy/_vendored/pydevd/pydevd.py:2070\u001b[0m, in \u001b[0;36mPyDB.do_wait_suspend\u001b[0;34m(self, thread, frame, event, arg, exception_type)\u001b[0m\n\u001b[1;32m   2067\u001b[0m             from_this_thread\u001b[38;5;241m.\u001b[39mappend(frame_custom_thread_id)\n\u001b[1;32m   2069\u001b[0m     \u001b[38;5;28;01mwith\u001b[39;00m \u001b[38;5;28mself\u001b[39m\u001b[38;5;241m.\u001b[39m_threads_suspended_single_notification\u001b[38;5;241m.\u001b[39mnotify_thread_suspended(thread_id, thread, stop_reason):\n\u001b[0;32m-> 2070\u001b[0m         keep_suspended \u001b[38;5;241m=\u001b[39m \u001b[38;5;28;43mself\u001b[39;49m\u001b[38;5;241;43m.\u001b[39;49m\u001b[43m_do_wait_suspend\u001b[49m\u001b[43m(\u001b[49m\u001b[43mthread\u001b[49m\u001b[43m,\u001b[49m\u001b[43m \u001b[49m\u001b[43mframe\u001b[49m\u001b[43m,\u001b[49m\u001b[43m \u001b[49m\u001b[43mevent\u001b[49m\u001b[43m,\u001b[49m\u001b[43m \u001b[49m\u001b[43marg\u001b[49m\u001b[43m,\u001b[49m\u001b[43m \u001b[49m\u001b[43msuspend_type\u001b[49m\u001b[43m,\u001b[49m\u001b[43m \u001b[49m\u001b[43mfrom_this_thread\u001b[49m\u001b[43m,\u001b[49m\u001b[43m \u001b[49m\u001b[43mframes_tracker\u001b[49m\u001b[43m)\u001b[49m\n\u001b[1;32m   2072\u001b[0m frames_list \u001b[38;5;241m=\u001b[39m \u001b[38;5;28;01mNone\u001b[39;00m\n\u001b[1;32m   2074\u001b[0m \u001b[38;5;28;01mif\u001b[39;00m keep_suspended:\n\u001b[1;32m   2075\u001b[0m     \u001b[38;5;66;03m# This means that we should pause again after a set next statement.\u001b[39;00m\n",
      "File \u001b[0;32m~/Library/Python/3.11/lib/python/site-packages/debugpy/_vendored/pydevd/pydevd.py:2106\u001b[0m, in \u001b[0;36mPyDB._do_wait_suspend\u001b[0;34m(self, thread, frame, event, arg, suspend_type, from_this_thread, frames_tracker)\u001b[0m\n\u001b[1;32m   2103\u001b[0m         \u001b[38;5;28mself\u001b[39m\u001b[38;5;241m.\u001b[39m_call_input_hook()\n\u001b[1;32m   2105\u001b[0m     \u001b[38;5;28mself\u001b[39m\u001b[38;5;241m.\u001b[39mprocess_internal_commands()\n\u001b[0;32m-> 2106\u001b[0m     time\u001b[38;5;241m.\u001b[39msleep(\u001b[38;5;241m0.01\u001b[39m)\n\u001b[1;32m   2108\u001b[0m \u001b[38;5;28mself\u001b[39m\u001b[38;5;241m.\u001b[39mcancel_async_evaluation(get_current_thread_id(thread), \u001b[38;5;28mstr\u001b[39m(\u001b[38;5;28mid\u001b[39m(frame)))\n\u001b[1;32m   2110\u001b[0m \u001b[38;5;66;03m# process any stepping instructions\u001b[39;00m\n",
      "\u001b[0;31mKeyboardInterrupt\u001b[0m: "
     ]
    }
   ],
   "source": [
    "import pandas as pd\n",
    "import numpy as np\n",
    "\n",
    "def process_23andme_data(position_info_path, andme_data_path, output_path):\n",
    "    def read_data(position_info_path, andme_data_path):\n",
    "        position_info = pd.read_csv(position_info_path)\n",
    "        andme_data = pd.read_csv(andme_data_path, sep='\\t', comment='#', header=None, names=['rsid', 'chromosome', 'position', 'genotype'])\n",
    "        return position_info, andme_data\n",
    "\n",
    "    def merge_data(position_info, andme_data):\n",
    "        return pd.merge(position_info, andme_data, left_on='RS_Number', right_on='rsid', how='left')\n",
    "\n",
    "    def create_allele_columns(data):\n",
    "        data['maternal_allele'] = data['genotype'].str[0]\n",
    "        data['paternal_allele'] = data['genotype'].str[1]\n",
    "        return data\n",
    "\n",
    "    def calc_dosage(allele, alt_allele):\n",
    "        return np.where(pd.isna(allele) | pd.isna(alt_allele), np.nan, np.where(allele == alt_allele, 1, 0))\n",
    "\n",
    "    def apply_dosage_calculation(data):\n",
    "        data['maternal_dosage'] = calc_dosage(data['maternal_allele'], data['Alt'])\n",
    "        data['paternal_dosage'] = calc_dosage(data['paternal_allele'], data['Alt'])\n",
    "        data['unphased_dosage'] = data['maternal_dosage'] + data['paternal_dosage']\n",
    "        return data\n",
    "\n",
    "    def create_phased_columns(data):\n",
    "        coord_prefix = data['Coord'].str.split(':').str[0]\n",
    "        position = data['Coord'].str.split(':').str[1]\n",
    "        ref = data['Alleles'].apply(lambda x: x.split('/')[0][1])\n",
    "        alt = data['Alleles'].apply(lambda x: x.split('/')[1][0])\n",
    "        data['phased_column_maternal'] = coord_prefix + '_' + position + '_' + ref + '_' + alt + '_maternal'\n",
    "        data['phased_column_paternal'] = coord_prefix + '_' + position + '_' + ref + '_' + alt + '_paternal'\n",
    "        data['unphased_column'] = coord_prefix + '_' + position + '_' + ref + '_' + alt + '_combined'\n",
    "        return data\n",
    "\n",
    "    def create_output_dataframe(data):\n",
    "        new_data = {\n",
    "            **dict(zip(data[\"phased_column_maternal\"], data[\"maternal_dosage\"])),\n",
    "            **dict(zip(data[\"phased_column_paternal\"], data[\"paternal_dosage\"])),\n",
    "            **dict(zip(data[\"unphased_column\"], data[\"unphased_dosage\"]))\n",
    "        }\n",
    "        df = pd.DataFrame([new_data])\n",
    "        return df.sort_index(axis=1)\n",
    "\n",
    "    def save_to_csv(df, output_path):\n",
    "        df.to_csv(output_path, index=False)\n",
    "\n",
    "    # Pipeline execution\n",
    "    position_info, andme_data = read_data(position_info_path, andme_data_path)\n",
    "    merged_data = merge_data(position_info, andme_data)\n",
    "    merged_data = create_allele_columns(merged_data)\n",
    "    merged_data = apply_dosage_calculation(merged_data)\n",
    "    merged_data = create_phased_columns(merged_data)\n",
    "    output_df = create_output_dataframe(merged_data)\n",
    "    save_to_csv(output_df, output_path)\n",
    "\n",
    "# Example usage:\n",
    "process_23andme_data('../../Data/Filtered_unphased_training_data_union_final/23andMe_matching_variants_updated.csv', \n",
    "                     '../../Data/23andMe_files/6800.23andme.10042.txt', \n",
    "                     'output.csv')\n"
   ]
  },
  {
   "cell_type": "code",
   "execution_count": null,
   "metadata": {},
   "outputs": [],
   "source": [
    "# Create the new dictionary with the desired structure\n"
   ]
  }
 ],
 "metadata": {
  "kernelspec": {
   "display_name": ".venv",
   "language": "python",
   "name": "python3"
  },
  "language_info": {
   "codemirror_mode": {
    "name": "ipython",
    "version": 3
   },
   "file_extension": ".py",
   "mimetype": "text/x-python",
   "name": "python",
   "nbconvert_exporter": "python",
   "pygments_lexer": "ipython3",
   "version": "3.11.1"
  }
 },
 "nbformat": 4,
 "nbformat_minor": 2
}
