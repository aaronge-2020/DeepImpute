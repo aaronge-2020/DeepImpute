{
 "cells": [
  {
   "cell_type": "code",
   "execution_count": 20,
   "metadata": {},
   "outputs": [
    {
     "name": "stderr",
     "output_type": "stream",
     "text": [
      "/var/folders/yg/982c10113957_2gb06y92y35sx509h/T/ipykernel_57645/378530466.py:9: DtypeWarning: Columns (1) have mixed types. Specify dtype option on import or set low_memory=False.\n",
      "  ttAndMe = pd.read_csv(ExampleData, sep='\\t', comment='#', header=None, names=['rsid', 'chromosome', 'position', 'genotype'])\n"
     ]
    },
    {
     "data": {
      "text/html": [
       "<div>\n",
       "<style scoped>\n",
       "    .dataframe tbody tr th:only-of-type {\n",
       "        vertical-align: middle;\n",
       "    }\n",
       "\n",
       "    .dataframe tbody tr th {\n",
       "        vertical-align: top;\n",
       "    }\n",
       "\n",
       "    .dataframe thead th {\n",
       "        text-align: right;\n",
       "    }\n",
       "</style>\n",
       "<table border=\"1\" class=\"dataframe\">\n",
       "  <thead>\n",
       "    <tr style=\"text-align: right;\">\n",
       "      <th></th>\n",
       "      <th>SNPa</th>\n",
       "      <th>Chromosome</th>\n",
       "      <th>Positionb</th>\n",
       "      <th>Reference Allele</th>\n",
       "      <th>Effect Allele</th>\n",
       "      <th>EAFc</th>\n",
       "      <th>Overall Breast Cancerd</th>\n",
       "      <th>ER-positivee</th>\n",
       "      <th>ER-negativef</th>\n",
       "      <th>hybrid ER-positiveg</th>\n",
       "      <th>hybrid ER-negativeh</th>\n",
       "      <th>in_23andMe</th>\n",
       "      <th>rsid</th>\n",
       "    </tr>\n",
       "  </thead>\n",
       "  <tbody>\n",
       "    <tr>\n",
       "      <th>0</th>\n",
       "      <td>1_100880328_A_T</td>\n",
       "      <td>1</td>\n",
       "      <td>100880328</td>\n",
       "      <td>A</td>\n",
       "      <td>T</td>\n",
       "      <td>0.409678</td>\n",
       "      <td>0.0373</td>\n",
       "      <td>0.0355</td>\n",
       "      <td>0.0160</td>\n",
       "      <td>0.0373</td>\n",
       "      <td>0.0373</td>\n",
       "      <td>False</td>\n",
       "      <td>NaN</td>\n",
       "    </tr>\n",
       "    <tr>\n",
       "      <th>1</th>\n",
       "      <td>1_10566215_A_G</td>\n",
       "      <td>1</td>\n",
       "      <td>10566215</td>\n",
       "      <td>A</td>\n",
       "      <td>G</td>\n",
       "      <td>0.329016</td>\n",
       "      <td>-0.0586</td>\n",
       "      <td>-0.0407</td>\n",
       "      <td>-0.1109</td>\n",
       "      <td>-0.0407</td>\n",
       "      <td>-0.1109</td>\n",
       "      <td>True</td>\n",
       "      <td>rs616488</td>\n",
       "    </tr>\n",
       "    <tr>\n",
       "      <th>2</th>\n",
       "      <td>1_110198129_CAAA_C</td>\n",
       "      <td>1</td>\n",
       "      <td>110198129</td>\n",
       "      <td>CAAA</td>\n",
       "      <td>C</td>\n",
       "      <td>0.775478</td>\n",
       "      <td>0.0458</td>\n",
       "      <td>0.0545</td>\n",
       "      <td>0.0266</td>\n",
       "      <td>0.0458</td>\n",
       "      <td>0.0458</td>\n",
       "      <td>False</td>\n",
       "      <td>NaN</td>\n",
       "    </tr>\n",
       "    <tr>\n",
       "      <th>3</th>\n",
       "      <td>1_114445880_G_A</td>\n",
       "      <td>1</td>\n",
       "      <td>114445880</td>\n",
       "      <td>G</td>\n",
       "      <td>A</td>\n",
       "      <td>0.166363</td>\n",
       "      <td>0.0621</td>\n",
       "      <td>0.0642</td>\n",
       "      <td>0.0579</td>\n",
       "      <td>0.0621</td>\n",
       "      <td>0.0621</td>\n",
       "      <td>False</td>\n",
       "      <td>NaN</td>\n",
       "    </tr>\n",
       "    <tr>\n",
       "      <th>4</th>\n",
       "      <td>1_118141492_A_C</td>\n",
       "      <td>1</td>\n",
       "      <td>118141492</td>\n",
       "      <td>A</td>\n",
       "      <td>C</td>\n",
       "      <td>0.265682</td>\n",
       "      <td>0.0452</td>\n",
       "      <td>0.0417</td>\n",
       "      <td>0.0551</td>\n",
       "      <td>0.0452</td>\n",
       "      <td>0.0452</td>\n",
       "      <td>False</td>\n",
       "      <td>NaN</td>\n",
       "    </tr>\n",
       "    <tr>\n",
       "      <th>...</th>\n",
       "      <td>...</td>\n",
       "      <td>...</td>\n",
       "      <td>...</td>\n",
       "      <td>...</td>\n",
       "      <td>...</td>\n",
       "      <td>...</td>\n",
       "      <td>...</td>\n",
       "      <td>...</td>\n",
       "      <td>...</td>\n",
       "      <td>...</td>\n",
       "      <td>...</td>\n",
       "      <td>...</td>\n",
       "      <td>...</td>\n",
       "    </tr>\n",
       "    <tr>\n",
       "      <th>308</th>\n",
       "      <td>22_39343916_T_A</td>\n",
       "      <td>22</td>\n",
       "      <td>39343916</td>\n",
       "      <td>T</td>\n",
       "      <td>A</td>\n",
       "      <td>0.254083</td>\n",
       "      <td>0.0407</td>\n",
       "      <td>0.0326</td>\n",
       "      <td>0.0330</td>\n",
       "      <td>0.0407</td>\n",
       "      <td>0.0407</td>\n",
       "      <td>False</td>\n",
       "      <td>NaN</td>\n",
       "    </tr>\n",
       "    <tr>\n",
       "      <th>309</th>\n",
       "      <td>22_40904707_CT_C</td>\n",
       "      <td>22</td>\n",
       "      <td>40904707</td>\n",
       "      <td>CT</td>\n",
       "      <td>C</td>\n",
       "      <td>0.109871</td>\n",
       "      <td>0.1148</td>\n",
       "      <td>0.1160</td>\n",
       "      <td>0.1203</td>\n",
       "      <td>0.1148</td>\n",
       "      <td>0.1148</td>\n",
       "      <td>False</td>\n",
       "      <td>NaN</td>\n",
       "    </tr>\n",
       "    <tr>\n",
       "      <th>310</th>\n",
       "      <td>22_43433100_C_T</td>\n",
       "      <td>22</td>\n",
       "      <td>43433100</td>\n",
       "      <td>C</td>\n",
       "      <td>T</td>\n",
       "      <td>0.114445</td>\n",
       "      <td>-0.0600</td>\n",
       "      <td>-0.0585</td>\n",
       "      <td>-0.0515</td>\n",
       "      <td>-0.0600</td>\n",
       "      <td>-0.0600</td>\n",
       "      <td>False</td>\n",
       "      <td>NaN</td>\n",
       "    </tr>\n",
       "    <tr>\n",
       "      <th>311</th>\n",
       "      <td>22_45319953_G_A</td>\n",
       "      <td>22</td>\n",
       "      <td>45319953</td>\n",
       "      <td>G</td>\n",
       "      <td>A</td>\n",
       "      <td>0.416619</td>\n",
       "      <td>-0.0134</td>\n",
       "      <td>-0.0060</td>\n",
       "      <td>-0.0611</td>\n",
       "      <td>-0.0060</td>\n",
       "      <td>-0.0611</td>\n",
       "      <td>False</td>\n",
       "      <td>NaN</td>\n",
       "    </tr>\n",
       "    <tr>\n",
       "      <th>312</th>\n",
       "      <td>22_46283297_G_A</td>\n",
       "      <td>22</td>\n",
       "      <td>46283297</td>\n",
       "      <td>G</td>\n",
       "      <td>A</td>\n",
       "      <td>0.111687</td>\n",
       "      <td>0.0736</td>\n",
       "      <td>0.0719</td>\n",
       "      <td>0.0993</td>\n",
       "      <td>0.0736</td>\n",
       "      <td>0.0736</td>\n",
       "      <td>False</td>\n",
       "      <td>NaN</td>\n",
       "    </tr>\n",
       "  </tbody>\n",
       "</table>\n",
       "<p>313 rows × 13 columns</p>\n",
       "</div>"
      ],
      "text/plain": [
       "                   SNPa  Chromosome  Positionb Reference Allele Effect Allele  \\\n",
       "0       1_100880328_A_T           1  100880328                A             T   \n",
       "1        1_10566215_A_G           1   10566215                A             G   \n",
       "2    1_110198129_CAAA_C           1  110198129             CAAA             C   \n",
       "3       1_114445880_G_A           1  114445880                G             A   \n",
       "4       1_118141492_A_C           1  118141492                A             C   \n",
       "..                  ...         ...        ...              ...           ...   \n",
       "308     22_39343916_T_A          22   39343916                T             A   \n",
       "309    22_40904707_CT_C          22   40904707               CT             C   \n",
       "310     22_43433100_C_T          22   43433100                C             T   \n",
       "311     22_45319953_G_A          22   45319953                G             A   \n",
       "312     22_46283297_G_A          22   46283297                G             A   \n",
       "\n",
       "         EAFc  Overall Breast Cancerd  ER-positivee  ER-negativef  \\\n",
       "0    0.409678                  0.0373        0.0355        0.0160   \n",
       "1    0.329016                 -0.0586       -0.0407       -0.1109   \n",
       "2    0.775478                  0.0458        0.0545        0.0266   \n",
       "3    0.166363                  0.0621        0.0642        0.0579   \n",
       "4    0.265682                  0.0452        0.0417        0.0551   \n",
       "..        ...                     ...           ...           ...   \n",
       "308  0.254083                  0.0407        0.0326        0.0330   \n",
       "309  0.109871                  0.1148        0.1160        0.1203   \n",
       "310  0.114445                 -0.0600       -0.0585       -0.0515   \n",
       "311  0.416619                 -0.0134       -0.0060       -0.0611   \n",
       "312  0.111687                  0.0736        0.0719        0.0993   \n",
       "\n",
       "     hybrid ER-positiveg  hybrid ER-negativeh  in_23andMe      rsid  \n",
       "0                 0.0373               0.0373       False       NaN  \n",
       "1                -0.0407              -0.1109        True  rs616488  \n",
       "2                 0.0458               0.0458       False       NaN  \n",
       "3                 0.0621               0.0621       False       NaN  \n",
       "4                 0.0452               0.0452       False       NaN  \n",
       "..                   ...                  ...         ...       ...  \n",
       "308               0.0407               0.0407       False       NaN  \n",
       "309               0.1148               0.1148       False       NaN  \n",
       "310              -0.0600              -0.0600       False       NaN  \n",
       "311              -0.0060              -0.0611       False       NaN  \n",
       "312               0.0736               0.0736       False       NaN  \n",
       "\n",
       "[313 rows x 13 columns]"
      ]
     },
     "execution_count": 20,
     "metadata": {},
     "output_type": "execute_result"
    }
   ],
   "source": [
    "# Read the 23andMe raw data file and turn it into a dataframe\n",
    "import pandas as pd\n",
    "import numpy as np\n",
    "import sys\n",
    "\n",
    "ExampleData = \"../../Data/23andMe_files/genome_Chad_Wrye_v5_Full_20220921063742.txt\"\n",
    "\n",
    "# Read the text file into a DataFrame\n",
    "ttAndMe = pd.read_csv(ExampleData, sep='\\t', comment='#', header=None, names=['rsid', 'chromosome', 'position', 'genotype'])\n",
    "\n",
    "# Find all the positions in ttAndMe that are in PRS313 by identifying columns with the same position and chromosome\n",
    "PRS313 = pd.read_excel('../../Data/PRS313.xlsx')\n",
    "\n",
    "PRS313['in_23andMe'] = PRS313.apply(lambda x: ttAndMe[(ttAndMe['position'] == x['Positionb']) & (ttAndMe['chromosome'] == x['Chromosome'])].shape[0] > 0, axis=1)\n",
    "\n",
    "PRS313[(PRS313['in_23andMe'] == True) & (PRS313[\"Chromosome\"] == 1)]\n",
    "\n",
    "PRS313.to_excel('../../Data/PRS313_with_23andMe.xlsx', index=False)\n",
    "\n",
    "PRS313"
   ]
  },
  {
   "cell_type": "code",
   "execution_count": 65,
   "metadata": {},
   "outputs": [
    {
     "name": "stderr",
     "output_type": "stream",
     "text": [
      "/var/folders/yg/982c10113957_2gb06y92y35sx509h/T/ipykernel_57645/4104968455.py:24: DtypeWarning: Columns (1) have mixed types. Specify dtype option on import or set low_memory=False.\n",
      "  ttAndMe = pd.read_csv(file_path, sep='\\t', comment='#', header=None, names=['rsid', 'chromosome', 'position', 'genotype'])\n",
      "/var/folders/yg/982c10113957_2gb06y92y35sx509h/T/ipykernel_57645/4104968455.py:24: DtypeWarning: Columns (1) have mixed types. Specify dtype option on import or set low_memory=False.\n",
      "  ttAndMe = pd.read_csv(file_path, sep='\\t', comment='#', header=None, names=['rsid', 'chromosome', 'position', 'genotype'])\n",
      "/var/folders/yg/982c10113957_2gb06y92y35sx509h/T/ipykernel_57645/4104968455.py:24: DtypeWarning: Columns (1) have mixed types. Specify dtype option on import or set low_memory=False.\n",
      "  ttAndMe = pd.read_csv(file_path, sep='\\t', comment='#', header=None, names=['rsid', 'chromosome', 'position', 'genotype'])\n",
      "/var/folders/yg/982c10113957_2gb06y92y35sx509h/T/ipykernel_57645/4104968455.py:24: DtypeWarning: Columns (1) have mixed types. Specify dtype option on import or set low_memory=False.\n",
      "  ttAndMe = pd.read_csv(file_path, sep='\\t', comment='#', header=None, names=['rsid', 'chromosome', 'position', 'genotype'])\n",
      "/var/folders/yg/982c10113957_2gb06y92y35sx509h/T/ipykernel_57645/4104968455.py:24: DtypeWarning: Columns (1) have mixed types. Specify dtype option on import or set low_memory=False.\n",
      "  ttAndMe = pd.read_csv(file_path, sep='\\t', comment='#', header=None, names=['rsid', 'chromosome', 'position', 'genotype'])\n",
      "/var/folders/yg/982c10113957_2gb06y92y35sx509h/T/ipykernel_57645/4104968455.py:24: DtypeWarning: Columns (1) have mixed types. Specify dtype option on import or set low_memory=False.\n",
      "  ttAndMe = pd.read_csv(file_path, sep='\\t', comment='#', header=None, names=['rsid', 'chromosome', 'position', 'genotype'])\n",
      "/var/folders/yg/982c10113957_2gb06y92y35sx509h/T/ipykernel_57645/4104968455.py:24: DtypeWarning: Columns (1) have mixed types. Specify dtype option on import or set low_memory=False.\n",
      "  ttAndMe = pd.read_csv(file_path, sep='\\t', comment='#', header=None, names=['rsid', 'chromosome', 'position', 'genotype'])\n",
      "/var/folders/yg/982c10113957_2gb06y92y35sx509h/T/ipykernel_57645/4104968455.py:24: DtypeWarning: Columns (1) have mixed types. Specify dtype option on import or set low_memory=False.\n",
      "  ttAndMe = pd.read_csv(file_path, sep='\\t', comment='#', header=None, names=['rsid', 'chromosome', 'position', 'genotype'])\n",
      "/var/folders/yg/982c10113957_2gb06y92y35sx509h/T/ipykernel_57645/4104968455.py:24: DtypeWarning: Columns (1) have mixed types. Specify dtype option on import or set low_memory=False.\n",
      "  ttAndMe = pd.read_csv(file_path, sep='\\t', comment='#', header=None, names=['rsid', 'chromosome', 'position', 'genotype'])\n",
      "/var/folders/yg/982c10113957_2gb06y92y35sx509h/T/ipykernel_57645/4104968455.py:24: DtypeWarning: Columns (1) have mixed types. Specify dtype option on import or set low_memory=False.\n",
      "  ttAndMe = pd.read_csv(file_path, sep='\\t', comment='#', header=None, names=['rsid', 'chromosome', 'position', 'genotype'])\n",
      "/var/folders/yg/982c10113957_2gb06y92y35sx509h/T/ipykernel_57645/4104968455.py:24: DtypeWarning: Columns (1) have mixed types. Specify dtype option on import or set low_memory=False.\n",
      "  ttAndMe = pd.read_csv(file_path, sep='\\t', comment='#', header=None, names=['rsid', 'chromosome', 'position', 'genotype'])\n",
      "/var/folders/yg/982c10113957_2gb06y92y35sx509h/T/ipykernel_57645/4104968455.py:24: DtypeWarning: Columns (1) have mixed types. Specify dtype option on import or set low_memory=False.\n",
      "  ttAndMe = pd.read_csv(file_path, sep='\\t', comment='#', header=None, names=['rsid', 'chromosome', 'position', 'genotype'])\n"
     ]
    },
    {
     "name": "stdout",
     "output_type": "stream",
     "text": [
      "Error processing file 11854.23andme.9737.txt: 'utf-8' codec can't decode bytes in position 15-16: invalid continuation byte\n"
     ]
    },
    {
     "name": "stderr",
     "output_type": "stream",
     "text": [
      "/var/folders/yg/982c10113957_2gb06y92y35sx509h/T/ipykernel_57645/4104968455.py:24: DtypeWarning: Columns (1) have mixed types. Specify dtype option on import or set low_memory=False.\n",
      "  ttAndMe = pd.read_csv(file_path, sep='\\t', comment='#', header=None, names=['rsid', 'chromosome', 'position', 'genotype'])\n"
     ]
    },
    {
     "name": "stdout",
     "output_type": "stream",
     "text": [
      "Error processing file 11822.23andme.9707.txt: 'utf-8' codec can't decode byte 0xc7 in position 10: invalid continuation byte\n"
     ]
    },
    {
     "name": "stderr",
     "output_type": "stream",
     "text": [
      "/var/folders/yg/982c10113957_2gb06y92y35sx509h/T/ipykernel_57645/4104968455.py:24: DtypeWarning: Columns (1) have mixed types. Specify dtype option on import or set low_memory=False.\n",
      "  ttAndMe = pd.read_csv(file_path, sep='\\t', comment='#', header=None, names=['rsid', 'chromosome', 'position', 'genotype'])\n",
      "/var/folders/yg/982c10113957_2gb06y92y35sx509h/T/ipykernel_57645/4104968455.py:24: DtypeWarning: Columns (1) have mixed types. Specify dtype option on import or set low_memory=False.\n",
      "  ttAndMe = pd.read_csv(file_path, sep='\\t', comment='#', header=None, names=['rsid', 'chromosome', 'position', 'genotype'])\n",
      "/var/folders/yg/982c10113957_2gb06y92y35sx509h/T/ipykernel_57645/4104968455.py:24: DtypeWarning: Columns (1) have mixed types. Specify dtype option on import or set low_memory=False.\n",
      "  ttAndMe = pd.read_csv(file_path, sep='\\t', comment='#', header=None, names=['rsid', 'chromosome', 'position', 'genotype'])\n",
      "/var/folders/yg/982c10113957_2gb06y92y35sx509h/T/ipykernel_57645/4104968455.py:24: DtypeWarning: Columns (1) have mixed types. Specify dtype option on import or set low_memory=False.\n",
      "  ttAndMe = pd.read_csv(file_path, sep='\\t', comment='#', header=None, names=['rsid', 'chromosome', 'position', 'genotype'])\n",
      "/var/folders/yg/982c10113957_2gb06y92y35sx509h/T/ipykernel_57645/4104968455.py:24: DtypeWarning: Columns (1) have mixed types. Specify dtype option on import or set low_memory=False.\n",
      "  ttAndMe = pd.read_csv(file_path, sep='\\t', comment='#', header=None, names=['rsid', 'chromosome', 'position', 'genotype'])\n",
      "/var/folders/yg/982c10113957_2gb06y92y35sx509h/T/ipykernel_57645/4104968455.py:24: DtypeWarning: Columns (1) have mixed types. Specify dtype option on import or set low_memory=False.\n",
      "  ttAndMe = pd.read_csv(file_path, sep='\\t', comment='#', header=None, names=['rsid', 'chromosome', 'position', 'genotype'])\n",
      "/var/folders/yg/982c10113957_2gb06y92y35sx509h/T/ipykernel_57645/4104968455.py:24: DtypeWarning: Columns (1) have mixed types. Specify dtype option on import or set low_memory=False.\n",
      "  ttAndMe = pd.read_csv(file_path, sep='\\t', comment='#', header=None, names=['rsid', 'chromosome', 'position', 'genotype'])\n",
      "/var/folders/yg/982c10113957_2gb06y92y35sx509h/T/ipykernel_57645/4104968455.py:24: DtypeWarning: Columns (1) have mixed types. Specify dtype option on import or set low_memory=False.\n",
      "  ttAndMe = pd.read_csv(file_path, sep='\\t', comment='#', header=None, names=['rsid', 'chromosome', 'position', 'genotype'])\n",
      "/var/folders/yg/982c10113957_2gb06y92y35sx509h/T/ipykernel_57645/4104968455.py:24: DtypeWarning: Columns (1) have mixed types. Specify dtype option on import or set low_memory=False.\n",
      "  ttAndMe = pd.read_csv(file_path, sep='\\t', comment='#', header=None, names=['rsid', 'chromosome', 'position', 'genotype'])\n",
      "/var/folders/yg/982c10113957_2gb06y92y35sx509h/T/ipykernel_57645/4104968455.py:24: DtypeWarning: Columns (1) have mixed types. Specify dtype option on import or set low_memory=False.\n",
      "  ttAndMe = pd.read_csv(file_path, sep='\\t', comment='#', header=None, names=['rsid', 'chromosome', 'position', 'genotype'])\n",
      "/var/folders/yg/982c10113957_2gb06y92y35sx509h/T/ipykernel_57645/4104968455.py:24: DtypeWarning: Columns (1) have mixed types. Specify dtype option on import or set low_memory=False.\n",
      "  ttAndMe = pd.read_csv(file_path, sep='\\t', comment='#', header=None, names=['rsid', 'chromosome', 'position', 'genotype'])\n",
      "/var/folders/yg/982c10113957_2gb06y92y35sx509h/T/ipykernel_57645/4104968455.py:24: DtypeWarning: Columns (1) have mixed types. Specify dtype option on import or set low_memory=False.\n",
      "  ttAndMe = pd.read_csv(file_path, sep='\\t', comment='#', header=None, names=['rsid', 'chromosome', 'position', 'genotype'])\n",
      "/var/folders/yg/982c10113957_2gb06y92y35sx509h/T/ipykernel_57645/4104968455.py:24: DtypeWarning: Columns (1) have mixed types. Specify dtype option on import or set low_memory=False.\n",
      "  ttAndMe = pd.read_csv(file_path, sep='\\t', comment='#', header=None, names=['rsid', 'chromosome', 'position', 'genotype'])\n"
     ]
    },
    {
     "name": "stdout",
     "output_type": "stream",
     "text": [
      "Error processing file 12224.23andme.10069.txt: 'utf-8' codec can't decode byte 0x8b in position 1: invalid start byte\n"
     ]
    },
    {
     "name": "stderr",
     "output_type": "stream",
     "text": [
      "/var/folders/yg/982c10113957_2gb06y92y35sx509h/T/ipykernel_57645/4104968455.py:24: DtypeWarning: Columns (1) have mixed types. Specify dtype option on import or set low_memory=False.\n",
      "  ttAndMe = pd.read_csv(file_path, sep='\\t', comment='#', header=None, names=['rsid', 'chromosome', 'position', 'genotype'])\n",
      "/var/folders/yg/982c10113957_2gb06y92y35sx509h/T/ipykernel_57645/4104968455.py:24: DtypeWarning: Columns (1) have mixed types. Specify dtype option on import or set low_memory=False.\n",
      "  ttAndMe = pd.read_csv(file_path, sep='\\t', comment='#', header=None, names=['rsid', 'chromosome', 'position', 'genotype'])\n"
     ]
    },
    {
     "name": "stdout",
     "output_type": "stream",
     "text": [
      "Error processing file 12169.23andme.10018.txt: Error tokenizing data. C error: Expected 4 fields in line 618632, saw 5\n",
      "\n"
     ]
    },
    {
     "name": "stderr",
     "output_type": "stream",
     "text": [
      "/var/folders/yg/982c10113957_2gb06y92y35sx509h/T/ipykernel_57645/4104968455.py:24: DtypeWarning: Columns (1) have mixed types. Specify dtype option on import or set low_memory=False.\n",
      "  ttAndMe = pd.read_csv(file_path, sep='\\t', comment='#', header=None, names=['rsid', 'chromosome', 'position', 'genotype'])\n",
      "/var/folders/yg/982c10113957_2gb06y92y35sx509h/T/ipykernel_57645/4104968455.py:24: DtypeWarning: Columns (1) have mixed types. Specify dtype option on import or set low_memory=False.\n",
      "  ttAndMe = pd.read_csv(file_path, sep='\\t', comment='#', header=None, names=['rsid', 'chromosome', 'position', 'genotype'])\n"
     ]
    },
    {
     "name": "stdout",
     "output_type": "stream",
     "text": [
      "Error processing file 12283.23andme.10117.txt: 'utf-8' codec can't decode byte 0x8b in position 1: invalid start byte\n"
     ]
    },
    {
     "name": "stderr",
     "output_type": "stream",
     "text": [
      "/var/folders/yg/982c10113957_2gb06y92y35sx509h/T/ipykernel_57645/4104968455.py:24: DtypeWarning: Columns (1) have mixed types. Specify dtype option on import or set low_memory=False.\n",
      "  ttAndMe = pd.read_csv(file_path, sep='\\t', comment='#', header=None, names=['rsid', 'chromosome', 'position', 'genotype'])\n",
      "/var/folders/yg/982c10113957_2gb06y92y35sx509h/T/ipykernel_57645/4104968455.py:24: DtypeWarning: Columns (1) have mixed types. Specify dtype option on import or set low_memory=False.\n",
      "  ttAndMe = pd.read_csv(file_path, sep='\\t', comment='#', header=None, names=['rsid', 'chromosome', 'position', 'genotype'])\n",
      "/var/folders/yg/982c10113957_2gb06y92y35sx509h/T/ipykernel_57645/4104968455.py:24: DtypeWarning: Columns (1) have mixed types. Specify dtype option on import or set low_memory=False.\n",
      "  ttAndMe = pd.read_csv(file_path, sep='\\t', comment='#', header=None, names=['rsid', 'chromosome', 'position', 'genotype'])\n",
      "/var/folders/yg/982c10113957_2gb06y92y35sx509h/T/ipykernel_57645/4104968455.py:24: DtypeWarning: Columns (1) have mixed types. Specify dtype option on import or set low_memory=False.\n",
      "  ttAndMe = pd.read_csv(file_path, sep='\\t', comment='#', header=None, names=['rsid', 'chromosome', 'position', 'genotype'])\n",
      "/var/folders/yg/982c10113957_2gb06y92y35sx509h/T/ipykernel_57645/4104968455.py:24: DtypeWarning: Columns (1) have mixed types. Specify dtype option on import or set low_memory=False.\n",
      "  ttAndMe = pd.read_csv(file_path, sep='\\t', comment='#', header=None, names=['rsid', 'chromosome', 'position', 'genotype'])\n",
      "/var/folders/yg/982c10113957_2gb06y92y35sx509h/T/ipykernel_57645/4104968455.py:24: DtypeWarning: Columns (1) have mixed types. Specify dtype option on import or set low_memory=False.\n",
      "  ttAndMe = pd.read_csv(file_path, sep='\\t', comment='#', header=None, names=['rsid', 'chromosome', 'position', 'genotype'])\n",
      "/var/folders/yg/982c10113957_2gb06y92y35sx509h/T/ipykernel_57645/4104968455.py:24: DtypeWarning: Columns (1) have mixed types. Specify dtype option on import or set low_memory=False.\n",
      "  ttAndMe = pd.read_csv(file_path, sep='\\t', comment='#', header=None, names=['rsid', 'chromosome', 'position', 'genotype'])\n"
     ]
    },
    {
     "name": "stdout",
     "output_type": "stream",
     "text": [
      "Error processing file 11800.23andme.9694.txt: 'utf-8' codec can't decode byte 0xec in position 15: invalid continuation byte\n"
     ]
    },
    {
     "name": "stderr",
     "output_type": "stream",
     "text": [
      "/var/folders/yg/982c10113957_2gb06y92y35sx509h/T/ipykernel_57645/4104968455.py:24: DtypeWarning: Columns (1) have mixed types. Specify dtype option on import or set low_memory=False.\n",
      "  ttAndMe = pd.read_csv(file_path, sep='\\t', comment='#', header=None, names=['rsid', 'chromosome', 'position', 'genotype'])\n",
      "/var/folders/yg/982c10113957_2gb06y92y35sx509h/T/ipykernel_57645/4104968455.py:24: DtypeWarning: Columns (1) have mixed types. Specify dtype option on import or set low_memory=False.\n",
      "  ttAndMe = pd.read_csv(file_path, sep='\\t', comment='#', header=None, names=['rsid', 'chromosome', 'position', 'genotype'])\n",
      "/var/folders/yg/982c10113957_2gb06y92y35sx509h/T/ipykernel_57645/4104968455.py:24: DtypeWarning: Columns (1) have mixed types. Specify dtype option on import or set low_memory=False.\n",
      "  ttAndMe = pd.read_csv(file_path, sep='\\t', comment='#', header=None, names=['rsid', 'chromosome', 'position', 'genotype'])\n",
      "/var/folders/yg/982c10113957_2gb06y92y35sx509h/T/ipykernel_57645/4104968455.py:24: DtypeWarning: Columns (1) have mixed types. Specify dtype option on import or set low_memory=False.\n",
      "  ttAndMe = pd.read_csv(file_path, sep='\\t', comment='#', header=None, names=['rsid', 'chromosome', 'position', 'genotype'])\n",
      "/var/folders/yg/982c10113957_2gb06y92y35sx509h/T/ipykernel_57645/4104968455.py:24: DtypeWarning: Columns (1) have mixed types. Specify dtype option on import or set low_memory=False.\n",
      "  ttAndMe = pd.read_csv(file_path, sep='\\t', comment='#', header=None, names=['rsid', 'chromosome', 'position', 'genotype'])\n",
      "/var/folders/yg/982c10113957_2gb06y92y35sx509h/T/ipykernel_57645/4104968455.py:24: DtypeWarning: Columns (1) have mixed types. Specify dtype option on import or set low_memory=False.\n",
      "  ttAndMe = pd.read_csv(file_path, sep='\\t', comment='#', header=None, names=['rsid', 'chromosome', 'position', 'genotype'])\n",
      "/var/folders/yg/982c10113957_2gb06y92y35sx509h/T/ipykernel_57645/4104968455.py:24: DtypeWarning: Columns (1) have mixed types. Specify dtype option on import or set low_memory=False.\n",
      "  ttAndMe = pd.read_csv(file_path, sep='\\t', comment='#', header=None, names=['rsid', 'chromosome', 'position', 'genotype'])\n"
     ]
    },
    {
     "name": "stdout",
     "output_type": "stream",
     "text": [
      "Error processing file 11601.23andme.9497.txt: 'utf-8' codec can't decode byte 0x8f in position 10: invalid start byte\n",
      "Error processing file 12330.23andme.10166.txt: 'utf-8' codec can't decode byte 0xff in position 15: invalid start byte\n"
     ]
    },
    {
     "name": "stderr",
     "output_type": "stream",
     "text": [
      "/var/folders/yg/982c10113957_2gb06y92y35sx509h/T/ipykernel_57645/4104968455.py:24: DtypeWarning: Columns (1) have mixed types. Specify dtype option on import or set low_memory=False.\n",
      "  ttAndMe = pd.read_csv(file_path, sep='\\t', comment='#', header=None, names=['rsid', 'chromosome', 'position', 'genotype'])\n",
      "/var/folders/yg/982c10113957_2gb06y92y35sx509h/T/ipykernel_57645/4104968455.py:24: DtypeWarning: Columns (1) have mixed types. Specify dtype option on import or set low_memory=False.\n",
      "  ttAndMe = pd.read_csv(file_path, sep='\\t', comment='#', header=None, names=['rsid', 'chromosome', 'position', 'genotype'])\n",
      "/var/folders/yg/982c10113957_2gb06y92y35sx509h/T/ipykernel_57645/4104968455.py:24: DtypeWarning: Columns (1) have mixed types. Specify dtype option on import or set low_memory=False.\n",
      "  ttAndMe = pd.read_csv(file_path, sep='\\t', comment='#', header=None, names=['rsid', 'chromosome', 'position', 'genotype'])\n",
      "/var/folders/yg/982c10113957_2gb06y92y35sx509h/T/ipykernel_57645/4104968455.py:24: DtypeWarning: Columns (1) have mixed types. Specify dtype option on import or set low_memory=False.\n",
      "  ttAndMe = pd.read_csv(file_path, sep='\\t', comment='#', header=None, names=['rsid', 'chromosome', 'position', 'genotype'])\n",
      "/var/folders/yg/982c10113957_2gb06y92y35sx509h/T/ipykernel_57645/4104968455.py:24: DtypeWarning: Columns (1) have mixed types. Specify dtype option on import or set low_memory=False.\n",
      "  ttAndMe = pd.read_csv(file_path, sep='\\t', comment='#', header=None, names=['rsid', 'chromosome', 'position', 'genotype'])\n",
      "/var/folders/yg/982c10113957_2gb06y92y35sx509h/T/ipykernel_57645/4104968455.py:24: DtypeWarning: Columns (1) have mixed types. Specify dtype option on import or set low_memory=False.\n",
      "  ttAndMe = pd.read_csv(file_path, sep='\\t', comment='#', header=None, names=['rsid', 'chromosome', 'position', 'genotype'])\n",
      "/var/folders/yg/982c10113957_2gb06y92y35sx509h/T/ipykernel_57645/4104968455.py:24: DtypeWarning: Columns (1) have mixed types. Specify dtype option on import or set low_memory=False.\n",
      "  ttAndMe = pd.read_csv(file_path, sep='\\t', comment='#', header=None, names=['rsid', 'chromosome', 'position', 'genotype'])\n",
      "/var/folders/yg/982c10113957_2gb06y92y35sx509h/T/ipykernel_57645/4104968455.py:24: DtypeWarning: Columns (1) have mixed types. Specify dtype option on import or set low_memory=False.\n",
      "  ttAndMe = pd.read_csv(file_path, sep='\\t', comment='#', header=None, names=['rsid', 'chromosome', 'position', 'genotype'])\n",
      "/var/folders/yg/982c10113957_2gb06y92y35sx509h/T/ipykernel_57645/4104968455.py:24: DtypeWarning: Columns (1) have mixed types. Specify dtype option on import or set low_memory=False.\n",
      "  ttAndMe = pd.read_csv(file_path, sep='\\t', comment='#', header=None, names=['rsid', 'chromosome', 'position', 'genotype'])\n"
     ]
    },
    {
     "name": "stdout",
     "output_type": "stream",
     "text": [
      "Error processing file 11869.23andme.9748.txt: 'utf-8' codec can't decode byte 0x8b in position 1: invalid start byte\n"
     ]
    },
    {
     "name": "stderr",
     "output_type": "stream",
     "text": [
      "/var/folders/yg/982c10113957_2gb06y92y35sx509h/T/ipykernel_57645/4104968455.py:24: DtypeWarning: Columns (1) have mixed types. Specify dtype option on import or set low_memory=False.\n",
      "  ttAndMe = pd.read_csv(file_path, sep='\\t', comment='#', header=None, names=['rsid', 'chromosome', 'position', 'genotype'])\n",
      "/var/folders/yg/982c10113957_2gb06y92y35sx509h/T/ipykernel_57645/4104968455.py:24: DtypeWarning: Columns (1) have mixed types. Specify dtype option on import or set low_memory=False.\n",
      "  ttAndMe = pd.read_csv(file_path, sep='\\t', comment='#', header=None, names=['rsid', 'chromosome', 'position', 'genotype'])\n",
      "/var/folders/yg/982c10113957_2gb06y92y35sx509h/T/ipykernel_57645/4104968455.py:24: DtypeWarning: Columns (1) have mixed types. Specify dtype option on import or set low_memory=False.\n",
      "  ttAndMe = pd.read_csv(file_path, sep='\\t', comment='#', header=None, names=['rsid', 'chromosome', 'position', 'genotype'])\n"
     ]
    },
    {
     "name": "stdout",
     "output_type": "stream",
     "text": [
      "Error processing file 11666.23andme.9588.txt: 'utf-8' codec can't decode byte 0xba in position 11: invalid start byte\n"
     ]
    },
    {
     "name": "stderr",
     "output_type": "stream",
     "text": [
      "/var/folders/yg/982c10113957_2gb06y92y35sx509h/T/ipykernel_57645/4104968455.py:24: DtypeWarning: Columns (1) have mixed types. Specify dtype option on import or set low_memory=False.\n",
      "  ttAndMe = pd.read_csv(file_path, sep='\\t', comment='#', header=None, names=['rsid', 'chromosome', 'position', 'genotype'])\n",
      "/var/folders/yg/982c10113957_2gb06y92y35sx509h/T/ipykernel_57645/4104968455.py:24: DtypeWarning: Columns (1) have mixed types. Specify dtype option on import or set low_memory=False.\n",
      "  ttAndMe = pd.read_csv(file_path, sep='\\t', comment='#', header=None, names=['rsid', 'chromosome', 'position', 'genotype'])\n",
      "/var/folders/yg/982c10113957_2gb06y92y35sx509h/T/ipykernel_57645/4104968455.py:24: DtypeWarning: Columns (1) have mixed types. Specify dtype option on import or set low_memory=False.\n",
      "  ttAndMe = pd.read_csv(file_path, sep='\\t', comment='#', header=None, names=['rsid', 'chromosome', 'position', 'genotype'])\n",
      "/var/folders/yg/982c10113957_2gb06y92y35sx509h/T/ipykernel_57645/4104968455.py:24: DtypeWarning: Columns (1) have mixed types. Specify dtype option on import or set low_memory=False.\n",
      "  ttAndMe = pd.read_csv(file_path, sep='\\t', comment='#', header=None, names=['rsid', 'chromosome', 'position', 'genotype'])\n",
      "/var/folders/yg/982c10113957_2gb06y92y35sx509h/T/ipykernel_57645/4104968455.py:24: DtypeWarning: Columns (1) have mixed types. Specify dtype option on import or set low_memory=False.\n",
      "  ttAndMe = pd.read_csv(file_path, sep='\\t', comment='#', header=None, names=['rsid', 'chromosome', 'position', 'genotype'])\n"
     ]
    },
    {
     "name": "stdout",
     "output_type": "stream",
     "text": [
      "Error processing file 12335.23andme.10172.txt: 'utf-8' codec can't decode byte 0x8b in position 1: invalid start byte\n"
     ]
    },
    {
     "name": "stderr",
     "output_type": "stream",
     "text": [
      "/var/folders/yg/982c10113957_2gb06y92y35sx509h/T/ipykernel_57645/4104968455.py:24: DtypeWarning: Columns (1) have mixed types. Specify dtype option on import or set low_memory=False.\n",
      "  ttAndMe = pd.read_csv(file_path, sep='\\t', comment='#', header=None, names=['rsid', 'chromosome', 'position', 'genotype'])\n",
      "/var/folders/yg/982c10113957_2gb06y92y35sx509h/T/ipykernel_57645/4104968455.py:24: DtypeWarning: Columns (1) have mixed types. Specify dtype option on import or set low_memory=False.\n",
      "  ttAndMe = pd.read_csv(file_path, sep='\\t', comment='#', header=None, names=['rsid', 'chromosome', 'position', 'genotype'])\n",
      "/var/folders/yg/982c10113957_2gb06y92y35sx509h/T/ipykernel_57645/4104968455.py:24: DtypeWarning: Columns (1) have mixed types. Specify dtype option on import or set low_memory=False.\n",
      "  ttAndMe = pd.read_csv(file_path, sep='\\t', comment='#', header=None, names=['rsid', 'chromosome', 'position', 'genotype'])\n",
      "/var/folders/yg/982c10113957_2gb06y92y35sx509h/T/ipykernel_57645/4104968455.py:24: DtypeWarning: Columns (1) have mixed types. Specify dtype option on import or set low_memory=False.\n",
      "  ttAndMe = pd.read_csv(file_path, sep='\\t', comment='#', header=None, names=['rsid', 'chromosome', 'position', 'genotype'])\n",
      "/var/folders/yg/982c10113957_2gb06y92y35sx509h/T/ipykernel_57645/4104968455.py:24: DtypeWarning: Columns (1) have mixed types. Specify dtype option on import or set low_memory=False.\n",
      "  ttAndMe = pd.read_csv(file_path, sep='\\t', comment='#', header=None, names=['rsid', 'chromosome', 'position', 'genotype'])\n",
      "/var/folders/yg/982c10113957_2gb06y92y35sx509h/T/ipykernel_57645/4104968455.py:24: DtypeWarning: Columns (1) have mixed types. Specify dtype option on import or set low_memory=False.\n",
      "  ttAndMe = pd.read_csv(file_path, sep='\\t', comment='#', header=None, names=['rsid', 'chromosome', 'position', 'genotype'])\n",
      "/var/folders/yg/982c10113957_2gb06y92y35sx509h/T/ipykernel_57645/4104968455.py:24: DtypeWarning: Columns (1) have mixed types. Specify dtype option on import or set low_memory=False.\n",
      "  ttAndMe = pd.read_csv(file_path, sep='\\t', comment='#', header=None, names=['rsid', 'chromosome', 'position', 'genotype'])\n",
      "/var/folders/yg/982c10113957_2gb06y92y35sx509h/T/ipykernel_57645/4104968455.py:24: DtypeWarning: Columns (1) have mixed types. Specify dtype option on import or set low_memory=False.\n",
      "  ttAndMe = pd.read_csv(file_path, sep='\\t', comment='#', header=None, names=['rsid', 'chromosome', 'position', 'genotype'])\n"
     ]
    },
    {
     "name": "stdout",
     "output_type": "stream",
     "text": [
      "Error processing file 12130.23andme.9985.txt: 'utf-8' codec can't decode byte 0x8b in position 1: invalid start byte\n"
     ]
    },
    {
     "name": "stderr",
     "output_type": "stream",
     "text": [
      "/var/folders/yg/982c10113957_2gb06y92y35sx509h/T/ipykernel_57645/4104968455.py:24: DtypeWarning: Columns (1) have mixed types. Specify dtype option on import or set low_memory=False.\n",
      "  ttAndMe = pd.read_csv(file_path, sep='\\t', comment='#', header=None, names=['rsid', 'chromosome', 'position', 'genotype'])\n",
      "/var/folders/yg/982c10113957_2gb06y92y35sx509h/T/ipykernel_57645/4104968455.py:24: DtypeWarning: Columns (1) have mixed types. Specify dtype option on import or set low_memory=False.\n",
      "  ttAndMe = pd.read_csv(file_path, sep='\\t', comment='#', header=None, names=['rsid', 'chromosome', 'position', 'genotype'])\n",
      "/var/folders/yg/982c10113957_2gb06y92y35sx509h/T/ipykernel_57645/4104968455.py:24: DtypeWarning: Columns (1) have mixed types. Specify dtype option on import or set low_memory=False.\n",
      "  ttAndMe = pd.read_csv(file_path, sep='\\t', comment='#', header=None, names=['rsid', 'chromosome', 'position', 'genotype'])\n",
      "/var/folders/yg/982c10113957_2gb06y92y35sx509h/T/ipykernel_57645/4104968455.py:24: DtypeWarning: Columns (1) have mixed types. Specify dtype option on import or set low_memory=False.\n",
      "  ttAndMe = pd.read_csv(file_path, sep='\\t', comment='#', header=None, names=['rsid', 'chromosome', 'position', 'genotype'])\n",
      "/var/folders/yg/982c10113957_2gb06y92y35sx509h/T/ipykernel_57645/4104968455.py:24: DtypeWarning: Columns (1) have mixed types. Specify dtype option on import or set low_memory=False.\n",
      "  ttAndMe = pd.read_csv(file_path, sep='\\t', comment='#', header=None, names=['rsid', 'chromosome', 'position', 'genotype'])\n",
      "/var/folders/yg/982c10113957_2gb06y92y35sx509h/T/ipykernel_57645/4104968455.py:24: DtypeWarning: Columns (1) have mixed types. Specify dtype option on import or set low_memory=False.\n",
      "  ttAndMe = pd.read_csv(file_path, sep='\\t', comment='#', header=None, names=['rsid', 'chromosome', 'position', 'genotype'])\n",
      "/var/folders/yg/982c10113957_2gb06y92y35sx509h/T/ipykernel_57645/4104968455.py:24: DtypeWarning: Columns (1) have mixed types. Specify dtype option on import or set low_memory=False.\n",
      "  ttAndMe = pd.read_csv(file_path, sep='\\t', comment='#', header=None, names=['rsid', 'chromosome', 'position', 'genotype'])\n",
      "/var/folders/yg/982c10113957_2gb06y92y35sx509h/T/ipykernel_57645/4104968455.py:24: DtypeWarning: Columns (1) have mixed types. Specify dtype option on import or set low_memory=False.\n",
      "  ttAndMe = pd.read_csv(file_path, sep='\\t', comment='#', header=None, names=['rsid', 'chromosome', 'position', 'genotype'])\n",
      "/var/folders/yg/982c10113957_2gb06y92y35sx509h/T/ipykernel_57645/4104968455.py:24: DtypeWarning: Columns (1) have mixed types. Specify dtype option on import or set low_memory=False.\n",
      "  ttAndMe = pd.read_csv(file_path, sep='\\t', comment='#', header=None, names=['rsid', 'chromosome', 'position', 'genotype'])\n",
      "/var/folders/yg/982c10113957_2gb06y92y35sx509h/T/ipykernel_57645/4104968455.py:24: DtypeWarning: Columns (1) have mixed types. Specify dtype option on import or set low_memory=False.\n",
      "  ttAndMe = pd.read_csv(file_path, sep='\\t', comment='#', header=None, names=['rsid', 'chromosome', 'position', 'genotype'])\n",
      "/var/folders/yg/982c10113957_2gb06y92y35sx509h/T/ipykernel_57645/4104968455.py:24: DtypeWarning: Columns (1) have mixed types. Specify dtype option on import or set low_memory=False.\n",
      "  ttAndMe = pd.read_csv(file_path, sep='\\t', comment='#', header=None, names=['rsid', 'chromosome', 'position', 'genotype'])\n",
      "/var/folders/yg/982c10113957_2gb06y92y35sx509h/T/ipykernel_57645/4104968455.py:24: DtypeWarning: Columns (1) have mixed types. Specify dtype option on import or set low_memory=False.\n",
      "  ttAndMe = pd.read_csv(file_path, sep='\\t', comment='#', header=None, names=['rsid', 'chromosome', 'position', 'genotype'])\n"
     ]
    },
    {
     "name": "stdout",
     "output_type": "stream",
     "text": [
      "Error processing file 12223.23andme.10068.txt: 'utf-8' codec can't decode byte 0x8b in position 1: invalid start byte\n"
     ]
    },
    {
     "name": "stderr",
     "output_type": "stream",
     "text": [
      "/var/folders/yg/982c10113957_2gb06y92y35sx509h/T/ipykernel_57645/4104968455.py:24: DtypeWarning: Columns (1) have mixed types. Specify dtype option on import or set low_memory=False.\n",
      "  ttAndMe = pd.read_csv(file_path, sep='\\t', comment='#', header=None, names=['rsid', 'chromosome', 'position', 'genotype'])\n",
      "/var/folders/yg/982c10113957_2gb06y92y35sx509h/T/ipykernel_57645/4104968455.py:24: DtypeWarning: Columns (1) have mixed types. Specify dtype option on import or set low_memory=False.\n",
      "  ttAndMe = pd.read_csv(file_path, sep='\\t', comment='#', header=None, names=['rsid', 'chromosome', 'position', 'genotype'])\n",
      "/var/folders/yg/982c10113957_2gb06y92y35sx509h/T/ipykernel_57645/4104968455.py:24: DtypeWarning: Columns (1) have mixed types. Specify dtype option on import or set low_memory=False.\n",
      "  ttAndMe = pd.read_csv(file_path, sep='\\t', comment='#', header=None, names=['rsid', 'chromosome', 'position', 'genotype'])\n",
      "/var/folders/yg/982c10113957_2gb06y92y35sx509h/T/ipykernel_57645/4104968455.py:24: DtypeWarning: Columns (1) have mixed types. Specify dtype option on import or set low_memory=False.\n",
      "  ttAndMe = pd.read_csv(file_path, sep='\\t', comment='#', header=None, names=['rsid', 'chromosome', 'position', 'genotype'])\n"
     ]
    },
    {
     "name": "stdout",
     "output_type": "stream",
     "text": [
      "Error processing file 11602.23andme.9498.txt: 'utf-8' codec can't decode byte 0x9c in position 11: invalid start byte\n"
     ]
    },
    {
     "name": "stderr",
     "output_type": "stream",
     "text": [
      "/var/folders/yg/982c10113957_2gb06y92y35sx509h/T/ipykernel_57645/4104968455.py:24: DtypeWarning: Columns (1) have mixed types. Specify dtype option on import or set low_memory=False.\n",
      "  ttAndMe = pd.read_csv(file_path, sep='\\t', comment='#', header=None, names=['rsid', 'chromosome', 'position', 'genotype'])\n",
      "/var/folders/yg/982c10113957_2gb06y92y35sx509h/T/ipykernel_57645/4104968455.py:24: DtypeWarning: Columns (1) have mixed types. Specify dtype option on import or set low_memory=False.\n",
      "  ttAndMe = pd.read_csv(file_path, sep='\\t', comment='#', header=None, names=['rsid', 'chromosome', 'position', 'genotype'])\n",
      "/var/folders/yg/982c10113957_2gb06y92y35sx509h/T/ipykernel_57645/4104968455.py:24: DtypeWarning: Columns (1) have mixed types. Specify dtype option on import or set low_memory=False.\n",
      "  ttAndMe = pd.read_csv(file_path, sep='\\t', comment='#', header=None, names=['rsid', 'chromosome', 'position', 'genotype'])\n",
      "/var/folders/yg/982c10113957_2gb06y92y35sx509h/T/ipykernel_57645/4104968455.py:24: DtypeWarning: Columns (1) have mixed types. Specify dtype option on import or set low_memory=False.\n",
      "  ttAndMe = pd.read_csv(file_path, sep='\\t', comment='#', header=None, names=['rsid', 'chromosome', 'position', 'genotype'])\n",
      "/var/folders/yg/982c10113957_2gb06y92y35sx509h/T/ipykernel_57645/4104968455.py:24: DtypeWarning: Columns (1) have mixed types. Specify dtype option on import or set low_memory=False.\n",
      "  ttAndMe = pd.read_csv(file_path, sep='\\t', comment='#', header=None, names=['rsid', 'chromosome', 'position', 'genotype'])\n",
      "/var/folders/yg/982c10113957_2gb06y92y35sx509h/T/ipykernel_57645/4104968455.py:24: DtypeWarning: Columns (1) have mixed types. Specify dtype option on import or set low_memory=False.\n",
      "  ttAndMe = pd.read_csv(file_path, sep='\\t', comment='#', header=None, names=['rsid', 'chromosome', 'position', 'genotype'])\n"
     ]
    },
    {
     "name": "stdout",
     "output_type": "stream",
     "text": [
      "Error processing file 11789.23andme.9685.txt: 'utf-8' codec can't decode byte 0x8b in position 1: invalid start byte\n"
     ]
    },
    {
     "name": "stderr",
     "output_type": "stream",
     "text": [
      "/var/folders/yg/982c10113957_2gb06y92y35sx509h/T/ipykernel_57645/4104968455.py:24: DtypeWarning: Columns (1) have mixed types. Specify dtype option on import or set low_memory=False.\n",
      "  ttAndMe = pd.read_csv(file_path, sep='\\t', comment='#', header=None, names=['rsid', 'chromosome', 'position', 'genotype'])\n"
     ]
    },
    {
     "name": "stdout",
     "output_type": "stream",
     "text": [
      "Error processing file 12203.23andme.10052.txt: 'utf-8' codec can't decode byte 0x8b in position 1: invalid start byte\n"
     ]
    },
    {
     "name": "stderr",
     "output_type": "stream",
     "text": [
      "/var/folders/yg/982c10113957_2gb06y92y35sx509h/T/ipykernel_57645/4104968455.py:24: DtypeWarning: Columns (1) have mixed types. Specify dtype option on import or set low_memory=False.\n",
      "  ttAndMe = pd.read_csv(file_path, sep='\\t', comment='#', header=None, names=['rsid', 'chromosome', 'position', 'genotype'])\n",
      "/var/folders/yg/982c10113957_2gb06y92y35sx509h/T/ipykernel_57645/4104968455.py:24: DtypeWarning: Columns (1) have mixed types. Specify dtype option on import or set low_memory=False.\n",
      "  ttAndMe = pd.read_csv(file_path, sep='\\t', comment='#', header=None, names=['rsid', 'chromosome', 'position', 'genotype'])\n",
      "/var/folders/yg/982c10113957_2gb06y92y35sx509h/T/ipykernel_57645/4104968455.py:24: DtypeWarning: Columns (1) have mixed types. Specify dtype option on import or set low_memory=False.\n",
      "  ttAndMe = pd.read_csv(file_path, sep='\\t', comment='#', header=None, names=['rsid', 'chromosome', 'position', 'genotype'])\n",
      "/var/folders/yg/982c10113957_2gb06y92y35sx509h/T/ipykernel_57645/4104968455.py:24: DtypeWarning: Columns (1) have mixed types. Specify dtype option on import or set low_memory=False.\n",
      "  ttAndMe = pd.read_csv(file_path, sep='\\t', comment='#', header=None, names=['rsid', 'chromosome', 'position', 'genotype'])\n",
      "/var/folders/yg/982c10113957_2gb06y92y35sx509h/T/ipykernel_57645/4104968455.py:24: DtypeWarning: Columns (1) have mixed types. Specify dtype option on import or set low_memory=False.\n",
      "  ttAndMe = pd.read_csv(file_path, sep='\\t', comment='#', header=None, names=['rsid', 'chromosome', 'position', 'genotype'])\n",
      "/var/folders/yg/982c10113957_2gb06y92y35sx509h/T/ipykernel_57645/4104968455.py:24: DtypeWarning: Columns (1) have mixed types. Specify dtype option on import or set low_memory=False.\n",
      "  ttAndMe = pd.read_csv(file_path, sep='\\t', comment='#', header=None, names=['rsid', 'chromosome', 'position', 'genotype'])\n",
      "/var/folders/yg/982c10113957_2gb06y92y35sx509h/T/ipykernel_57645/4104968455.py:24: DtypeWarning: Columns (1) have mixed types. Specify dtype option on import or set low_memory=False.\n",
      "  ttAndMe = pd.read_csv(file_path, sep='\\t', comment='#', header=None, names=['rsid', 'chromosome', 'position', 'genotype'])\n",
      "/var/folders/yg/982c10113957_2gb06y92y35sx509h/T/ipykernel_57645/4104968455.py:24: DtypeWarning: Columns (1) have mixed types. Specify dtype option on import or set low_memory=False.\n",
      "  ttAndMe = pd.read_csv(file_path, sep='\\t', comment='#', header=None, names=['rsid', 'chromosome', 'position', 'genotype'])\n",
      "/var/folders/yg/982c10113957_2gb06y92y35sx509h/T/ipykernel_57645/4104968455.py:24: DtypeWarning: Columns (1) have mixed types. Specify dtype option on import or set low_memory=False.\n",
      "  ttAndMe = pd.read_csv(file_path, sep='\\t', comment='#', header=None, names=['rsid', 'chromosome', 'position', 'genotype'])\n",
      "/var/folders/yg/982c10113957_2gb06y92y35sx509h/T/ipykernel_57645/4104968455.py:24: DtypeWarning: Columns (1) have mixed types. Specify dtype option on import or set low_memory=False.\n",
      "  ttAndMe = pd.read_csv(file_path, sep='\\t', comment='#', header=None, names=['rsid', 'chromosome', 'position', 'genotype'])\n",
      "/var/folders/yg/982c10113957_2gb06y92y35sx509h/T/ipykernel_57645/4104968455.py:24: DtypeWarning: Columns (1) have mixed types. Specify dtype option on import or set low_memory=False.\n",
      "  ttAndMe = pd.read_csv(file_path, sep='\\t', comment='#', header=None, names=['rsid', 'chromosome', 'position', 'genotype'])\n",
      "/var/folders/yg/982c10113957_2gb06y92y35sx509h/T/ipykernel_57645/4104968455.py:24: DtypeWarning: Columns (1) have mixed types. Specify dtype option on import or set low_memory=False.\n",
      "  ttAndMe = pd.read_csv(file_path, sep='\\t', comment='#', header=None, names=['rsid', 'chromosome', 'position', 'genotype'])\n",
      "/var/folders/yg/982c10113957_2gb06y92y35sx509h/T/ipykernel_57645/4104968455.py:24: DtypeWarning: Columns (1) have mixed types. Specify dtype option on import or set low_memory=False.\n",
      "  ttAndMe = pd.read_csv(file_path, sep='\\t', comment='#', header=None, names=['rsid', 'chromosome', 'position', 'genotype'])\n",
      "/var/folders/yg/982c10113957_2gb06y92y35sx509h/T/ipykernel_57645/4104968455.py:24: DtypeWarning: Columns (1) have mixed types. Specify dtype option on import or set low_memory=False.\n",
      "  ttAndMe = pd.read_csv(file_path, sep='\\t', comment='#', header=None, names=['rsid', 'chromosome', 'position', 'genotype'])\n",
      "/var/folders/yg/982c10113957_2gb06y92y35sx509h/T/ipykernel_57645/4104968455.py:24: DtypeWarning: Columns (1) have mixed types. Specify dtype option on import or set low_memory=False.\n",
      "  ttAndMe = pd.read_csv(file_path, sep='\\t', comment='#', header=None, names=['rsid', 'chromosome', 'position', 'genotype'])\n"
     ]
    },
    {
     "name": "stdout",
     "output_type": "stream",
     "text": [
      "Error processing file 11615.23andme.9528.txt: 'utf-8' codec can't decode byte 0xbd in position 10: invalid start byte\n",
      "Error processing file 11736.23andme.9639.txt: 'utf-8' codec can't decode byte 0xb2 in position 10: invalid start byte\n"
     ]
    },
    {
     "name": "stderr",
     "output_type": "stream",
     "text": [
      "/var/folders/yg/982c10113957_2gb06y92y35sx509h/T/ipykernel_57645/4104968455.py:24: DtypeWarning: Columns (1) have mixed types. Specify dtype option on import or set low_memory=False.\n",
      "  ttAndMe = pd.read_csv(file_path, sep='\\t', comment='#', header=None, names=['rsid', 'chromosome', 'position', 'genotype'])\n",
      "/var/folders/yg/982c10113957_2gb06y92y35sx509h/T/ipykernel_57645/4104968455.py:24: DtypeWarning: Columns (1) have mixed types. Specify dtype option on import or set low_memory=False.\n",
      "  ttAndMe = pd.read_csv(file_path, sep='\\t', comment='#', header=None, names=['rsid', 'chromosome', 'position', 'genotype'])\n",
      "/var/folders/yg/982c10113957_2gb06y92y35sx509h/T/ipykernel_57645/4104968455.py:24: DtypeWarning: Columns (1) have mixed types. Specify dtype option on import or set low_memory=False.\n",
      "  ttAndMe = pd.read_csv(file_path, sep='\\t', comment='#', header=None, names=['rsid', 'chromosome', 'position', 'genotype'])\n",
      "/var/folders/yg/982c10113957_2gb06y92y35sx509h/T/ipykernel_57645/4104968455.py:24: DtypeWarning: Columns (1) have mixed types. Specify dtype option on import or set low_memory=False.\n",
      "  ttAndMe = pd.read_csv(file_path, sep='\\t', comment='#', header=None, names=['rsid', 'chromosome', 'position', 'genotype'])\n"
     ]
    },
    {
     "name": "stdout",
     "output_type": "stream",
     "text": [
      "Error processing file 11725.23andme.9634.txt: 'utf-8' codec can't decode byte 0xb2 in position 10: invalid start byte\n",
      "Error processing file 11615.23andme.9529.txt: 'utf-8' codec can't decode byte 0xbd in position 10: invalid start byte\n"
     ]
    },
    {
     "name": "stderr",
     "output_type": "stream",
     "text": [
      "/var/folders/yg/982c10113957_2gb06y92y35sx509h/T/ipykernel_57645/4104968455.py:24: DtypeWarning: Columns (1) have mixed types. Specify dtype option on import or set low_memory=False.\n",
      "  ttAndMe = pd.read_csv(file_path, sep='\\t', comment='#', header=None, names=['rsid', 'chromosome', 'position', 'genotype'])\n",
      "/var/folders/yg/982c10113957_2gb06y92y35sx509h/T/ipykernel_57645/4104968455.py:24: DtypeWarning: Columns (1) have mixed types. Specify dtype option on import or set low_memory=False.\n",
      "  ttAndMe = pd.read_csv(file_path, sep='\\t', comment='#', header=None, names=['rsid', 'chromosome', 'position', 'genotype'])\n",
      "/var/folders/yg/982c10113957_2gb06y92y35sx509h/T/ipykernel_57645/4104968455.py:24: DtypeWarning: Columns (1) have mixed types. Specify dtype option on import or set low_memory=False.\n",
      "  ttAndMe = pd.read_csv(file_path, sep='\\t', comment='#', header=None, names=['rsid', 'chromosome', 'position', 'genotype'])\n",
      "/var/folders/yg/982c10113957_2gb06y92y35sx509h/T/ipykernel_57645/4104968455.py:24: DtypeWarning: Columns (1) have mixed types. Specify dtype option on import or set low_memory=False.\n",
      "  ttAndMe = pd.read_csv(file_path, sep='\\t', comment='#', header=None, names=['rsid', 'chromosome', 'position', 'genotype'])\n"
     ]
    },
    {
     "name": "stdout",
     "output_type": "stream",
     "text": [
      "Error processing file 12373.23andme.10203.txt: 'utf-8' codec can't decode byte 0x8b in position 1: invalid start byte\n"
     ]
    },
    {
     "name": "stderr",
     "output_type": "stream",
     "text": [
      "/var/folders/yg/982c10113957_2gb06y92y35sx509h/T/ipykernel_57645/4104968455.py:24: DtypeWarning: Columns (1) have mixed types. Specify dtype option on import or set low_memory=False.\n",
      "  ttAndMe = pd.read_csv(file_path, sep='\\t', comment='#', header=None, names=['rsid', 'chromosome', 'position', 'genotype'])\n",
      "/var/folders/yg/982c10113957_2gb06y92y35sx509h/T/ipykernel_57645/4104968455.py:24: DtypeWarning: Columns (1) have mixed types. Specify dtype option on import or set low_memory=False.\n",
      "  ttAndMe = pd.read_csv(file_path, sep='\\t', comment='#', header=None, names=['rsid', 'chromosome', 'position', 'genotype'])\n",
      "/var/folders/yg/982c10113957_2gb06y92y35sx509h/T/ipykernel_57645/4104968455.py:24: DtypeWarning: Columns (1) have mixed types. Specify dtype option on import or set low_memory=False.\n",
      "  ttAndMe = pd.read_csv(file_path, sep='\\t', comment='#', header=None, names=['rsid', 'chromosome', 'position', 'genotype'])\n"
     ]
    },
    {
     "name": "stdout",
     "output_type": "stream",
     "text": [
      "Error processing file 11619.23andme.9534.txt: 'utf-8' codec can't decode byte 0xe1 in position 10: invalid continuation byte\n"
     ]
    },
    {
     "name": "stderr",
     "output_type": "stream",
     "text": [
      "/var/folders/yg/982c10113957_2gb06y92y35sx509h/T/ipykernel_57645/4104968455.py:24: DtypeWarning: Columns (1) have mixed types. Specify dtype option on import or set low_memory=False.\n",
      "  ttAndMe = pd.read_csv(file_path, sep='\\t', comment='#', header=None, names=['rsid', 'chromosome', 'position', 'genotype'])\n",
      "/var/folders/yg/982c10113957_2gb06y92y35sx509h/T/ipykernel_57645/4104968455.py:24: DtypeWarning: Columns (1) have mixed types. Specify dtype option on import or set low_memory=False.\n",
      "  ttAndMe = pd.read_csv(file_path, sep='\\t', comment='#', header=None, names=['rsid', 'chromosome', 'position', 'genotype'])\n"
     ]
    },
    {
     "name": "stdout",
     "output_type": "stream",
     "text": [
      "Error processing file 11629.23andme.9550.txt: 'utf-8' codec can't decode byte 0x95 in position 11: invalid start byte\n"
     ]
    },
    {
     "name": "stderr",
     "output_type": "stream",
     "text": [
      "/var/folders/yg/982c10113957_2gb06y92y35sx509h/T/ipykernel_57645/4104968455.py:24: DtypeWarning: Columns (1) have mixed types. Specify dtype option on import or set low_memory=False.\n",
      "  ttAndMe = pd.read_csv(file_path, sep='\\t', comment='#', header=None, names=['rsid', 'chromosome', 'position', 'genotype'])\n"
     ]
    },
    {
     "name": "stdout",
     "output_type": "stream",
     "text": [
      "Error processing file 11619.23andme.9535.txt: 'utf-8' codec can't decode byte 0xe1 in position 10: invalid continuation byte\n"
     ]
    },
    {
     "name": "stderr",
     "output_type": "stream",
     "text": [
      "/var/folders/yg/982c10113957_2gb06y92y35sx509h/T/ipykernel_57645/4104968455.py:24: DtypeWarning: Columns (1) have mixed types. Specify dtype option on import or set low_memory=False.\n",
      "  ttAndMe = pd.read_csv(file_path, sep='\\t', comment='#', header=None, names=['rsid', 'chromosome', 'position', 'genotype'])\n",
      "/var/folders/yg/982c10113957_2gb06y92y35sx509h/T/ipykernel_57645/4104968455.py:24: DtypeWarning: Columns (1) have mixed types. Specify dtype option on import or set low_memory=False.\n",
      "  ttAndMe = pd.read_csv(file_path, sep='\\t', comment='#', header=None, names=['rsid', 'chromosome', 'position', 'genotype'])\n",
      "/var/folders/yg/982c10113957_2gb06y92y35sx509h/T/ipykernel_57645/4104968455.py:24: DtypeWarning: Columns (1) have mixed types. Specify dtype option on import or set low_memory=False.\n",
      "  ttAndMe = pd.read_csv(file_path, sep='\\t', comment='#', header=None, names=['rsid', 'chromosome', 'position', 'genotype'])\n",
      "/var/folders/yg/982c10113957_2gb06y92y35sx509h/T/ipykernel_57645/4104968455.py:24: DtypeWarning: Columns (1) have mixed types. Specify dtype option on import or set low_memory=False.\n",
      "  ttAndMe = pd.read_csv(file_path, sep='\\t', comment='#', header=None, names=['rsid', 'chromosome', 'position', 'genotype'])\n",
      "/var/folders/yg/982c10113957_2gb06y92y35sx509h/T/ipykernel_57645/4104968455.py:24: DtypeWarning: Columns (1) have mixed types. Specify dtype option on import or set low_memory=False.\n",
      "  ttAndMe = pd.read_csv(file_path, sep='\\t', comment='#', header=None, names=['rsid', 'chromosome', 'position', 'genotype'])\n",
      "/var/folders/yg/982c10113957_2gb06y92y35sx509h/T/ipykernel_57645/4104968455.py:24: DtypeWarning: Columns (1) have mixed types. Specify dtype option on import or set low_memory=False.\n",
      "  ttAndMe = pd.read_csv(file_path, sep='\\t', comment='#', header=None, names=['rsid', 'chromosome', 'position', 'genotype'])\n",
      "/var/folders/yg/982c10113957_2gb06y92y35sx509h/T/ipykernel_57645/4104968455.py:24: DtypeWarning: Columns (1) have mixed types. Specify dtype option on import or set low_memory=False.\n",
      "  ttAndMe = pd.read_csv(file_path, sep='\\t', comment='#', header=None, names=['rsid', 'chromosome', 'position', 'genotype'])\n",
      "/var/folders/yg/982c10113957_2gb06y92y35sx509h/T/ipykernel_57645/4104968455.py:24: DtypeWarning: Columns (1) have mixed types. Specify dtype option on import or set low_memory=False.\n",
      "  ttAndMe = pd.read_csv(file_path, sep='\\t', comment='#', header=None, names=['rsid', 'chromosome', 'position', 'genotype'])\n",
      "/var/folders/yg/982c10113957_2gb06y92y35sx509h/T/ipykernel_57645/4104968455.py:24: DtypeWarning: Columns (1) have mixed types. Specify dtype option on import or set low_memory=False.\n",
      "  ttAndMe = pd.read_csv(file_path, sep='\\t', comment='#', header=None, names=['rsid', 'chromosome', 'position', 'genotype'])\n",
      "/var/folders/yg/982c10113957_2gb06y92y35sx509h/T/ipykernel_57645/4104968455.py:24: DtypeWarning: Columns (1) have mixed types. Specify dtype option on import or set low_memory=False.\n",
      "  ttAndMe = pd.read_csv(file_path, sep='\\t', comment='#', header=None, names=['rsid', 'chromosome', 'position', 'genotype'])\n",
      "/var/folders/yg/982c10113957_2gb06y92y35sx509h/T/ipykernel_57645/4104968455.py:24: DtypeWarning: Columns (1) have mixed types. Specify dtype option on import or set low_memory=False.\n",
      "  ttAndMe = pd.read_csv(file_path, sep='\\t', comment='#', header=None, names=['rsid', 'chromosome', 'position', 'genotype'])\n"
     ]
    },
    {
     "name": "stdout",
     "output_type": "stream",
     "text": [
      "Error processing file 11792.23andme.9691.txt: 'utf-8' codec can't decode byte 0xfb in position 10: invalid start byte\n"
     ]
    },
    {
     "name": "stderr",
     "output_type": "stream",
     "text": [
      "/var/folders/yg/982c10113957_2gb06y92y35sx509h/T/ipykernel_57645/4104968455.py:24: DtypeWarning: Columns (1) have mixed types. Specify dtype option on import or set low_memory=False.\n",
      "  ttAndMe = pd.read_csv(file_path, sep='\\t', comment='#', header=None, names=['rsid', 'chromosome', 'position', 'genotype'])\n"
     ]
    },
    {
     "name": "stdout",
     "output_type": "stream",
     "text": [
      "Error processing file 11725.23andme.9633.txt: 'utf-8' codec can't decode byte 0xb2 in position 10: invalid start byte\n"
     ]
    },
    {
     "name": "stderr",
     "output_type": "stream",
     "text": [
      "/var/folders/yg/982c10113957_2gb06y92y35sx509h/T/ipykernel_57645/4104968455.py:24: DtypeWarning: Columns (1) have mixed types. Specify dtype option on import or set low_memory=False.\n",
      "  ttAndMe = pd.read_csv(file_path, sep='\\t', comment='#', header=None, names=['rsid', 'chromosome', 'position', 'genotype'])\n",
      "/var/folders/yg/982c10113957_2gb06y92y35sx509h/T/ipykernel_57645/4104968455.py:24: DtypeWarning: Columns (1) have mixed types. Specify dtype option on import or set low_memory=False.\n",
      "  ttAndMe = pd.read_csv(file_path, sep='\\t', comment='#', header=None, names=['rsid', 'chromosome', 'position', 'genotype'])\n",
      "/var/folders/yg/982c10113957_2gb06y92y35sx509h/T/ipykernel_57645/4104968455.py:24: DtypeWarning: Columns (1) have mixed types. Specify dtype option on import or set low_memory=False.\n",
      "  ttAndMe = pd.read_csv(file_path, sep='\\t', comment='#', header=None, names=['rsid', 'chromosome', 'position', 'genotype'])\n",
      "/var/folders/yg/982c10113957_2gb06y92y35sx509h/T/ipykernel_57645/4104968455.py:24: DtypeWarning: Columns (1) have mixed types. Specify dtype option on import or set low_memory=False.\n",
      "  ttAndMe = pd.read_csv(file_path, sep='\\t', comment='#', header=None, names=['rsid', 'chromosome', 'position', 'genotype'])\n",
      "/var/folders/yg/982c10113957_2gb06y92y35sx509h/T/ipykernel_57645/4104968455.py:24: DtypeWarning: Columns (1) have mixed types. Specify dtype option on import or set low_memory=False.\n",
      "  ttAndMe = pd.read_csv(file_path, sep='\\t', comment='#', header=None, names=['rsid', 'chromosome', 'position', 'genotype'])\n",
      "/var/folders/yg/982c10113957_2gb06y92y35sx509h/T/ipykernel_57645/4104968455.py:24: DtypeWarning: Columns (1) have mixed types. Specify dtype option on import or set low_memory=False.\n",
      "  ttAndMe = pd.read_csv(file_path, sep='\\t', comment='#', header=None, names=['rsid', 'chromosome', 'position', 'genotype'])\n",
      "/var/folders/yg/982c10113957_2gb06y92y35sx509h/T/ipykernel_57645/4104968455.py:24: DtypeWarning: Columns (1) have mixed types. Specify dtype option on import or set low_memory=False.\n",
      "  ttAndMe = pd.read_csv(file_path, sep='\\t', comment='#', header=None, names=['rsid', 'chromosome', 'position', 'genotype'])\n",
      "/var/folders/yg/982c10113957_2gb06y92y35sx509h/T/ipykernel_57645/4104968455.py:24: DtypeWarning: Columns (1) have mixed types. Specify dtype option on import or set low_memory=False.\n",
      "  ttAndMe = pd.read_csv(file_path, sep='\\t', comment='#', header=None, names=['rsid', 'chromosome', 'position', 'genotype'])\n",
      "/var/folders/yg/982c10113957_2gb06y92y35sx509h/T/ipykernel_57645/4104968455.py:24: DtypeWarning: Columns (1) have mixed types. Specify dtype option on import or set low_memory=False.\n",
      "  ttAndMe = pd.read_csv(file_path, sep='\\t', comment='#', header=None, names=['rsid', 'chromosome', 'position', 'genotype'])\n"
     ]
    },
    {
     "name": "stdout",
     "output_type": "stream",
     "text": [
      "Error processing file 11834.23andme.9714.txt: 'utf-8' codec can't decode byte 0x8b in position 1: invalid start byte\n"
     ]
    },
    {
     "name": "stderr",
     "output_type": "stream",
     "text": [
      "/var/folders/yg/982c10113957_2gb06y92y35sx509h/T/ipykernel_57645/4104968455.py:24: DtypeWarning: Columns (1) have mixed types. Specify dtype option on import or set low_memory=False.\n",
      "  ttAndMe = pd.read_csv(file_path, sep='\\t', comment='#', header=None, names=['rsid', 'chromosome', 'position', 'genotype'])\n",
      "/var/folders/yg/982c10113957_2gb06y92y35sx509h/T/ipykernel_57645/4104968455.py:24: DtypeWarning: Columns (1) have mixed types. Specify dtype option on import or set low_memory=False.\n",
      "  ttAndMe = pd.read_csv(file_path, sep='\\t', comment='#', header=None, names=['rsid', 'chromosome', 'position', 'genotype'])\n",
      "/var/folders/yg/982c10113957_2gb06y92y35sx509h/T/ipykernel_57645/4104968455.py:24: DtypeWarning: Columns (1) have mixed types. Specify dtype option on import or set low_memory=False.\n",
      "  ttAndMe = pd.read_csv(file_path, sep='\\t', comment='#', header=None, names=['rsid', 'chromosome', 'position', 'genotype'])\n",
      "/var/folders/yg/982c10113957_2gb06y92y35sx509h/T/ipykernel_57645/4104968455.py:24: DtypeWarning: Columns (1) have mixed types. Specify dtype option on import or set low_memory=False.\n",
      "  ttAndMe = pd.read_csv(file_path, sep='\\t', comment='#', header=None, names=['rsid', 'chromosome', 'position', 'genotype'])\n",
      "/var/folders/yg/982c10113957_2gb06y92y35sx509h/T/ipykernel_57645/4104968455.py:24: DtypeWarning: Columns (1) have mixed types. Specify dtype option on import or set low_memory=False.\n",
      "  ttAndMe = pd.read_csv(file_path, sep='\\t', comment='#', header=None, names=['rsid', 'chromosome', 'position', 'genotype'])\n",
      "/var/folders/yg/982c10113957_2gb06y92y35sx509h/T/ipykernel_57645/4104968455.py:24: DtypeWarning: Columns (1) have mixed types. Specify dtype option on import or set low_memory=False.\n",
      "  ttAndMe = pd.read_csv(file_path, sep='\\t', comment='#', header=None, names=['rsid', 'chromosome', 'position', 'genotype'])\n",
      "/var/folders/yg/982c10113957_2gb06y92y35sx509h/T/ipykernel_57645/4104968455.py:24: DtypeWarning: Columns (1) have mixed types. Specify dtype option on import or set low_memory=False.\n",
      "  ttAndMe = pd.read_csv(file_path, sep='\\t', comment='#', header=None, names=['rsid', 'chromosome', 'position', 'genotype'])\n",
      "/var/folders/yg/982c10113957_2gb06y92y35sx509h/T/ipykernel_57645/4104968455.py:24: DtypeWarning: Columns (1) have mixed types. Specify dtype option on import or set low_memory=False.\n",
      "  ttAndMe = pd.read_csv(file_path, sep='\\t', comment='#', header=None, names=['rsid', 'chromosome', 'position', 'genotype'])\n",
      "/var/folders/yg/982c10113957_2gb06y92y35sx509h/T/ipykernel_57645/4104968455.py:24: DtypeWarning: Columns (1) have mixed types. Specify dtype option on import or set low_memory=False.\n",
      "  ttAndMe = pd.read_csv(file_path, sep='\\t', comment='#', header=None, names=['rsid', 'chromosome', 'position', 'genotype'])\n",
      "/var/folders/yg/982c10113957_2gb06y92y35sx509h/T/ipykernel_57645/4104968455.py:24: DtypeWarning: Columns (1) have mixed types. Specify dtype option on import or set low_memory=False.\n",
      "  ttAndMe = pd.read_csv(file_path, sep='\\t', comment='#', header=None, names=['rsid', 'chromosome', 'position', 'genotype'])\n"
     ]
    },
    {
     "name": "stdout",
     "output_type": "stream",
     "text": [
      "Error processing file 11692.23andme.9607.txt: 'utf-8' codec can't decode byte 0x8b in position 1: invalid start byte\n"
     ]
    },
    {
     "name": "stderr",
     "output_type": "stream",
     "text": [
      "/var/folders/yg/982c10113957_2gb06y92y35sx509h/T/ipykernel_57645/4104968455.py:24: DtypeWarning: Columns (1) have mixed types. Specify dtype option on import or set low_memory=False.\n",
      "  ttAndMe = pd.read_csv(file_path, sep='\\t', comment='#', header=None, names=['rsid', 'chromosome', 'position', 'genotype'])\n",
      "/var/folders/yg/982c10113957_2gb06y92y35sx509h/T/ipykernel_57645/4104968455.py:24: DtypeWarning: Columns (1) have mixed types. Specify dtype option on import or set low_memory=False.\n",
      "  ttAndMe = pd.read_csv(file_path, sep='\\t', comment='#', header=None, names=['rsid', 'chromosome', 'position', 'genotype'])\n",
      "/var/folders/yg/982c10113957_2gb06y92y35sx509h/T/ipykernel_57645/4104968455.py:24: DtypeWarning: Columns (1) have mixed types. Specify dtype option on import or set low_memory=False.\n",
      "  ttAndMe = pd.read_csv(file_path, sep='\\t', comment='#', header=None, names=['rsid', 'chromosome', 'position', 'genotype'])\n",
      "/var/folders/yg/982c10113957_2gb06y92y35sx509h/T/ipykernel_57645/4104968455.py:24: DtypeWarning: Columns (1) have mixed types. Specify dtype option on import or set low_memory=False.\n",
      "  ttAndMe = pd.read_csv(file_path, sep='\\t', comment='#', header=None, names=['rsid', 'chromosome', 'position', 'genotype'])\n"
     ]
    },
    {
     "name": "stdout",
     "output_type": "stream",
     "text": [
      "Error processing file 11826.23andme.9708.txt: 'utf-8' codec can't decode byte 0x8e in position 10: invalid start byte\n"
     ]
    },
    {
     "name": "stderr",
     "output_type": "stream",
     "text": [
      "/var/folders/yg/982c10113957_2gb06y92y35sx509h/T/ipykernel_57645/4104968455.py:24: DtypeWarning: Columns (1) have mixed types. Specify dtype option on import or set low_memory=False.\n",
      "  ttAndMe = pd.read_csv(file_path, sep='\\t', comment='#', header=None, names=['rsid', 'chromosome', 'position', 'genotype'])\n",
      "/var/folders/yg/982c10113957_2gb06y92y35sx509h/T/ipykernel_57645/4104968455.py:24: DtypeWarning: Columns (1) have mixed types. Specify dtype option on import or set low_memory=False.\n",
      "  ttAndMe = pd.read_csv(file_path, sep='\\t', comment='#', header=None, names=['rsid', 'chromosome', 'position', 'genotype'])\n",
      "/var/folders/yg/982c10113957_2gb06y92y35sx509h/T/ipykernel_57645/4104968455.py:24: DtypeWarning: Columns (1) have mixed types. Specify dtype option on import or set low_memory=False.\n",
      "  ttAndMe = pd.read_csv(file_path, sep='\\t', comment='#', header=None, names=['rsid', 'chromosome', 'position', 'genotype'])\n",
      "/var/folders/yg/982c10113957_2gb06y92y35sx509h/T/ipykernel_57645/4104968455.py:24: DtypeWarning: Columns (1) have mixed types. Specify dtype option on import or set low_memory=False.\n",
      "  ttAndMe = pd.read_csv(file_path, sep='\\t', comment='#', header=None, names=['rsid', 'chromosome', 'position', 'genotype'])\n",
      "/var/folders/yg/982c10113957_2gb06y92y35sx509h/T/ipykernel_57645/4104968455.py:24: DtypeWarning: Columns (1) have mixed types. Specify dtype option on import or set low_memory=False.\n",
      "  ttAndMe = pd.read_csv(file_path, sep='\\t', comment='#', header=None, names=['rsid', 'chromosome', 'position', 'genotype'])\n",
      "/var/folders/yg/982c10113957_2gb06y92y35sx509h/T/ipykernel_57645/4104968455.py:24: DtypeWarning: Columns (1) have mixed types. Specify dtype option on import or set low_memory=False.\n",
      "  ttAndMe = pd.read_csv(file_path, sep='\\t', comment='#', header=None, names=['rsid', 'chromosome', 'position', 'genotype'])\n",
      "/var/folders/yg/982c10113957_2gb06y92y35sx509h/T/ipykernel_57645/4104968455.py:24: DtypeWarning: Columns (1) have mixed types. Specify dtype option on import or set low_memory=False.\n",
      "  ttAndMe = pd.read_csv(file_path, sep='\\t', comment='#', header=None, names=['rsid', 'chromosome', 'position', 'genotype'])\n",
      "/var/folders/yg/982c10113957_2gb06y92y35sx509h/T/ipykernel_57645/4104968455.py:24: DtypeWarning: Columns (1) have mixed types. Specify dtype option on import or set low_memory=False.\n",
      "  ttAndMe = pd.read_csv(file_path, sep='\\t', comment='#', header=None, names=['rsid', 'chromosome', 'position', 'genotype'])\n",
      "/var/folders/yg/982c10113957_2gb06y92y35sx509h/T/ipykernel_57645/4104968455.py:24: DtypeWarning: Columns (1) have mixed types. Specify dtype option on import or set low_memory=False.\n",
      "  ttAndMe = pd.read_csv(file_path, sep='\\t', comment='#', header=None, names=['rsid', 'chromosome', 'position', 'genotype'])\n",
      "/var/folders/yg/982c10113957_2gb06y92y35sx509h/T/ipykernel_57645/4104968455.py:24: DtypeWarning: Columns (1) have mixed types. Specify dtype option on import or set low_memory=False.\n",
      "  ttAndMe = pd.read_csv(file_path, sep='\\t', comment='#', header=None, names=['rsid', 'chromosome', 'position', 'genotype'])\n",
      "/var/folders/yg/982c10113957_2gb06y92y35sx509h/T/ipykernel_57645/4104968455.py:24: DtypeWarning: Columns (1) have mixed types. Specify dtype option on import or set low_memory=False.\n",
      "  ttAndMe = pd.read_csv(file_path, sep='\\t', comment='#', header=None, names=['rsid', 'chromosome', 'position', 'genotype'])\n"
     ]
    },
    {
     "name": "stdout",
     "output_type": "stream",
     "text": [
      "Error processing file 11613.23andme.9536.txt: 'utf-8' codec can't decode byte 0xad in position 11: invalid start byte\n"
     ]
    },
    {
     "name": "stderr",
     "output_type": "stream",
     "text": [
      "/var/folders/yg/982c10113957_2gb06y92y35sx509h/T/ipykernel_57645/4104968455.py:24: DtypeWarning: Columns (1) have mixed types. Specify dtype option on import or set low_memory=False.\n",
      "  ttAndMe = pd.read_csv(file_path, sep='\\t', comment='#', header=None, names=['rsid', 'chromosome', 'position', 'genotype'])\n",
      "/var/folders/yg/982c10113957_2gb06y92y35sx509h/T/ipykernel_57645/4104968455.py:24: DtypeWarning: Columns (1) have mixed types. Specify dtype option on import or set low_memory=False.\n",
      "  ttAndMe = pd.read_csv(file_path, sep='\\t', comment='#', header=None, names=['rsid', 'chromosome', 'position', 'genotype'])\n",
      "/var/folders/yg/982c10113957_2gb06y92y35sx509h/T/ipykernel_57645/4104968455.py:24: DtypeWarning: Columns (1) have mixed types. Specify dtype option on import or set low_memory=False.\n",
      "  ttAndMe = pd.read_csv(file_path, sep='\\t', comment='#', header=None, names=['rsid', 'chromosome', 'position', 'genotype'])\n",
      "/var/folders/yg/982c10113957_2gb06y92y35sx509h/T/ipykernel_57645/4104968455.py:24: DtypeWarning: Columns (1,2) have mixed types. Specify dtype option on import or set low_memory=False.\n",
      "  ttAndMe = pd.read_csv(file_path, sep='\\t', comment='#', header=None, names=['rsid', 'chromosome', 'position', 'genotype'])\n",
      "/var/folders/yg/982c10113957_2gb06y92y35sx509h/T/ipykernel_57645/4104968455.py:24: DtypeWarning: Columns (1) have mixed types. Specify dtype option on import or set low_memory=False.\n",
      "  ttAndMe = pd.read_csv(file_path, sep='\\t', comment='#', header=None, names=['rsid', 'chromosome', 'position', 'genotype'])\n",
      "/var/folders/yg/982c10113957_2gb06y92y35sx509h/T/ipykernel_57645/4104968455.py:24: DtypeWarning: Columns (1) have mixed types. Specify dtype option on import or set low_memory=False.\n",
      "  ttAndMe = pd.read_csv(file_path, sep='\\t', comment='#', header=None, names=['rsid', 'chromosome', 'position', 'genotype'])\n",
      "/var/folders/yg/982c10113957_2gb06y92y35sx509h/T/ipykernel_57645/4104968455.py:24: DtypeWarning: Columns (1) have mixed types. Specify dtype option on import or set low_memory=False.\n",
      "  ttAndMe = pd.read_csv(file_path, sep='\\t', comment='#', header=None, names=['rsid', 'chromosome', 'position', 'genotype'])\n",
      "/var/folders/yg/982c10113957_2gb06y92y35sx509h/T/ipykernel_57645/4104968455.py:24: DtypeWarning: Columns (1) have mixed types. Specify dtype option on import or set low_memory=False.\n",
      "  ttAndMe = pd.read_csv(file_path, sep='\\t', comment='#', header=None, names=['rsid', 'chromosome', 'position', 'genotype'])\n",
      "/var/folders/yg/982c10113957_2gb06y92y35sx509h/T/ipykernel_57645/4104968455.py:24: DtypeWarning: Columns (1) have mixed types. Specify dtype option on import or set low_memory=False.\n",
      "  ttAndMe = pd.read_csv(file_path, sep='\\t', comment='#', header=None, names=['rsid', 'chromosome', 'position', 'genotype'])\n",
      "/var/folders/yg/982c10113957_2gb06y92y35sx509h/T/ipykernel_57645/4104968455.py:24: DtypeWarning: Columns (1) have mixed types. Specify dtype option on import or set low_memory=False.\n",
      "  ttAndMe = pd.read_csv(file_path, sep='\\t', comment='#', header=None, names=['rsid', 'chromosome', 'position', 'genotype'])\n"
     ]
    },
    {
     "name": "stdout",
     "output_type": "stream",
     "text": [
      "Error processing file 11613.23andme.9537.txt: 'utf-8' codec can't decode byte 0xad in position 11: invalid start byte\n",
      "Error processing file 9921.23andme.10110.txt: 'utf-8' codec can't decode byte 0x8b in position 1: invalid start byte\n"
     ]
    },
    {
     "name": "stderr",
     "output_type": "stream",
     "text": [
      "/var/folders/yg/982c10113957_2gb06y92y35sx509h/T/ipykernel_57645/4104968455.py:24: DtypeWarning: Columns (1) have mixed types. Specify dtype option on import or set low_memory=False.\n",
      "  ttAndMe = pd.read_csv(file_path, sep='\\t', comment='#', header=None, names=['rsid', 'chromosome', 'position', 'genotype'])\n",
      "/var/folders/yg/982c10113957_2gb06y92y35sx509h/T/ipykernel_57645/4104968455.py:24: DtypeWarning: Columns (1) have mixed types. Specify dtype option on import or set low_memory=False.\n",
      "  ttAndMe = pd.read_csv(file_path, sep='\\t', comment='#', header=None, names=['rsid', 'chromosome', 'position', 'genotype'])\n",
      "/var/folders/yg/982c10113957_2gb06y92y35sx509h/T/ipykernel_57645/4104968455.py:24: DtypeWarning: Columns (1) have mixed types. Specify dtype option on import or set low_memory=False.\n",
      "  ttAndMe = pd.read_csv(file_path, sep='\\t', comment='#', header=None, names=['rsid', 'chromosome', 'position', 'genotype'])\n",
      "/var/folders/yg/982c10113957_2gb06y92y35sx509h/T/ipykernel_57645/4104968455.py:24: DtypeWarning: Columns (1) have mixed types. Specify dtype option on import or set low_memory=False.\n",
      "  ttAndMe = pd.read_csv(file_path, sep='\\t', comment='#', header=None, names=['rsid', 'chromosome', 'position', 'genotype'])\n",
      "/var/folders/yg/982c10113957_2gb06y92y35sx509h/T/ipykernel_57645/4104968455.py:24: DtypeWarning: Columns (1) have mixed types. Specify dtype option on import or set low_memory=False.\n",
      "  ttAndMe = pd.read_csv(file_path, sep='\\t', comment='#', header=None, names=['rsid', 'chromosome', 'position', 'genotype'])\n",
      "/var/folders/yg/982c10113957_2gb06y92y35sx509h/T/ipykernel_57645/4104968455.py:24: DtypeWarning: Columns (1) have mixed types. Specify dtype option on import or set low_memory=False.\n",
      "  ttAndMe = pd.read_csv(file_path, sep='\\t', comment='#', header=None, names=['rsid', 'chromosome', 'position', 'genotype'])\n"
     ]
    },
    {
     "name": "stdout",
     "output_type": "stream",
     "text": [
      "Error processing file 11677.23andme.9594.txt: 'utf-8' codec can't decode byte 0xd0 in position 10: invalid continuation byte\n"
     ]
    },
    {
     "name": "stderr",
     "output_type": "stream",
     "text": [
      "/var/folders/yg/982c10113957_2gb06y92y35sx509h/T/ipykernel_57645/4104968455.py:24: DtypeWarning: Columns (1) have mixed types. Specify dtype option on import or set low_memory=False.\n",
      "  ttAndMe = pd.read_csv(file_path, sep='\\t', comment='#', header=None, names=['rsid', 'chromosome', 'position', 'genotype'])\n",
      "/var/folders/yg/982c10113957_2gb06y92y35sx509h/T/ipykernel_57645/4104968455.py:24: DtypeWarning: Columns (1) have mixed types. Specify dtype option on import or set low_memory=False.\n",
      "  ttAndMe = pd.read_csv(file_path, sep='\\t', comment='#', header=None, names=['rsid', 'chromosome', 'position', 'genotype'])\n",
      "/var/folders/yg/982c10113957_2gb06y92y35sx509h/T/ipykernel_57645/4104968455.py:24: DtypeWarning: Columns (1) have mixed types. Specify dtype option on import or set low_memory=False.\n",
      "  ttAndMe = pd.read_csv(file_path, sep='\\t', comment='#', header=None, names=['rsid', 'chromosome', 'position', 'genotype'])\n"
     ]
    },
    {
     "name": "stdout",
     "output_type": "stream",
     "text": [
      "Error processing file 11617.23andme.9531.txt: 'utf-8' codec can't decode byte 0xf4 in position 10: invalid continuation byte\n",
      "Error processing file 11617.23andme.9530.txt: 'utf-8' codec can't decode byte 0xf4 in position 10: invalid continuation byte\n"
     ]
    },
    {
     "name": "stderr",
     "output_type": "stream",
     "text": [
      "/var/folders/yg/982c10113957_2gb06y92y35sx509h/T/ipykernel_57645/4104968455.py:24: DtypeWarning: Columns (1) have mixed types. Specify dtype option on import or set low_memory=False.\n",
      "  ttAndMe = pd.read_csv(file_path, sep='\\t', comment='#', header=None, names=['rsid', 'chromosome', 'position', 'genotype'])\n",
      "/var/folders/yg/982c10113957_2gb06y92y35sx509h/T/ipykernel_57645/4104968455.py:24: DtypeWarning: Columns (1) have mixed types. Specify dtype option on import or set low_memory=False.\n",
      "  ttAndMe = pd.read_csv(file_path, sep='\\t', comment='#', header=None, names=['rsid', 'chromosome', 'position', 'genotype'])\n",
      "/var/folders/yg/982c10113957_2gb06y92y35sx509h/T/ipykernel_57645/4104968455.py:24: DtypeWarning: Columns (1) have mixed types. Specify dtype option on import or set low_memory=False.\n",
      "  ttAndMe = pd.read_csv(file_path, sep='\\t', comment='#', header=None, names=['rsid', 'chromosome', 'position', 'genotype'])\n"
     ]
    },
    {
     "name": "stdout",
     "output_type": "stream",
     "text": [
      "Error processing file 12191.23andme.10038.txt: 'utf-8' codec can't decode byte 0x8b in position 1: invalid start byte\n"
     ]
    },
    {
     "name": "stderr",
     "output_type": "stream",
     "text": [
      "/var/folders/yg/982c10113957_2gb06y92y35sx509h/T/ipykernel_57645/4104968455.py:24: DtypeWarning: Columns (1) have mixed types. Specify dtype option on import or set low_memory=False.\n",
      "  ttAndMe = pd.read_csv(file_path, sep='\\t', comment='#', header=None, names=['rsid', 'chromosome', 'position', 'genotype'])\n",
      "/var/folders/yg/982c10113957_2gb06y92y35sx509h/T/ipykernel_57645/4104968455.py:24: DtypeWarning: Columns (1) have mixed types. Specify dtype option on import or set low_memory=False.\n",
      "  ttAndMe = pd.read_csv(file_path, sep='\\t', comment='#', header=None, names=['rsid', 'chromosome', 'position', 'genotype'])\n",
      "/var/folders/yg/982c10113957_2gb06y92y35sx509h/T/ipykernel_57645/4104968455.py:24: DtypeWarning: Columns (1) have mixed types. Specify dtype option on import or set low_memory=False.\n",
      "  ttAndMe = pd.read_csv(file_path, sep='\\t', comment='#', header=None, names=['rsid', 'chromosome', 'position', 'genotype'])\n",
      "/var/folders/yg/982c10113957_2gb06y92y35sx509h/T/ipykernel_57645/4104968455.py:24: DtypeWarning: Columns (1) have mixed types. Specify dtype option on import or set low_memory=False.\n",
      "  ttAndMe = pd.read_csv(file_path, sep='\\t', comment='#', header=None, names=['rsid', 'chromosome', 'position', 'genotype'])\n",
      "/var/folders/yg/982c10113957_2gb06y92y35sx509h/T/ipykernel_57645/4104968455.py:24: DtypeWarning: Columns (1) have mixed types. Specify dtype option on import or set low_memory=False.\n",
      "  ttAndMe = pd.read_csv(file_path, sep='\\t', comment='#', header=None, names=['rsid', 'chromosome', 'position', 'genotype'])\n"
     ]
    }
   ],
   "source": [
    "import os\n",
    "import pandas as pd\n",
    "\n",
    "# Set the path to the folder containing the 23andMe files\n",
    "folder_path = \"../../Data/23andMe_files\"\n",
    "\n",
    "# Read the PRS313 file\n",
    "PRS313 = pd.read_excel('../../Data/PRS313.xlsx')\n",
    "\n",
    "# Initialize a dictionary to store the results\n",
    "result_dict = {}\n",
    "\n",
    "# Initialize a set to store the unique positions from all 23andMe files\n",
    "unique_positions_set = set()\n",
    "\n",
    "# Initialize a dictionary to store the counts of positions from each 23andMe file\n",
    "position_counts = {}\n",
    "\n",
    "# Iterate over each file in the folder\n",
    "for filename in os.listdir(folder_path):\n",
    "    file_path = os.path.join(folder_path, filename)\n",
    "    try:\n",
    "        # Read the 23andMe raw data file into a DataFrame\n",
    "        ttAndMe = pd.read_csv(file_path, sep='\\t', comment='#', header=None, names=['rsid', 'chromosome', 'position', 'genotype'])\n",
    "\n",
    "        # If the number of positions is greater than 700000 or less than 600000, delete the file and move on\n",
    "        if ttAndMe.shape[0] > 700000 or ttAndMe.shape[0] < 600000:\n",
    "            print(f\"File {filename} has an invalid number of positions: {ttAndMe.shape[0]}. Deleting the file.\")\n",
    "            os.remove(file_path)\n",
    "            continue\n",
    "\n",
    "        # Merge the 23andMe DataFrame with the PRS313 DataFrame based on chromosome and position\n",
    "        merged_df = pd.merge(ttAndMe, PRS313[['SNPa', 'Chromosome', 'Positionb']], left_on=['chromosome', 'position'], right_on=['Chromosome', 'Positionb'], how='inner')\n",
    "\n",
    "        # Count the presence of each SNP in the merged DataFrame\n",
    "        snp_presence = merged_df.groupby('SNPa').size().reindex(PRS313['SNPa'], fill_value=0).astype(bool)\n",
    "\n",
    "        # Count the total number of SNPs present\n",
    "        total_snps_present = snp_presence.sum()\n",
    "\n",
    "        # Count the total number of positions in the 23andMe file\n",
    "        total_positions = ttAndMe.shape[0]\n",
    "\n",
    "        # Store the results in the dictionary\n",
    "        result_dict[filename] = list(snp_presence) + [total_snps_present, total_positions]\n",
    "\n",
    "        # Update the unique positions set\n",
    "        unique_positions_set.update(zip(ttAndMe['chromosome'], ttAndMe['position']))\n",
    "\n",
    "        # Update the position counts dictionary\n",
    "        for pos in zip(ttAndMe['chromosome'], ttAndMe['position']):\n",
    "            position_counts[pos] = position_counts.get(pos, 0) + 1\n",
    "\n",
    "    except Exception as e:\n",
    "        print(f\"Error processing file {filename}: {e}\")\n",
    "        os.remove(file_path)\n",
    "        continue\n",
    "\n",
    "# Create the result DataFrame from the dictionary\n",
    "result_df = pd.DataFrame.from_dict(result_dict, orient='index', columns=PRS313['SNPa'].tolist() + ['total_snps_present', 'total_positions'])\n",
    "\n",
    "\n",
    "# Save the results to Excel files\n",
    "result_df.to_excel('../../Data/PRS313_23andMe_PRS313_intersection.xlsx', index_label='filename')\n",
    "\n",
    "\n"
   ]
  },
  {
   "cell_type": "code",
   "execution_count": 71,
   "metadata": {},
   "outputs": [],
   "source": [
    "output_folder = \"../../Data/23andMe_metadata_files/\"\n",
    "\n",
    "os.makedirs(output_folder, exist_ok=True)\n",
    "\n",
    "# Create a DataFrame with unique positions\n",
    "unique_positions_df = pd.DataFrame(list(unique_positions_set), columns=['chromosome', 'position'])\n",
    "unique_positions_df = unique_positions_df.astype(str)\n",
    "\n",
    "unique_positions_df.to_parquet(f'{output_folder}23andMe_unique_positions.parquet', index=False)\n",
    "\n",
    "# Find the positions present in all 23andMe files\n",
    "num_files = len(result_dict)\n",
    "intersection_positions_100 = [pos for pos, count in position_counts.items() if count == num_files]\n",
    "intersection_positions_95 = [pos for pos, count in position_counts.items() if count > 0.95 * num_files]\n",
    "intersection_positions_90 = [pos for pos, count in position_counts.items() if count > 0.9 * num_files]\n",
    "intersection_positions_85 = [pos for pos, count in position_counts.items() if count > 0.85 * num_files]\n",
    "intersection_positions_80 = [pos for pos, count in position_counts.items() if count > 0.8 * num_files]\n",
    "intersection_positions_75 = [pos for pos, count in position_counts.items() if count > 0.75 * num_files]\n",
    "intersection_positions_70 = [pos for pos, count in position_counts.items() if count > 0.7 * num_files]\n",
    "intersection_positions_65 = [pos for pos, count in position_counts.items() if count > 0.65 * num_files]\n",
    "intersection_positions_60 = [pos for pos, count in position_counts.items() if count > 0.65 * num_files]\n",
    "\n",
    "\n",
    "intersection_positions_df_100 = pd.DataFrame(intersection_positions_100, columns=['chromosome', 'position']).astype(str)\n",
    "intersection_positions_df_95 = pd.DataFrame(intersection_positions_95, columns=['chromosome', 'position']).astype(str)\n",
    "intersection_positions_df_90 = pd.DataFrame(intersection_positions_90, columns=['chromosome', 'position']).astype(str)\n",
    "intersection_positions_df_85 = pd.DataFrame(intersection_positions_85, columns=['chromosome', 'position']).astype(str)\n",
    "intersection_positions_df_80 = pd.DataFrame(intersection_positions_80, columns=['chromosome', 'position']).astype(str)\n",
    "intersection_positions_df_75 = pd.DataFrame(intersection_positions_75, columns=['chromosome', 'position']).astype(str)\n",
    "intersection_positions_df_70 = pd.DataFrame(intersection_positions_70, columns=['chromosome', 'position']).astype(str)\n",
    "intersection_positions_df_65 = pd.DataFrame(intersection_positions_65, columns=['chromosome', 'position']).astype(str)\n",
    "intersection_positions_df_60 = pd.DataFrame(intersection_positions_60, columns=['chromosome', 'position']).astype(str)\n",
    "\n",
    "# Save the intersection positions to Excel files\n",
    "\n",
    "intersection_positions_df_100.to_parquet(f'{output_folder}23andMe_intersection_positions_100.parquet', index=False)\n",
    "intersection_positions_df_95.to_parquet(f'{output_folder}23andMe_intersection_positions_95.parquet', index=False)\n",
    "intersection_positions_df_90.to_parquet(f'{output_folder}23andMe_intersection_positions_90.parquet', index=False)\n",
    "intersection_positions_df_85.to_parquet(f'{output_folder}23andMe_intersection_positions_85.parquet', index=False)\n",
    "intersection_positions_df_80.to_parquet(f'{output_folder}23andMe_intersection_positions_80.parquet', index=False)\n",
    "intersection_positions_df_75.to_parquet(f'{output_folder}23andMe_intersection_positions_75.parquet', index=False)\n",
    "intersection_positions_df_70.to_parquet(f'{output_folder}23andMe_intersection_positions_70.parquet', index=False)\n",
    "intersection_positions_df_65.to_parquet(f'{output_folder}23andMe_intersection_positions_65.parquet', index=False)\n",
    "intersection_positions_df_60.to_parquet(f'{output_folder}23andMe_intersection_positions_60.parquet', index=False)\n"
   ]
  },
  {
   "cell_type": "code",
   "execution_count": 76,
   "metadata": {},
   "outputs": [],
   "source": [
    "intersection_positions_df_80.to_csv(f'{output_folder}23andMe_intersection_positions_80.tsv', index=False, sep='\\t')\n"
   ]
  },
  {
   "cell_type": "code",
   "execution_count": 72,
   "metadata": {},
   "outputs": [
    {
     "data": {
      "image/png": "[encoded data removed]",
      "text/plain": [
       "<Figure size 640x480 with 1 Axes>"
      ]
     },
     "metadata": {},
     "output_type": "display_data"
    }
   ],
   "source": [
    "# Graph the number of positions at each intersection level. Plot every 5% from 60% to 100%\n",
    "import matplotlib.pyplot as plt\n",
    "\n",
    "intersection_percentages = [60, 65, 70, 75, 80, 85, 90, 95, 100]\n",
    "intersection_counts = [intersection_positions_df_60.shape[0], intersection_positions_df_65.shape[0], intersection_positions_df_70.shape[0], intersection_positions_df_75.shape[0],\n",
    "                       intersection_positions_df_80.shape[0], intersection_positions_df_85.shape[0], intersection_positions_df_90.shape[0], intersection_positions_df_95.shape[0], intersection_positions_df_100.shape[0]]\n",
    "\n",
    "plt.plot(intersection_percentages, intersection_counts, marker='o')\n",
    "plt.xlabel('Intersection Percentage')\n",
    "plt.ylabel('Number of Positions')\n",
    "plt.title('Number of Positions at Each Intersection Level')\n",
    "plt.grid()\n",
    "plt.show()"
   ]
  },
  {
   "cell_type": "code",
   "execution_count": 73,
   "metadata": {},
   "outputs": [
    {
     "name": "stdout",
     "output_type": "stream",
     "text": [
      "Number of unique positions in all 23andMe files: 3315258\n"
     ]
    }
   ],
   "source": [
    "print(\"Number of unique positions in all 23andMe files:\", len(unique_positions_set))"
   ]
  },
  {
   "cell_type": "markdown",
   "metadata": {},
   "source": [
    "# Convert all the 23andMe files to text files"
   ]
  },
  {
   "cell_type": "code",
   "execution_count": 36,
   "metadata": {},
   "outputs": [
    {
     "name": "stdout",
     "output_type": "stream",
     "text": [
      "Renamed 12102.23andme.9966 to 12102.txt\n",
      "Renamed 11864.23andme.9744 to 11864.txt\n",
      "Renamed 11826.23andme.9708 to 11826.txt\n",
      "Renamed 11703.23andme.9619 to 11703.txt\n",
      "Renamed 12065.23andme.9923 to 12065.txt\n",
      "Renamed 11936.23andme.9808 to 11936.txt\n",
      "Renamed 12299.23andme.10131 to 12299.txt\n",
      "Renamed 11874.23andme.9752 to 11874.txt\n",
      "Renamed 12072.23andme.9932 to 12072.txt\n",
      "Renamed 11662.23andme.9585 to 11662.txt\n",
      "Renamed 12192.23andme.10043 to 12192.txt\n",
      "Renamed 11983.23andme.9848 to 11983.txt\n",
      "Renamed 11775.23andme.9673 to 11775.txt\n",
      "Renamed 11919.23andme.9794 to 11919.txt\n",
      "Renamed 11850.23andme.9730 to 11850.txt\n",
      "Renamed 11765.23andme.9663 to 11765.txt\n",
      "Renamed 12266.23andme.10102 to 12266.txt\n",
      "Renamed 12155.23andme.10004 to 12155.txt\n",
      "Renamed 10936.23andme.9481 to 10936.txt\n",
      "Renamed 11993.23andme.9860 to 11993.txt\n",
      "Renamed 12018.23andme.9881 to 12018.txt\n",
      "Renamed 11919.23andme.9793 to 11919.txt\n",
      "Renamed 11957.23andme.9826 to 11957.txt\n",
      "Renamed 11722.23andme.9630 to 11722.txt\n",
      "Renamed 11654.23andme.9576 to 11654.txt\n",
      "Renamed 12053.23andme.9912 to 12053.txt\n",
      "Renamed 11847.23andme.9728 to 11847.txt\n",
      "Renamed 11963.23andme.9831 to 11963.txt\n",
      "Renamed 11649.23andme.9574 to 11649.txt\n",
      "Renamed 12207.23andme.10056 to 12207.txt\n",
      "Renamed 12114.23andme.9977 to 12114.txt\n",
      "Renamed 11601.23andme.9495 to 11601.txt\n",
      "Renamed 11819.23andme.9702 to 11819.txt\n",
      "Renamed 12277.23andme.10113 to 12277.txt\n",
      "Renamed 11837.23andme.9721 to 11837.txt\n",
      "Renamed 12249.23andme.10092 to 12249.txt\n",
      "Renamed 12243.23andme.10088 to 12243.txt\n",
      "Renamed 12130.23andme.9985 to 12130.txt\n",
      "Renamed 12037.23andme.9895 to 12037.txt\n",
      "Renamed 12307.23andme.10136 to 12307.txt\n",
      "Renamed 11992.23andme.9859 to 11992.txt\n",
      "Renamed 12288.23andme.10121 to 12288.txt\n",
      "Renamed 11993.23andme.9915 to 11993.txt\n",
      "Renamed 12045.23andme.9902 to 12045.txt\n",
      "Renamed 11717.23andme.9627 to 11717.txt\n",
      "Renamed 12073.23andme.9933 to 12073.txt\n",
      "Renamed 11900.23andme.9773 to 11900.txt\n",
      "Renamed 11774.23andme.9672 to 11774.txt\n",
      "Renamed 11736.23andme.9639 to 11736.txt\n",
      "Renamed 11882.23andme.9760 to 11882.txt\n",
      "Renamed 11988.23andme.9853 to 11988.txt\n",
      "Renamed 11937.23andme.9809 to 11937.txt\n",
      "Renamed 11982.23andme.9847 to 11982.txt\n",
      "Renamed 11816.23andme.9701 to 11816.txt\n",
      "Renamed 11601.23andme.9494 to 11601.txt\n",
      "Renamed 11970.23andme.9838 to 11970.txt\n",
      "Renamed 11951.23andme.9821 to 11951.txt\n",
      "Renamed 12064.23andme.9922 to 12064.txt\n",
      "Renamed 11702.23andme.9618 to 11702.txt\n",
      "Renamed 11865.23andme.9745 to 11865.txt\n",
      "Renamed 11687.23andme.9605 to 11687.txt\n",
      "Renamed 11912.23andme.9789 to 11912.txt\n",
      "Renamed 12013.23andme.9875 to 12013.txt\n",
      "Renamed 12250.23andme.10093 to 12250.txt\n",
      "Renamed 11666.23andme.9588 to 11666.txt\n",
      "Renamed 11941.23andme.9812 to 11941.txt\n",
      "Renamed 11682.23andme.9601 to 11682.txt\n",
      "Renamed 11708.23andme.9621 to 11708.txt\n",
      "Renamed 12089.23andme.9955 to 12089.txt\n",
      "Renamed 12061.23andme.9919 to 12061.txt\n",
      "Renamed 11671.23andme.9591 to 11671.txt\n",
      "Renamed 11978.23andme.9844 to 11978.txt\n",
      "Renamed 12224.23andme.10069 to 12224.txt\n",
      "Renamed 11949.23andme.9820 to 11949.txt\n",
      "Renamed 12071.23andme.9930 to 12071.txt\n",
      "Renamed 12286.23andme.10119 to 12286.txt\n",
      "Renamed 11835.23andme.9715 to 11835.txt\n",
      "Renamed 11789.23andme.9685 to 11789.txt\n",
      "Renamed 12301.23andme.10133 to 12301.txt\n",
      "Renamed 11933.23andme.9805 to 11933.txt\n",
      "Renamed 11602.23andme.9498 to 11602.txt\n",
      "Renamed 11834.23andme.9714 to 11834.txt\n",
      "Renamed 12088.23andme.9954 to 12088.txt\n",
      "Renamed 12067.23andme.9927 to 12067.txt\n",
      "Renamed 12258.23andme.10097 to 12258.txt\n",
      "Renamed 11790.23andme.9690 to 11790.txt\n",
      "Renamed 11852.23andme.9735 to 11852.txt\n",
      "Renamed 11613.23andme.9536 to 11613.txt\n",
      "Renamed 11829.23andme.9711 to 11829.txt\n",
      "Renamed 11161.23andme.9695 to 11161.txt\n",
      "Renamed 12235.23andme.10082 to 12235.txt\n",
      "Renamed 12110.23andme.9972 to 12110.txt\n",
      "Renamed 11871.23andme.9750 to 11871.txt\n",
      "Renamed 8372.23andme.10096 to 8372.txt\n",
      "Renamed 11644.23andme.9572 to 11644.txt\n",
      "Renamed 12223.23andme.10068 to 12223.txt\n",
      "Renamed 11713.23andme.9624 to 11713.txt\n",
      "Renamed 12268.23andme.10103 to 12268.txt\n",
      "Renamed 12181.23andme.10032 to 12181.txt\n",
      "Renamed 12274.23andme.10108 to 12274.txt\n",
      "Renamed 11613.23andme.9537 to 11613.txt\n",
      "Renamed 11768.23andme.9665 to 11768.txt\n",
      "Renamed 9944.23andme.9462 to 9944.txt\n",
      "Renamed 12185.23andme.10035 to 12185.txt\n",
      "Renamed 11577.23andme.9466 to 11577.txt\n",
      "Renamed 11973.23andme.9840 to 11973.txt\n",
      "Renamed 11699.23andme.9614 to 11699.txt\n",
      "Renamed 12070.23andme.9929 to 12070.txt\n",
      "Renamed 11920.23andme.9795 to 11920.txt\n",
      "Renamed 12275.23andme.10109 to 12275.txt\n",
      "Renamed 11909.23andme.9787 to 11909.txt\n",
      "Renamed 11840.23andme.9723 to 11840.txt\n",
      "Renamed 11592.23andme.9480 to 11592.txt\n",
      "Renamed 11694.23andme.9609 to 11694.txt\n",
      "Renamed 11884.23andme.9762 to 11884.txt\n",
      "Renamed 12090.23andme.9956 to 12090.txt\n",
      "Renamed 12260.23andme.10099 to 12260.txt\n",
      "Renamed 10817.23andme.9944 to 10817.txt\n",
      "Renamed 11681.23andme.9600 to 11681.txt\n",
      "Renamed 12211.23andme.10074 to 12211.txt\n",
      "Renamed 12043.23andme.9901 to 12043.txt\n",
      "Renamed 11619.23andme.9534 to 11619.txt\n",
      "Renamed 12040.23andme.9897 to 12040.txt\n",
      "Renamed 11743.23andme.9647 to 11743.txt\n",
      "Renamed 11619.23andme.9533 to 11619.txt\n",
      "Renamed 11772.23andme.9671 to 11772.txt\n",
      "Renamed 12234.23andme.10079 to 12234.txt\n",
      "Renamed 11942.23andme.9813 to 11942.txt\n",
      "Renamed 12098.23andme.9964 to 12098.txt\n",
      "Renamed 12259.23andme.10098 to 12259.txt\n",
      "Renamed 11964.23andme.9832 to 11964.txt\n",
      "Renamed 12026.23andme.9886 to 12026.txt\n",
      "Renamed 12169.23andme.10018 to 12169.txt\n",
      "Renamed 11792.23andme.9691 to 11792.txt\n",
      "Renamed 11619.23andme.9532 to 11619.txt\n",
      "Renamed 12017.23andme.9880 to 12017.txt\n",
      "Renamed 12010.23andme.9873 to 12010.txt\n",
      "Renamed 12082.23andme.9950 to 12082.txt\n",
      "Renamed 11619.23andme.9535 to 11619.txt\n",
      "Renamed 11587.23andme.9475 to 11587.txt\n",
      "Renamed 11725.23andme.9633 to 11725.txt\n",
      "Renamed 12203.23andme.10052 to 12203.txt\n",
      "Renamed 9126.23andme.10054 to 9126.txt\n",
      "Renamed 11725.23andme.9634 to 11725.txt\n",
      "Renamed 12166.23andme.10014 to 12166.txt\n",
      "Renamed 11790.23andme.9689 to 11790.txt\n",
      "Renamed 11615.23andme.9529 to 11615.txt\n",
      "Renamed 11959.23andme.9828 to 11959.txt\n",
      "Renamed 11629.23andme.9550 to 11629.txt\n",
      "Renamed 5892.23andme.9983 to 5892.txt\n",
      "Renamed 11617.23andme.9531 to 11617.txt\n",
      "Renamed 11698.23andme.9613 to 11698.txt\n",
      "Renamed 11875.23andme.9756 to 11875.txt\n",
      "Renamed 11692.23andme.9607 to 11692.txt\n",
      "Renamed 11601.23andme.9496 to 11601.txt\n",
      "Renamed 11930.23andme.9802 to 11930.txt\n",
      "Renamed 11599.23andme.9493 to 11599.txt\n",
      "Renamed 9921.23andme.10111 to 9921.txt\n",
      "Renamed 11870.23andme.9749 to 11870.txt\n",
      "Renamed 11755.23andme.9656 to 11755.txt\n",
      "Renamed 11596.23andme.9491 to 11596.txt\n",
      "Renamed 11617.23andme.9530 to 11617.txt\n",
      "Renamed 11820.23andme.9703 to 11820.txt\n",
      "Renamed 12204.23andme.10053 to 12204.txt\n",
      "Renamed 12261.23andme.10100 to 12261.txt\n",
      "Renamed 11800.23andme.9694 to 11800.txt\n",
      "Renamed 6800.23andme.10042 to 6800.txt\n",
      "Renamed 11615.23andme.9528 to 11615.txt\n",
      "Renamed 12188.23andme.10036 to 12188.txt\n",
      "Renamed 9921.23andme.10110 to 9921.txt\n",
      "Renamed 12001.23andme.9865 to 12001.txt\n",
      "Renamed 11599.23andme.9492 to 11599.txt\n",
      "Renamed 11943.23andme.9814 to 11943.txt\n",
      "Renamed 12283.23andme.10117 to 12283.txt\n",
      "Renamed 11601.23andme.9497 to 11601.txt\n",
      "Renamed 12272.23andme.10107 to 12272.txt\n",
      "Renamed 12050.23andme.9909 to 12050.txt\n",
      "Renamed 12233.23andme.10078 to 12233.txt\n",
      "Renamed 12191.23andme.10038 to 12191.txt\n",
      "Renamed 11902.23andme.9781 to 11902.txt\n",
      "Renamed 11835.23andme.9717 to 11835.txt\n",
      "Renamed 11669.23andme.9589 to 11669.txt\n",
      "Renamed 12159.23andme.10010 to 12159.txt\n",
      "Renamed 11977.23andme.9843 to 11977.txt\n",
      "Renamed 11960.23andme.9830 to 11960.txt\n",
      "Renamed 12220.23andme.10065 to 12220.txt\n",
      "Renamed 11796.23andme.9693 to 11796.txt\n",
      "Renamed 12014.23andme.9876 to 12014.txt\n",
      "Renamed 11583.23andme.9470 to 11583.txt\n",
      "Renamed 11802.23andme.9696 to 11802.txt\n",
      "Renamed 12004.23andme.9868 to 12004.txt\n",
      "Renamed 11835.23andme.9718 to 11835.txt\n",
      "Renamed 11968.23andme.9834 to 11968.txt\n",
      "Renamed 12153.23andme.10002 to 12153.txt\n",
      "Renamed 11835.23andme.9716 to 11835.txt\n",
      "Renamed 11878.23andme.9758 to 11878.txt\n",
      "Renamed 11935.23andme.9807 to 11935.txt\n",
      "Renamed 11781.23andme.9677 to 11781.txt\n",
      "Renamed 11868.23andme.9747 to 11868.txt\n",
      "Renamed 12247.23andme.10091 to 12247.txt\n",
      "Renamed 11854.23andme.9737 to 11854.txt\n",
      "Renamed 11671.23andme.9592 to 11671.txt\n",
      "Renamed 12127.23andme.9984 to 12127.txt\n",
      "Renamed 5892.23andme.9731 to 5892.txt\n",
      "Renamed 11766.23andme.9664 to 11766.txt\n",
      "Renamed 12047.23andme.9903 to 12047.txt\n",
      "Renamed 11822.23andme.9707 to 11822.txt\n",
      "Renamed 12086.23andme.9953 to 12086.txt\n",
      "Renamed 11576.23andme.9465 to 11576.txt\n",
      "Renamed 11869.23andme.9748 to 11869.txt\n",
      "Renamed 11677.23andme.9594 to 11677.txt\n",
      "Renamed 11999.23andme.9863 to 11999.txt\n",
      "Renamed 12015.23andme.9878 to 12015.txt\n",
      "Renamed 12033.23andme.9892 to 12033.txt\n",
      "Renamed 12068.23andme.9928 to 12068.txt\n",
      "Renamed 11580.23andme.9468 to 11580.txt\n",
      "Renamed 11858.23andme.9740 to 11858.txt\n",
      "Renamed 11981.23andme.9846 to 11981.txt\n",
      "Renamed 12226.23andme.10072 to 12226.txt\n",
      "Renamed 11725.23andme.9645 to 11725.txt\n",
      "Renamed 12024.23andme.9884 to 12024.txt\n",
      "Renamed 11969.23andme.9835 to 11969.txt\n",
      "Renamed 11922.23andme.9796 to 11922.txt\n",
      "Renamed 12034.23andme.9893 to 12034.txt\n",
      "Renamed 12049.23andme.9908 to 12049.txt\n",
      "Renamed 9962.23andme.9686 to 9962.txt\n",
      "Renamed 12107.23andme.9969 to 12107.txt\n",
      "Renamed 11590.23andme.9478 to 11590.txt\n",
      "Renamed 11947.23andme.9817 to 11947.txt\n",
      "Renamed 11876.23andme.9754 to 11876.txt\n",
      "Renamed 12140.23andme.9993 to 12140.txt\n",
      "Renamed 12198.23andme.10049 to 12198.txt\n",
      "Renamed 11643.23andme.9571 to 11643.txt\n",
      "Renamed 12059.23andme.9917 to 12059.txt\n",
      "Renamed 11845.23andme.9726 to 11845.txt\n"
     ]
    }
   ],
   "source": [
    "# Set the path to the folder containing the 23andMe files\n",
    "folder_path = \"../../Data/23andMe_files\"\n",
    "\n",
    "# Convert all the 23andMe files to .txt format if they are not already in that format\n",
    "\n",
    "for filename in os.listdir(folder_path):\n",
    "    file_path = os.path.join(folder_path, filename)\n",
    "    \n",
    "    # Check if the file is already in .txt format\n",
    "    if not filename.endswith('.txt'):\n",
    "        new_file_path = os.path.join(folder_path, filename + '.txt')\n",
    "        os.rename(file_path, new_file_path)\n",
    "        print(f\"Renamed {filename} to {filename.split('.')[0] + '.txt'}\")\n",
    "        "
   ]
  },
  {
   "cell_type": "code",
   "execution_count": 35,
   "metadata": {},
   "outputs": [
    {
     "data": {
      "text/plain": [
       "279"
      ]
     },
     "execution_count": 35,
     "metadata": {},
     "output_type": "execute_result"
    }
   ],
   "source": [
    "# Print number of files in the folder\n",
    "len(os.listdir(folder_path))\n"
   ]
  }
 ],
 "metadata": {
  "kernelspec": {
   "display_name": "Python 3",
   "language": "python",
   "name": "python3"
  },
  "language_info": {
   "codemirror_mode": {
    "name": "ipython",
    "version": 3
   },
   "file_extension": ".py",
   "mimetype": "text/x-python",
   "name": "python",
   "nbconvert_exporter": "python",
   "pygments_lexer": "ipython3",
   "version": "3.11.1"
  }
 },
 "nbformat": 4,
 "nbformat_minor": 2
}
