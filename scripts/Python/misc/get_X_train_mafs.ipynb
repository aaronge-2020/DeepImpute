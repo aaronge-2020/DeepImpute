{
 "cells": [
  {
   "cell_type": "code",
   "execution_count": 13,
   "metadata": {},
   "outputs": [],
   "source": [
    "import requests\n",
    "\n",
    "def get_snp_by_position(chromosome, position):\n",
    "    base_url = \"https://clinicaltables.nlm.nih.gov/api/snps/v3/search\"\n",
    "    params = {\n",
    "        'terms': f'{chromosome}:{position}',\n",
    "    }\n",
    "    response = requests.get(base_url, params=params)\n",
    "    \n",
    "    if response.status_code == 200:\n",
    "        data = response.json()\n",
    "        if data[1]:\n",
    "            rsid = data[1][0]  # Get the first rsID in the result\n",
    "            return rsid\n",
    "        else:\n",
    "            return None\n",
    "    else:\n",
    "        return None\n",
    "\n",
    "def get_snp_maf(rsid):\n",
    "    base_url = \"https://clinicaltables.nlm.nih.gov/api/snps/v3/search\"\n",
    "    params = {\n",
    "        'terms': rsid,\n",
    "        'df': 'rsNum,38.chr,38.pos,38.alleles,38.gene',\n",
    "        'ef': 'MAF'\n",
    "    }\n",
    "    response = requests.get(base_url, params=params)\n",
    "    \n",
    "    if response.status_code == 200:\n",
    "        data = response.json()\n",
    "        if data[2] and 'MAF' in data[2]:\n",
    "            maf = data[2]['MAF'][0]  # Get the MAF value\n",
    "            return maf\n",
    "        else:\n",
    "            return \"MAF not found\"\n",
    "    else:\n",
    "        return f\"Error: {response.status_code}\"\n",
    "\n",
    "# Example usage\n",
    "chromosome = '1'  # Replace with your chromosome number\n",
    "position = '100880328'  # Replace with your position\n",
    "rsid = get_snp_by_position(chromosome, position)\n",
    "if rsid:\n",
    "    maf = get_snp_maf(rsid)\n",
    "    print(f\"MAF of {rsid} (chr{chromosome}:{position}): {maf}\")\n",
    "else:\n",
    "    print(f\"No rsID found for chr{chromosome}:{position}\")\n"
   ]
  }
 ],
 "metadata": {
  "kernelspec": {
   "display_name": ".venv",
   "language": "python",
   "name": "python3"
  },
  "language_info": {
   "codemirror_mode": {
    "name": "ipython",
    "version": 3
   },
   "file_extension": ".py",
   "mimetype": "text/x-python",
   "name": "python",
   "nbconvert_exporter": "python",
   "pygments_lexer": "ipython3",
   "version": "3.11.1"
  }
 },
 "nbformat": 4,
 "nbformat_minor": 2
}
