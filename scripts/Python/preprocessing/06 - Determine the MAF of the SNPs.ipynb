{
 "cells": [
  {
   "cell_type": "code",
   "execution_count": 4,
   "metadata": {},
   "outputs": [
    {
     "ename": "KeyboardInterrupt",
     "evalue": "",
     "output_type": "error",
     "traceback": [
      "\u001b[0;31m---------------------------------------------------------------------------\u001b[0m",
      "\u001b[0;31mKeyboardInterrupt\u001b[0m                         Traceback (most recent call last)",
      "Cell \u001b[0;32mIn[4], line 35\u001b[0m\n\u001b[1;32m     32\u001b[0m combined_data_df \u001b[38;5;241m=\u001b[39m pd\u001b[38;5;241m.\u001b[39mread_parquet(file_dir)\n\u001b[1;32m     34\u001b[0m \u001b[38;5;66;03m# Calculate MAF\u001b[39;00m\n\u001b[0;32m---> 35\u001b[0m maf_dict \u001b[38;5;241m=\u001b[39m \u001b[43mcalculate_maf\u001b[49m\u001b[43m(\u001b[49m\u001b[43mcombined_data_df\u001b[49m\u001b[43m)\u001b[49m\n\u001b[1;32m     37\u001b[0m \u001b[38;5;66;03m# Save MAF results\u001b[39;00m\n\u001b[1;32m     38\u001b[0m maf_results[\u001b[38;5;124mf\u001b[39m\u001b[38;5;124m'\u001b[39m\u001b[38;5;124mchr\u001b[39m\u001b[38;5;132;01m{\u001b[39;00mchromosome_number\u001b[38;5;132;01m}\u001b[39;00m\u001b[38;5;124m'\u001b[39m] \u001b[38;5;241m=\u001b[39m maf_dict\n",
      "Cell \u001b[0;32mIn[4], line 19\u001b[0m, in \u001b[0;36mcalculate_maf\u001b[0;34m(combined_data_df)\u001b[0m\n\u001b[1;32m     17\u001b[0m \u001b[38;5;28;01mif\u001b[39;00m \u001b[38;5;241m1\u001b[39m \u001b[38;5;129;01min\u001b[39;00m allele_counts\u001b[38;5;241m.\u001b[39mindex \u001b[38;5;129;01mor\u001b[39;00m \u001b[38;5;241m2\u001b[39m \u001b[38;5;129;01min\u001b[39;00m allele_counts\u001b[38;5;241m.\u001b[39mindex:\n\u001b[1;32m     18\u001b[0m     minor_allele_count \u001b[38;5;241m=\u001b[39m allele_counts\u001b[38;5;241m.\u001b[39mget(\u001b[38;5;241m1\u001b[39m, \u001b[38;5;241m0\u001b[39m) \u001b[38;5;241m+\u001b[39m allele_counts\u001b[38;5;241m.\u001b[39mget(\u001b[38;5;241m2\u001b[39m, \u001b[38;5;241m0\u001b[39m) \u001b[38;5;241m*\u001b[39m \u001b[38;5;241m2\u001b[39m\n\u001b[0;32m---> 19\u001b[0m     maf \u001b[38;5;241m=\u001b[39m \u001b[43mminor_allele_count\u001b[49m \u001b[38;5;241m/\u001b[39m total_alleles\n\u001b[1;32m     20\u001b[0m \u001b[38;5;28;01melse\u001b[39;00m:\n\u001b[1;32m     21\u001b[0m     maf \u001b[38;5;241m=\u001b[39m \u001b[38;5;241m0\u001b[39m\n",
      "Cell \u001b[0;32mIn[4], line 19\u001b[0m, in \u001b[0;36mcalculate_maf\u001b[0;34m(combined_data_df)\u001b[0m\n\u001b[1;32m     17\u001b[0m \u001b[38;5;28;01mif\u001b[39;00m \u001b[38;5;241m1\u001b[39m \u001b[38;5;129;01min\u001b[39;00m allele_counts\u001b[38;5;241m.\u001b[39mindex \u001b[38;5;129;01mor\u001b[39;00m \u001b[38;5;241m2\u001b[39m \u001b[38;5;129;01min\u001b[39;00m allele_counts\u001b[38;5;241m.\u001b[39mindex:\n\u001b[1;32m     18\u001b[0m     minor_allele_count \u001b[38;5;241m=\u001b[39m allele_counts\u001b[38;5;241m.\u001b[39mget(\u001b[38;5;241m1\u001b[39m, \u001b[38;5;241m0\u001b[39m) \u001b[38;5;241m+\u001b[39m allele_counts\u001b[38;5;241m.\u001b[39mget(\u001b[38;5;241m2\u001b[39m, \u001b[38;5;241m0\u001b[39m) \u001b[38;5;241m*\u001b[39m \u001b[38;5;241m2\u001b[39m\n\u001b[0;32m---> 19\u001b[0m     maf \u001b[38;5;241m=\u001b[39m \u001b[43mminor_allele_count\u001b[49m \u001b[38;5;241m/\u001b[39m total_alleles\n\u001b[1;32m     20\u001b[0m \u001b[38;5;28;01melse\u001b[39;00m:\n\u001b[1;32m     21\u001b[0m     maf \u001b[38;5;241m=\u001b[39m \u001b[38;5;241m0\u001b[39m\n",
      "File \u001b[0;32m_pydevd_bundle/pydevd_cython.pyx:1457\u001b[0m, in \u001b[0;36m_pydevd_bundle.pydevd_cython.SafeCallWrapper.__call__\u001b[0;34m()\u001b[0m\n",
      "File \u001b[0;32m_pydevd_bundle/pydevd_cython.pyx:701\u001b[0m, in \u001b[0;36m_pydevd_bundle.pydevd_cython.PyDBFrame.trace_dispatch\u001b[0;34m()\u001b[0m\n",
      "File \u001b[0;32m_pydevd_bundle/pydevd_cython.pyx:1152\u001b[0m, in \u001b[0;36m_pydevd_bundle.pydevd_cython.PyDBFrame.trace_dispatch\u001b[0;34m()\u001b[0m\n",
      "File \u001b[0;32m_pydevd_bundle/pydevd_cython.pyx:1135\u001b[0m, in \u001b[0;36m_pydevd_bundle.pydevd_cython.PyDBFrame.trace_dispatch\u001b[0;34m()\u001b[0m\n",
      "File \u001b[0;32m_pydevd_bundle/pydevd_cython.pyx:312\u001b[0m, in \u001b[0;36m_pydevd_bundle.pydevd_cython.PyDBFrame.do_wait_suspend\u001b[0;34m()\u001b[0m\n",
      "File \u001b[0;32m~/Documents/medicaid/DeepImpute/.venv/lib/python3.11/site-packages/debugpy/_vendored/pydevd/pydevd.py:2070\u001b[0m, in \u001b[0;36mPyDB.do_wait_suspend\u001b[0;34m(self, thread, frame, event, arg, exception_type)\u001b[0m\n\u001b[1;32m   2067\u001b[0m             from_this_thread\u001b[38;5;241m.\u001b[39mappend(frame_custom_thread_id)\n\u001b[1;32m   2069\u001b[0m     \u001b[38;5;28;01mwith\u001b[39;00m \u001b[38;5;28mself\u001b[39m\u001b[38;5;241m.\u001b[39m_threads_suspended_single_notification\u001b[38;5;241m.\u001b[39mnotify_thread_suspended(thread_id, thread, stop_reason):\n\u001b[0;32m-> 2070\u001b[0m         keep_suspended \u001b[38;5;241m=\u001b[39m \u001b[38;5;28;43mself\u001b[39;49m\u001b[38;5;241;43m.\u001b[39;49m\u001b[43m_do_wait_suspend\u001b[49m\u001b[43m(\u001b[49m\u001b[43mthread\u001b[49m\u001b[43m,\u001b[49m\u001b[43m \u001b[49m\u001b[43mframe\u001b[49m\u001b[43m,\u001b[49m\u001b[43m \u001b[49m\u001b[43mevent\u001b[49m\u001b[43m,\u001b[49m\u001b[43m \u001b[49m\u001b[43marg\u001b[49m\u001b[43m,\u001b[49m\u001b[43m \u001b[49m\u001b[43msuspend_type\u001b[49m\u001b[43m,\u001b[49m\u001b[43m \u001b[49m\u001b[43mfrom_this_thread\u001b[49m\u001b[43m,\u001b[49m\u001b[43m \u001b[49m\u001b[43mframes_tracker\u001b[49m\u001b[43m)\u001b[49m\n\u001b[1;32m   2072\u001b[0m frames_list \u001b[38;5;241m=\u001b[39m \u001b[38;5;28;01mNone\u001b[39;00m\n\u001b[1;32m   2074\u001b[0m \u001b[38;5;28;01mif\u001b[39;00m keep_suspended:\n\u001b[1;32m   2075\u001b[0m     \u001b[38;5;66;03m# This means that we should pause again after a set next statement.\u001b[39;00m\n",
      "File \u001b[0;32m~/Documents/medicaid/DeepImpute/.venv/lib/python3.11/site-packages/debugpy/_vendored/pydevd/pydevd.py:2106\u001b[0m, in \u001b[0;36mPyDB._do_wait_suspend\u001b[0;34m(self, thread, frame, event, arg, suspend_type, from_this_thread, frames_tracker)\u001b[0m\n\u001b[1;32m   2103\u001b[0m         \u001b[38;5;28mself\u001b[39m\u001b[38;5;241m.\u001b[39m_call_input_hook()\n\u001b[1;32m   2105\u001b[0m     \u001b[38;5;28mself\u001b[39m\u001b[38;5;241m.\u001b[39mprocess_internal_commands()\n\u001b[0;32m-> 2106\u001b[0m     time\u001b[38;5;241m.\u001b[39msleep(\u001b[38;5;241m0.01\u001b[39m)\n\u001b[1;32m   2108\u001b[0m \u001b[38;5;28mself\u001b[39m\u001b[38;5;241m.\u001b[39mcancel_async_evaluation(get_current_thread_id(thread), \u001b[38;5;28mstr\u001b[39m(\u001b[38;5;28mid\u001b[39m(frame)))\n\u001b[1;32m   2110\u001b[0m \u001b[38;5;66;03m# process any stepping instructions\u001b[39;00m\n",
      "\u001b[0;31mKeyboardInterrupt\u001b[0m: "
     ]
    }
   ],
   "source": [
    "import pandas as pd\n",
    "import os\n",
    "\n",
    "# Directories\n",
    "output_dir_combined = \"../../../Data/Filtered_unphased_training_data_union_final/\"\n",
    "maf_output_dir = \"../../../Data/MAF_calculations/\"\n",
    "\n",
    "os.makedirs(maf_output_dir, exist_ok=True)\n",
    "\n",
    "def calculate_maf(combined_data_df):\n",
    "    maf_dict = {}\n",
    "    for col in combined_data_df.columns:\n",
    "        allele_counts = combined_data_df[col].value_counts()\n",
    "        total_alleles = allele_counts.sum() * 2\n",
    "        \n",
    "        # Minor allele frequency calculation\n",
    "        if 1 in allele_counts.index or 2 in allele_counts.index:\n",
    "            minor_allele_count = allele_counts.get(1, 0) + allele_counts.get(2, 0) * 2\n",
    "            maf = minor_allele_count / total_alleles\n",
    "        else:\n",
    "            maf = 0\n",
    "        \n",
    "        maf_dict[col] = maf\n",
    "    return maf_dict\n",
    "\n",
    "maf_results = {}\n",
    "\n",
    "for chromosome_number in range(1, 23):\n",
    "    file_dir = output_dir_combined + f\"23AndMe_PRS313_merged_chr{chromosome_number}_matching_combined.parquet\"\n",
    "\n",
    "    # Load combined data into a pandas DataFrame\n",
    "    combined_data_df = pd.read_parquet(file_dir)\n",
    "\n",
    "    # Calculate MAF\n",
    "    maf_dict = calculate_maf(combined_data_df)\n",
    "\n",
    "    # Save MAF results\n",
    "    maf_results[f'chr{chromosome_number}'] = maf_dict\n",
    "    maf_output_file = maf_output_dir + f\"23AndMe_PRS313_merged_chr{chromosome_number}_MAF.csv\"\n",
    "    maf_df = pd.DataFrame(list(maf_dict.items()), columns=['SNP', 'MAF'])\n",
    "    maf_df.to_csv(maf_output_file, index=False)\n",
    "\n",
    "    print(f\"Chromosome {chromosome_number} MAF calculated and saved.\")\n",
    "\n",
    "# Optionally, save all MAF results in one file\n",
    "maf_combined_output_file = maf_output_dir + \"23AndMe_PRS313_all_chromosomes_MAF.csv\"\n",
    "maf_combined_df = pd.concat([pd.DataFrame.from_dict(maf_results[chr], orient='index', columns=['MAF']).reset_index().rename(columns={'index': 'SNP'}) for chr in maf_results.keys()])\n",
    "maf_combined_df.to_csv(maf_combined_output_file, index=False)\n",
    "\n",
    "print(\"All chromosomes MAF calculated and combined file saved.\")\n"
   ]
  }
 ],
 "metadata": {
  "kernelspec": {
   "display_name": ".venv",
   "language": "python",
   "name": "python3"
  },
  "language_info": {
   "codemirror_mode": {
    "name": "ipython",
    "version": 3
   },
   "file_extension": ".py",
   "mimetype": "text/x-python",
   "name": "python",
   "nbconvert_exporter": "python",
   "pygments_lexer": "ipython3",
   "version": "3.11.1"
  }
 },
 "nbformat": 4,
 "nbformat_minor": 2
}
