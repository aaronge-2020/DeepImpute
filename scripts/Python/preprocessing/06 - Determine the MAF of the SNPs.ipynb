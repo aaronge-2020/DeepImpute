{
 "cells": [
  {
   "cell_type": "code",
   "execution_count": 5,
   "metadata": {},
   "outputs": [
    {
     "name": "stdout",
     "output_type": "stream",
     "text": [
      "Chromosome 1 MAF calculated and saved.\n",
      "Chromosome 2 MAF calculated and saved.\n",
      "Chromosome 3 MAF calculated and saved.\n",
      "Chromosome 4 MAF calculated and saved.\n",
      "Chromosome 5 MAF calculated and saved.\n",
      "Chromosome 6 MAF calculated and saved.\n",
      "Chromosome 7 MAF calculated and saved.\n",
      "Chromosome 8 MAF calculated and saved.\n",
      "Chromosome 9 MAF calculated and saved.\n",
      "Chromosome 10 MAF calculated and saved.\n",
      "Chromosome 11 MAF calculated and saved.\n",
      "Chromosome 12 MAF calculated and saved.\n",
      "Chromosome 13 MAF calculated and saved.\n",
      "Chromosome 14 MAF calculated and saved.\n",
      "Chromosome 15 MAF calculated and saved.\n",
      "Chromosome 16 MAF calculated and saved.\n",
      "Chromosome 17 MAF calculated and saved.\n",
      "Chromosome 18 MAF calculated and saved.\n",
      "Chromosome 19 MAF calculated and saved.\n",
      "Chromosome 20 MAF calculated and saved.\n",
      "Chromosome 21 MAF calculated and saved.\n",
      "Chromosome 22 MAF calculated and saved.\n",
      "All chromosomes MAF calculated and combined file saved.\n"
     ]
    }
   ],
   "source": [
    "import pandas as pd\n",
    "import os\n",
    "\n",
    "# Directories\n",
    "output_dir_combined = \"../../../Data/Filtered_unphased_training_data_union_final/\"\n",
    "maf_output_dir = \"../../../Data/MAF_calculations/\"\n",
    "\n",
    "os.makedirs(maf_output_dir, exist_ok=True)\n",
    "\n",
    "def calculate_maf(combined_data_df):\n",
    "    maf_dict = {}\n",
    "    for col in combined_data_df.columns:\n",
    "        allele_counts = combined_data_df[col].value_counts()\n",
    "        total_alleles = allele_counts.sum() * 2\n",
    "        \n",
    "        # Minor allele frequency calculation\n",
    "        if 1 in allele_counts.index or 2 in allele_counts.index:\n",
    "            minor_allele_count = allele_counts.get(1, 0) + allele_counts.get(2, 0) * 2\n",
    "            maf = minor_allele_count / total_alleles\n",
    "        else:\n",
    "            maf = 0\n",
    "        \n",
    "        maf_dict[col] = maf\n",
    "    return maf_dict\n",
    "\n",
    "maf_results = {}\n",
    "\n",
    "for chromosome_number in range(1, 23):\n",
    "    file_dir = output_dir_combined + f\"23AndMe_PRS313_merged_chr{chromosome_number}_matching_combined.parquet\"\n",
    "\n",
    "    # Load combined data into a pandas DataFrame\n",
    "    combined_data_df = pd.read_parquet(file_dir)\n",
    "\n",
    "    # Calculate MAF\n",
    "    maf_dict = calculate_maf(combined_data_df)\n",
    "\n",
    "    # Save MAF results\n",
    "    maf_results[f'chr{chromosome_number}'] = maf_dict\n",
    "    maf_output_file = maf_output_dir + f\"23AndMe_PRS313_merged_chr{chromosome_number}_MAF.csv\"\n",
    "    maf_df = pd.DataFrame(list(maf_dict.items()), columns=['SNP', 'MAF'])\n",
    "    maf_df.to_csv(maf_output_file, index=False)\n",
    "\n",
    "    print(f\"Chromosome {chromosome_number} MAF calculated and saved.\")\n",
    "\n",
    "# Optionally, save all MAF results in one file\n",
    "maf_combined_output_file = maf_output_dir + \"23AndMe_PRS313_all_chromosomes_MAF.csv\"\n",
    "maf_combined_df = pd.concat([pd.DataFrame.from_dict(maf_results[chr], orient='index', columns=['MAF']).reset_index().rename(columns={'index': 'SNP'}) for chr in maf_results.keys()])\n",
    "maf_combined_df.to_csv(maf_combined_output_file, index=False)\n",
    "\n",
    "print(\"All chromosomes MAF calculated and combined file saved.\")\n"
   ]
  }
 ],
 "metadata": {
  "kernelspec": {
   "display_name": ".venv",
   "language": "python",
   "name": "python3"
  },
  "language_info": {
   "codemirror_mode": {
    "name": "ipython",
    "version": 3
   },
   "file_extension": ".py",
   "mimetype": "text/x-python",
   "name": "python",
   "nbconvert_exporter": "python",
   "pygments_lexer": "ipython3",
   "version": "3.11.1"
  }
 },
 "nbformat": 4,
 "nbformat_minor": 2
}
