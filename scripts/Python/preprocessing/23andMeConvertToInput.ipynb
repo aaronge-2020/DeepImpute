{
 "cells": [
  {
   "cell_type": "code",
   "execution_count": 66,
   "metadata": {},
   "outputs": [
    {
     "name": "stderr",
     "output_type": "stream",
     "text": [
      "/var/folders/yg/982c10113957_2gb06y92y35sx509h/T/ipykernel_11873/2964836441.py:7: DtypeWarning: Columns (1) have mixed types. Specify dtype option on import or set low_memory=False.\n",
      "  andme_data = pd.read_csv(andme_data_path, sep='\\t', comment='#', header=None, names=['rsid', 'chromosome', 'position', 'genotype'])\n"
     ]
    }
   ],
   "source": [
    "import pandas as pd\n",
    "import numpy as np\n",
    "\n",
    "def process_23andme_data(position_info_path, andme_data_path, output_path):\n",
    "    def read_data(position_info_path, andme_data_path):\n",
    "        position_info = pd.read_csv(position_info_path)\n",
    "        andme_data = pd.read_csv(andme_data_path, sep='\\t', comment='#', header=None, names=['rsid', 'chromosome', 'position', 'genotype'])\n",
    "        return position_info, andme_data\n",
    "\n",
    "    def merge_data(position_info, andme_data):\n",
    "        return pd.merge(position_info, andme_data, left_on='RS_Number', right_on='rsid', how='left')\n",
    "\n",
    "    def create_allele_columns(data):\n",
    "        data['maternal_allele'] = data['genotype'].str[0]\n",
    "        data['paternal_allele'] = data['genotype'].str[1]\n",
    "        return data\n",
    "\n",
    "    def calc_dosage(allele, alt_allele):\n",
    "        return np.where(pd.isna(allele) | pd.isna(alt_allele), np.nan, np.where(allele == alt_allele, 1, 0))\n",
    "\n",
    "    def apply_dosage_calculation(data):\n",
    "        data['maternal_dosage'] = calc_dosage(data['maternal_allele'], data['Alt'])\n",
    "        data['paternal_dosage'] = calc_dosage(data['paternal_allele'], data['Alt'])\n",
    "        data['unphased_dosage'] = data['maternal_dosage'] + data['paternal_dosage']\n",
    "        return data\n",
    "\n",
    "    def create_phased_columns(data):\n",
    "        coord_prefix = data['Coord'].str.split(':').str[0]\n",
    "        position = data['Coord'].str.split(':').str[1]\n",
    "        ref = data['Alleles'].apply(lambda x: x.split('/')[0][1])\n",
    "        alt = data['Alleles'].apply(lambda x: x.split('/')[1][0])\n",
    "        data['phased_column_maternal'] = coord_prefix + '_' + position + '_' + ref + '_' + alt + '_maternal'\n",
    "        data['phased_column_paternal'] = coord_prefix + '_' + position + '_' + ref + '_' + alt + '_paternal'\n",
    "        data['unphased_column'] = coord_prefix + '_' + position + '_' + ref + '_' + alt + '_combined'\n",
    "        return data\n",
    "\n",
    "    def create_output_dataframe(data):\n",
    "        new_data = {\n",
    "            **dict(zip(data[\"phased_column_maternal\"], data[\"maternal_dosage\"])),\n",
    "            **dict(zip(data[\"phased_column_paternal\"], data[\"paternal_dosage\"])),\n",
    "            **dict(zip(data[\"unphased_column\"], data[\"unphased_dosage\"]))\n",
    "        }\n",
    "        df = pd.DataFrame([new_data])\n",
    "        return df.sort_index(axis=1)\n",
    "\n",
    "    def save_to_csv(df, output_path):\n",
    "        df.to_csv(output_path, index=False)\n",
    "\n",
    "    # Pipeline execution\n",
    "    position_info, andme_data = read_data(position_info_path, andme_data_path)\n",
    "    merged_data = merge_data(position_info, andme_data)\n",
    "    merged_data = create_allele_columns(merged_data)\n",
    "    merged_data = apply_dosage_calculation(merged_data)\n",
    "    merged_data = create_phased_columns(merged_data)\n",
    "    output_df = create_output_dataframe(merged_data)\n",
    "    save_to_csv(output_df, output_path)\n",
    "\n",
    "# Example usage:\n",
    "process_23andme_data('../../Data/Filtered_unphased_training_data_union_final/23andMe_matching_variants_updated.csv', \n",
    "                     '../../Data/23andMe_files/6800.23andme.10042.txt', \n",
    "                     'output.csv')\n"
   ]
  },
  {
   "cell_type": "code",
   "execution_count": null,
   "metadata": {},
   "outputs": [],
   "source": [
    "# Create the new dictionary with the desired structure\n"
   ]
  },
  {
   "cell_type": "code",
   "execution_count": null,
   "metadata": {},
   "outputs": [],
   "source": []
  },
  {
   "cell_type": "code",
   "execution_count": null,
   "metadata": {},
   "outputs": [],
   "source": [
    "# Create the new dictionary with the desired structure\n"
   ]
  }
 ],
 "metadata": {
  "kernelspec": {
   "display_name": ".venv",
   "language": "python",
   "name": "python3"
  },
  "language_info": {
   "codemirror_mode": {
    "name": "ipython",
    "version": 3
   },
   "file_extension": ".py",
   "mimetype": "text/x-python",
   "name": "python",
   "nbconvert_exporter": "python",
   "pygments_lexer": "ipython3",
   "version": "3.11.1"
  }
 },
 "nbformat": 4,
 "nbformat_minor": 2
}
