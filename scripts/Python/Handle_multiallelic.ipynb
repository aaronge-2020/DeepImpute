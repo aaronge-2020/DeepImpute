{
 "cells": [
  {
   "cell_type": "code",
   "execution_count": null,
   "metadata": {},
   "outputs": [],
   "source": [
    "# Get the chromosome positions in PRS313 from ./positions/locations.txt\n",
    "PRS313_positions = pd.read_excel('../../Data/PRS313.xlsx')\n",
    "\n",
    "# Rename the SNPa column to have a \"chr\" at the beginning\n",
    "PRS313_positions['SNPa'] = 'chr' + PRS313_positions['SNPa'].astype(str)\n",
    "\n"
   ]
  },
  {
   "cell_type": "code",
   "execution_count": null,
   "metadata": {},
   "outputs": [],
   "source": [
    "# Filter the data to only include the positions in PRS313 \n",
    "\n",
    "excluded_data = data.loc[:, ~data.columns.isin(PRS313_positions['SNPa'])]\n",
    "\n",
    "\n",
    "data = data.loc[:, data.columns.isin(PRS313_positions['SNPa'])]\n",
    "\n",
    "data\n"
   ]
  },
  {
   "cell_type": "code",
   "execution_count": null,
   "metadata": {},
   "outputs": [],
   "source": [
    "data.max().max()"
   ]
  },
  {
   "cell_type": "code",
   "execution_count": null,
   "metadata": {},
   "outputs": [],
   "source": [
    "excluded_data"
   ]
  },
  {
   "cell_type": "code",
   "execution_count": null,
   "metadata": {},
   "outputs": [],
   "source": [
    "import numpy as np\n",
    "\n",
    "def replace_non_index(value, index):\n",
    "    \n",
    "    alleles = value.split('|')\n",
    "    \n",
    "    processed_alleles = []\n",
    "    for allele in alleles:\n",
    "        if int(allele) == 0 or int(allele) != int(index):\n",
    "            processed_alleles.append(\"0\")\n",
    "        else:\n",
    "            processed_alleles.append(\"1\")\n",
    "    \n",
    "\n",
    "    if (int(alleles[0]) > 1):\n",
    "        print(\"PRS313 SNP: \", index)\n",
    "        print(\"Original Data: \",alleles,\"Processed Data: \", '|'.join(processed_alleles))\n",
    "\n",
    "    return '|'.join(processed_alleles)\n",
    "\n",
    "# Loop through the missing positions and add them to the data with the values in excluded_data\n",
    "for index, row in missing_positions.iterrows():\n",
    "\n",
    "\n",
    "    chromosome = row.Chromosome\n",
    "    position = row.Positionb\n",
    "    snp = 'chr' + str(chromosome) + '_' + str(position)\n",
    "    PRS313_alternate_alleles = row[\"Effect Allele\"]\n",
    "\n",
    "    # Find in excluded data the columns with names that begin with snp\n",
    "    snp_data = excluded_data.filter(like=snp)\n",
    "\n",
    "    excluded_data_snp = snp_data.columns[0]\n",
    "\n",
    "    excluded_data_snp_alternate_alleles = excluded_data_snp.split('_')[3].split(',')\n",
    "    \n",
    "    # Find index of PRS313_alternate_alleles in excluded_data_snp_alternate_alleles\n",
    "\n",
    "    index = excluded_data_snp_alternate_alleles.index(PRS313_alternate_alleles) + 1\n",
    "\n",
    "    # print(\"PRS313 SNP: \", PRS313_alternate_alleles)\n",
    "    # print(\"Excluded data SNP: \", excluded_data_snp_alternate_alleles)\n",
    "    # print(\"Alternate Allele value of PRS313 SNP in 1000 Genomes VCF: \",index)\n",
    "\n",
    "    snp_data = snp_data.applymap(lambda x: replace_non_index(x, index))\n",
    "            \n",
    "    \n",
    "    # Add snp_data to data\n",
    "    data = pd.concat([data, snp_data], axis=1)"
   ]
  },
  {
   "cell_type": "code",
   "execution_count": null,
   "metadata": {},
   "outputs": [],
   "source": [
    "# Get the number of rows where a value of greater than 1 appeared\n",
    "data.loc[(data > 1).any(axis=1)]\n"
   ]
  },
  {
   "cell_type": "code",
   "execution_count": null,
   "metadata": {},
   "outputs": [],
   "source": [
    "# Get the number of columns where a value of greater than 1 appeared\n",
    "data.loc[:, (data > 1).any()]"
   ]
  }
 ],
 "metadata": {
  "language_info": {
   "name": "python"
  }
 },
 "nbformat": 4,
 "nbformat_minor": 2
}
