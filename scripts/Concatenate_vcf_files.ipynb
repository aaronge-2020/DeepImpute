{
 "cells": [
  {
   "cell_type": "code",
   "execution_count": 2,
   "metadata": {},
   "outputs": [
    {
     "name": "stdout",
     "output_type": "stream",
     "text": [
      "CSV file has been created.\n"
     ]
    }
   ],
   "source": [
    "import pandas as pd\n",
    "import glob\n",
    "import os\n",
    "\n",
    "def read_vcf_header(file_path):\n",
    "    \"\"\"Reads the VCF file header (column names) and returns it.\"\"\"\n",
    "    with open(file_path, 'r') as file:\n",
    "        for line in file:\n",
    "            if line.startswith('#CHROM'):\n",
    "                return line.strip().split('\\t')\n",
    "    return []\n",
    "\n",
    "def extract_snp_data(file_path, header):\n",
    "    \"\"\"Extracts SNP data from a VCF file.\"\"\"\n",
    "    snp_data = []\n",
    "    with open(file_path, 'r') as file:\n",
    "        for line in file:\n",
    "            if not line.startswith('#'):\n",
    "                fields = line.strip().split('\\t')\n",
    "                chrom, pos = fields[0], fields[1]\n",
    "                snp_id = f\"chr{chrom}_{pos}\"\n",
    "                genotype_data = fields[9:]  # Genotype data starts from the 10th column\n",
    "                snp_data.append((snp_id, genotype_data))\n",
    "    return snp_data\n",
    "\n",
    "def process_vcf_files(directory):\n",
    "    \"\"\"Processes all VCF files in the specified directory.\"\"\"\n",
    "    vcf_files = glob.glob(os.path.join(directory, '*.vcf'))\n",
    "    all_snp_data = []\n",
    "    patient_ids = None\n",
    "    \n",
    "    for file_path in vcf_files:\n",
    "        if patient_ids is None:\n",
    "            patient_ids = read_vcf_header(file_path)[9:]  # Assuming the first 9 columns are standard VCF columns\n",
    "        \n",
    "        snp_data = extract_snp_data(file_path, patient_ids)\n",
    "        all_snp_data.extend(snp_data)\n",
    "\n",
    "    # Convert the collected SNP data to a DataFrame\n",
    "    data_dict = {snp_id: genotypes for snp_id, genotypes in all_snp_data}\n",
    "    df = pd.DataFrame(data_dict, index=patient_ids).transpose()\n",
    "    return df\n",
    "\n",
    "# Replace 'your_directory_path' with the path to your directory containing the VCF files\n",
    "directory_path = '../data/'\n",
    "df = process_vcf_files(directory_path)\n",
    "\n",
    "# To display the first few rows of the dataframe\n",
    "print(df.head())\n",
    "\n",
    "# If you want to save this DataFrame to a CSV file for further analysis\n",
    "df.to_csv('concatenated_snps.csv')\n"
   ]
  },
  {
   "cell_type": "code",
   "execution_count": null,
   "metadata": {},
   "outputs": [],
   "source": [
    "import pandas as pd"
   ]
  }
 ],
 "metadata": {
  "kernelspec": {
   "display_name": "Python 3",
   "language": "python",
   "name": "python3"
  },
  "language_info": {
   "codemirror_mode": {
    "name": "ipython",
    "version": 3
   },
   "file_extension": ".py",
   "mimetype": "text/x-python",
   "name": "python",
   "nbconvert_exporter": "python",
   "pygments_lexer": "ipython3",
   "version": "3.11.1"
  }
 },
 "nbformat": 4,
 "nbformat_minor": 2
}
